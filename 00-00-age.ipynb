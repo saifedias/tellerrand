{
 "cells": [
  {
   "cell_type": "code",
   "execution_count": 1,
   "id": "26fd28c6",
   "metadata": {
    "_cell_guid": "b1076dfc-b9ad-4769-8c92-a6c4dae69d19",
    "_uuid": "8f2839f25d086af736a60e9eeb907d3b93b6e0e5",
    "execution": {
     "iopub.execute_input": "2022-04-21T11:28:30.853755Z",
     "iopub.status.busy": "2022-04-21T11:28:30.853156Z",
     "iopub.status.idle": "2022-04-21T11:28:30.863263Z",
     "shell.execute_reply": "2022-04-21T11:28:30.862446Z"
    },
    "papermill": {
     "duration": 0.018593,
     "end_time": "2022-04-21T11:28:30.865313",
     "exception": false,
     "start_time": "2022-04-21T11:28:30.846720",
     "status": "completed"
    },
    "tags": []
   },
   "outputs": [],
   "source": [
    "import pandas as pd"
   ]
  },
  {
   "cell_type": "code",
   "execution_count": 2,
   "id": "cf7fe570",
   "metadata": {
    "execution": {
     "iopub.execute_input": "2022-04-21T11:28:30.874513Z",
     "iopub.status.busy": "2022-04-21T11:28:30.873893Z",
     "iopub.status.idle": "2022-04-21T11:28:30.894900Z",
     "shell.execute_reply": "2022-04-21T11:28:30.893736Z"
    },
    "papermill": {
     "duration": 0.028749,
     "end_time": "2022-04-21T11:28:30.897952",
     "exception": false,
     "start_time": "2022-04-21T11:28:30.869203",
     "status": "completed"
    },
    "tags": []
   },
   "outputs": [],
   "source": [
    "train_data = pd.read_csv(\"/kaggle/input/titanic/train.csv\")"
   ]
  }
 ],
 "metadata": {
  "kernelspec": {
   "display_name": "Python 3",
   "language": "python",
   "name": "python3"
  },
  "language_info": {
   "codemirror_mode": {
    "name": "ipython",
    "version": 3
   },
   "file_extension": ".py",
   "mimetype": "text/x-python",
   "name": "python",
   "nbconvert_exporter": "python",
   "pygments_lexer": "ipython3",
   "version": "3.7.12"
  },
  "papermill": {
   "default_parameters": {},
   "duration": 11.476918,
   "end_time": "2022-04-21T11:28:31.824913",
   "environment_variables": {},
   "exception": null,
   "input_path": "__notebook__.ipynb",
   "output_path": "__notebook__.ipynb",
   "parameters": {},
   "start_time": "2022-04-21T11:28:20.347995",
   "version": "2.3.4"
  }
 },
 "nbformat": 4,
 "nbformat_minor": 5
}
