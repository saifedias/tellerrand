{
 "cells": [
  {
   "cell_type": "code",
   "execution_count": 1,
   "id": "3fa20f42",
   "metadata": {
    "_cell_guid": "b1076dfc-b9ad-4769-8c92-a6c4dae69d19",
    "_uuid": "8f2839f25d086af736a60e9eeb907d3b93b6e0e5",
    "execution": {
     "iopub.execute_input": "2022-04-20T08:05:54.000867Z",
     "iopub.status.busy": "2022-04-20T08:05:54.000373Z",
     "iopub.status.idle": "2022-04-20T08:05:55.073851Z",
     "shell.execute_reply": "2022-04-20T08:05:55.073168Z"
    },
    "papermill": {
     "duration": 1.118969,
     "end_time": "2022-04-20T08:05:55.076342",
     "exception": false,
     "start_time": "2022-04-20T08:05:53.957373",
     "status": "completed"
    },
    "tags": []
   },
   "outputs": [],
   "source": [
    "import multiprocessing\n",
    "import pandas as pd\n",
    "from sklearn.model_selection import GridSearchCV, RepeatedKFold\n",
    "from sklearn import neighbors\n",
    "from sklearn import preprocessing"
   ]
  },
  {
   "cell_type": "code",
   "execution_count": 2,
   "id": "3ee41152",
   "metadata": {
    "execution": {
     "iopub.execute_input": "2022-04-20T08:05:55.135090Z",
     "iopub.status.busy": "2022-04-20T08:05:55.134363Z",
     "iopub.status.idle": "2022-04-20T08:05:55.141891Z",
     "shell.execute_reply": "2022-04-20T08:05:55.141115Z"
    },
    "papermill": {
     "duration": 0.038874,
     "end_time": "2022-04-20T08:05:55.144090",
     "exception": false,
     "start_time": "2022-04-20T08:05:55.105216",
     "status": "completed"
    },
    "tags": []
   },
   "outputs": [],
   "source": [
    "def select_model_hyperparams(X, y):\n",
    "    n_cpus = int(round(multiprocessing.cpu_count() * 0.875))\n",
    "    \n",
    "    print(\"using {} CPUs\".format(n_cpus))\n",
    "    \n",
    "    neighbors_params = {\"n_neighbors\": [1, 2, 4, 6, 8, 10, 12, 14, 16],\n",
    "                        \"weights\": [\"uniform\", \"distance\"],\n",
    "                        \"p\": [1, 2]\n",
    "                       }\n",
    "\n",
    "    clf = GridSearchCV(neighbors.KNeighborsClassifier(),\n",
    "                      param_grid = neighbors_params,\n",
    "                      scoring    = \"accuracy\",\n",
    "                      cv         = RepeatedKFold(n_splits=5, n_repeats=20, random_state=2),\n",
    "                      n_jobs     = n_cpus,\n",
    "                      verbose    = 1)\n",
    "\n",
    "    return clf.fit(X, y)"
   ]
  },
  {
   "cell_type": "code",
   "execution_count": 3,
   "id": "8af62de7",
   "metadata": {
    "execution": {
     "iopub.execute_input": "2022-04-20T08:05:55.203420Z",
     "iopub.status.busy": "2022-04-20T08:05:55.202850Z",
     "iopub.status.idle": "2022-04-20T08:05:55.209213Z",
     "shell.execute_reply": "2022-04-20T08:05:55.208465Z"
    },
    "papermill": {
     "duration": 0.038118,
     "end_time": "2022-04-20T08:05:55.211381",
     "exception": false,
     "start_time": "2022-04-20T08:05:55.173263",
     "status": "completed"
    },
    "tags": []
   },
   "outputs": [],
   "source": [
    "def prepare_Xdata(data):\n",
    "    feature_names = [\"Pclass\", \"Sex\", \"Age\", \"SibSp\", \"Parch\", \"Fare\", \"Embarked\"]\n",
    "    X = data[feature_names]\n",
    "    \n",
    "    X = pd.get_dummies(X)\n",
    "    new_feature_names = X.columns\n",
    "    \n",
    "    X.fillna(value=X.Age.median(), axis=1, inplace=True)\n",
    "    \n",
    "    return (X, new_feature_names)"
   ]
  },
  {
   "cell_type": "code",
   "execution_count": 4,
   "id": "d694660b",
   "metadata": {
    "execution": {
     "iopub.execute_input": "2022-04-20T08:05:55.270824Z",
     "iopub.status.busy": "2022-04-20T08:05:55.270296Z",
     "iopub.status.idle": "2022-04-20T08:05:55.297421Z",
     "shell.execute_reply": "2022-04-20T08:05:55.296498Z"
    },
    "papermill": {
     "duration": 0.059626,
     "end_time": "2022-04-20T08:05:55.300415",
     "exception": false,
     "start_time": "2022-04-20T08:05:55.240789",
     "status": "completed"
    },
    "tags": []
   },
   "outputs": [
    {
     "name": "stdout",
     "output_type": "stream",
     "text": [
      "(891, 12)\n",
      "(418, 11)\n"
     ]
    }
   ],
   "source": [
    "train_data = pd.read_csv(\"/kaggle/input/titanic/train.csv\")\n",
    "test_data = pd.read_csv(\"/kaggle/input/titanic/test.csv\")\n",
    "print(train_data.shape)\n",
    "print(test_data.shape)"
   ]
  },
  {
   "cell_type": "code",
   "execution_count": 5,
   "id": "6162933b",
   "metadata": {
    "execution": {
     "iopub.execute_input": "2022-04-20T08:05:55.361844Z",
     "iopub.status.busy": "2022-04-20T08:05:55.361586Z",
     "iopub.status.idle": "2022-04-20T08:05:55.392578Z",
     "shell.execute_reply": "2022-04-20T08:05:55.391764Z"
    },
    "papermill": {
     "duration": 0.063032,
     "end_time": "2022-04-20T08:05:55.394706",
     "exception": false,
     "start_time": "2022-04-20T08:05:55.331674",
     "status": "completed"
    },
    "tags": []
   },
   "outputs": [],
   "source": [
    "X_train, feature_names = prepare_Xdata(train_data)\n",
    "X_test, _ = prepare_Xdata(test_data)"
   ]
  },
  {
   "cell_type": "code",
   "execution_count": 6,
   "id": "7a723c4e",
   "metadata": {
    "execution": {
     "iopub.execute_input": "2022-04-20T08:05:55.454126Z",
     "iopub.status.busy": "2022-04-20T08:05:55.453368Z",
     "iopub.status.idle": "2022-04-20T08:05:55.461983Z",
     "shell.execute_reply": "2022-04-20T08:05:55.461007Z"
    },
    "papermill": {
     "duration": 0.041088,
     "end_time": "2022-04-20T08:05:55.464520",
     "exception": false,
     "start_time": "2022-04-20T08:05:55.423432",
     "status": "completed"
    },
    "tags": []
   },
   "outputs": [
    {
     "data": {
      "text/plain": [
       "(891, 10)"
      ]
     },
     "execution_count": 6,
     "metadata": {},
     "output_type": "execute_result"
    }
   ],
   "source": [
    "X_train.shape"
   ]
  },
  {
   "cell_type": "code",
   "execution_count": 7,
   "id": "53ae22ec",
   "metadata": {
    "execution": {
     "iopub.execute_input": "2022-04-20T08:05:55.524441Z",
     "iopub.status.busy": "2022-04-20T08:05:55.523719Z",
     "iopub.status.idle": "2022-04-20T08:05:55.529669Z",
     "shell.execute_reply": "2022-04-20T08:05:55.528897Z"
    },
    "papermill": {
     "duration": 0.038358,
     "end_time": "2022-04-20T08:05:55.531796",
     "exception": false,
     "start_time": "2022-04-20T08:05:55.493438",
     "status": "completed"
    },
    "tags": []
   },
   "outputs": [
    {
     "data": {
      "text/plain": [
       "(418, 10)"
      ]
     },
     "execution_count": 7,
     "metadata": {},
     "output_type": "execute_result"
    }
   ],
   "source": [
    "X_test.shape"
   ]
  },
  {
   "cell_type": "code",
   "execution_count": 8,
   "id": "6ae75a71",
   "metadata": {
    "execution": {
     "iopub.execute_input": "2022-04-20T08:05:55.593948Z",
     "iopub.status.busy": "2022-04-20T08:05:55.593324Z",
     "iopub.status.idle": "2022-04-20T08:05:55.610223Z",
     "shell.execute_reply": "2022-04-20T08:05:55.609359Z"
    },
    "papermill": {
     "duration": 0.051012,
     "end_time": "2022-04-20T08:05:55.612269",
     "exception": false,
     "start_time": "2022-04-20T08:05:55.561257",
     "status": "completed"
    },
    "tags": []
   },
   "outputs": [
    {
     "data": {
      "text/html": [
       "<div>\n",
       "<style scoped>\n",
       "    .dataframe tbody tr th:only-of-type {\n",
       "        vertical-align: middle;\n",
       "    }\n",
       "\n",
       "    .dataframe tbody tr th {\n",
       "        vertical-align: top;\n",
       "    }\n",
       "\n",
       "    .dataframe thead th {\n",
       "        text-align: right;\n",
       "    }\n",
       "</style>\n",
       "<table border=\"1\" class=\"dataframe\">\n",
       "  <thead>\n",
       "    <tr style=\"text-align: right;\">\n",
       "      <th></th>\n",
       "      <th>Pclass</th>\n",
       "      <th>Age</th>\n",
       "      <th>SibSp</th>\n",
       "      <th>Parch</th>\n",
       "      <th>Fare</th>\n",
       "      <th>Sex_female</th>\n",
       "      <th>Sex_male</th>\n",
       "      <th>Embarked_C</th>\n",
       "      <th>Embarked_Q</th>\n",
       "      <th>Embarked_S</th>\n",
       "    </tr>\n",
       "  </thead>\n",
       "  <tbody>\n",
       "    <tr>\n",
       "      <th>0</th>\n",
       "      <td>3</td>\n",
       "      <td>34.5</td>\n",
       "      <td>0</td>\n",
       "      <td>0</td>\n",
       "      <td>7.8292</td>\n",
       "      <td>0</td>\n",
       "      <td>1</td>\n",
       "      <td>0</td>\n",
       "      <td>1</td>\n",
       "      <td>0</td>\n",
       "    </tr>\n",
       "    <tr>\n",
       "      <th>1</th>\n",
       "      <td>3</td>\n",
       "      <td>47.0</td>\n",
       "      <td>1</td>\n",
       "      <td>0</td>\n",
       "      <td>7.0000</td>\n",
       "      <td>1</td>\n",
       "      <td>0</td>\n",
       "      <td>0</td>\n",
       "      <td>0</td>\n",
       "      <td>1</td>\n",
       "    </tr>\n",
       "    <tr>\n",
       "      <th>2</th>\n",
       "      <td>2</td>\n",
       "      <td>62.0</td>\n",
       "      <td>0</td>\n",
       "      <td>0</td>\n",
       "      <td>9.6875</td>\n",
       "      <td>0</td>\n",
       "      <td>1</td>\n",
       "      <td>0</td>\n",
       "      <td>1</td>\n",
       "      <td>0</td>\n",
       "    </tr>\n",
       "    <tr>\n",
       "      <th>3</th>\n",
       "      <td>3</td>\n",
       "      <td>27.0</td>\n",
       "      <td>0</td>\n",
       "      <td>0</td>\n",
       "      <td>8.6625</td>\n",
       "      <td>0</td>\n",
       "      <td>1</td>\n",
       "      <td>0</td>\n",
       "      <td>0</td>\n",
       "      <td>1</td>\n",
       "    </tr>\n",
       "    <tr>\n",
       "      <th>4</th>\n",
       "      <td>3</td>\n",
       "      <td>22.0</td>\n",
       "      <td>1</td>\n",
       "      <td>1</td>\n",
       "      <td>12.2875</td>\n",
       "      <td>1</td>\n",
       "      <td>0</td>\n",
       "      <td>0</td>\n",
       "      <td>0</td>\n",
       "      <td>1</td>\n",
       "    </tr>\n",
       "  </tbody>\n",
       "</table>\n",
       "</div>"
      ],
      "text/plain": [
       "   Pclass   Age  SibSp  Parch     Fare  Sex_female  Sex_male  Embarked_C  \\\n",
       "0       3  34.5      0      0   7.8292           0         1           0   \n",
       "1       3  47.0      1      0   7.0000           1         0           0   \n",
       "2       2  62.0      0      0   9.6875           0         1           0   \n",
       "3       3  27.0      0      0   8.6625           0         1           0   \n",
       "4       3  22.0      1      1  12.2875           1         0           0   \n",
       "\n",
       "   Embarked_Q  Embarked_S  \n",
       "0           1           0  \n",
       "1           0           1  \n",
       "2           1           0  \n",
       "3           0           1  \n",
       "4           0           1  "
      ]
     },
     "execution_count": 8,
     "metadata": {},
     "output_type": "execute_result"
    }
   ],
   "source": [
    "X_test.head()"
   ]
  },
  {
   "cell_type": "markdown",
   "id": "16a572a6",
   "metadata": {
    "papermill": {
     "duration": 0.029543,
     "end_time": "2022-04-20T08:05:55.671678",
     "exception": false,
     "start_time": "2022-04-20T08:05:55.642135",
     "status": "completed"
    },
    "tags": []
   },
   "source": [
    "---\n",
    "## scaling"
   ]
  },
  {
   "cell_type": "code",
   "execution_count": 9,
   "id": "cd32b5e8",
   "metadata": {
    "execution": {
     "iopub.execute_input": "2022-04-20T08:05:55.733777Z",
     "iopub.status.busy": "2022-04-20T08:05:55.733173Z",
     "iopub.status.idle": "2022-04-20T08:05:55.739828Z",
     "shell.execute_reply": "2022-04-20T08:05:55.739152Z"
    },
    "papermill": {
     "duration": 0.04045,
     "end_time": "2022-04-20T08:05:55.742166",
     "exception": false,
     "start_time": "2022-04-20T08:05:55.701716",
     "status": "completed"
    },
    "tags": []
   },
   "outputs": [],
   "source": [
    "all_data = pd.concat([X_train, X_test], ignore_index=True)"
   ]
  },
  {
   "cell_type": "code",
   "execution_count": 10,
   "id": "721adb3a",
   "metadata": {
    "execution": {
     "iopub.execute_input": "2022-04-20T08:05:55.804172Z",
     "iopub.status.busy": "2022-04-20T08:05:55.803637Z",
     "iopub.status.idle": "2022-04-20T08:05:55.809844Z",
     "shell.execute_reply": "2022-04-20T08:05:55.808892Z"
    },
    "papermill": {
     "duration": 0.039913,
     "end_time": "2022-04-20T08:05:55.812200",
     "exception": false,
     "start_time": "2022-04-20T08:05:55.772287",
     "status": "completed"
    },
    "tags": []
   },
   "outputs": [
    {
     "data": {
      "text/plain": [
       "(1309, 10)"
      ]
     },
     "execution_count": 10,
     "metadata": {},
     "output_type": "execute_result"
    }
   ],
   "source": [
    "all_data.shape"
   ]
  },
  {
   "cell_type": "code",
   "execution_count": 11,
   "id": "c603a252",
   "metadata": {
    "execution": {
     "iopub.execute_input": "2022-04-20T08:05:55.875154Z",
     "iopub.status.busy": "2022-04-20T08:05:55.874673Z",
     "iopub.status.idle": "2022-04-20T08:05:55.890237Z",
     "shell.execute_reply": "2022-04-20T08:05:55.889301Z"
    },
    "papermill": {
     "duration": 0.049467,
     "end_time": "2022-04-20T08:05:55.892228",
     "exception": false,
     "start_time": "2022-04-20T08:05:55.842761",
     "status": "completed"
    },
    "tags": []
   },
   "outputs": [
    {
     "data": {
      "text/html": [
       "<div>\n",
       "<style scoped>\n",
       "    .dataframe tbody tr th:only-of-type {\n",
       "        vertical-align: middle;\n",
       "    }\n",
       "\n",
       "    .dataframe tbody tr th {\n",
       "        vertical-align: top;\n",
       "    }\n",
       "\n",
       "    .dataframe thead th {\n",
       "        text-align: right;\n",
       "    }\n",
       "</style>\n",
       "<table border=\"1\" class=\"dataframe\">\n",
       "  <thead>\n",
       "    <tr style=\"text-align: right;\">\n",
       "      <th></th>\n",
       "      <th>Pclass</th>\n",
       "      <th>Age</th>\n",
       "      <th>SibSp</th>\n",
       "      <th>Parch</th>\n",
       "      <th>Fare</th>\n",
       "      <th>Sex_female</th>\n",
       "      <th>Sex_male</th>\n",
       "      <th>Embarked_C</th>\n",
       "      <th>Embarked_Q</th>\n",
       "      <th>Embarked_S</th>\n",
       "    </tr>\n",
       "  </thead>\n",
       "  <tbody>\n",
       "    <tr>\n",
       "      <th>0</th>\n",
       "      <td>3</td>\n",
       "      <td>22.0</td>\n",
       "      <td>1</td>\n",
       "      <td>0</td>\n",
       "      <td>7.2500</td>\n",
       "      <td>0</td>\n",
       "      <td>1</td>\n",
       "      <td>0</td>\n",
       "      <td>0</td>\n",
       "      <td>1</td>\n",
       "    </tr>\n",
       "    <tr>\n",
       "      <th>1</th>\n",
       "      <td>1</td>\n",
       "      <td>38.0</td>\n",
       "      <td>1</td>\n",
       "      <td>0</td>\n",
       "      <td>71.2833</td>\n",
       "      <td>1</td>\n",
       "      <td>0</td>\n",
       "      <td>1</td>\n",
       "      <td>0</td>\n",
       "      <td>0</td>\n",
       "    </tr>\n",
       "    <tr>\n",
       "      <th>2</th>\n",
       "      <td>3</td>\n",
       "      <td>26.0</td>\n",
       "      <td>0</td>\n",
       "      <td>0</td>\n",
       "      <td>7.9250</td>\n",
       "      <td>1</td>\n",
       "      <td>0</td>\n",
       "      <td>0</td>\n",
       "      <td>0</td>\n",
       "      <td>1</td>\n",
       "    </tr>\n",
       "    <tr>\n",
       "      <th>3</th>\n",
       "      <td>1</td>\n",
       "      <td>35.0</td>\n",
       "      <td>1</td>\n",
       "      <td>0</td>\n",
       "      <td>53.1000</td>\n",
       "      <td>1</td>\n",
       "      <td>0</td>\n",
       "      <td>0</td>\n",
       "      <td>0</td>\n",
       "      <td>1</td>\n",
       "    </tr>\n",
       "    <tr>\n",
       "      <th>4</th>\n",
       "      <td>3</td>\n",
       "      <td>35.0</td>\n",
       "      <td>0</td>\n",
       "      <td>0</td>\n",
       "      <td>8.0500</td>\n",
       "      <td>0</td>\n",
       "      <td>1</td>\n",
       "      <td>0</td>\n",
       "      <td>0</td>\n",
       "      <td>1</td>\n",
       "    </tr>\n",
       "    <tr>\n",
       "      <th>5</th>\n",
       "      <td>3</td>\n",
       "      <td>28.0</td>\n",
       "      <td>0</td>\n",
       "      <td>0</td>\n",
       "      <td>8.4583</td>\n",
       "      <td>0</td>\n",
       "      <td>1</td>\n",
       "      <td>0</td>\n",
       "      <td>1</td>\n",
       "      <td>0</td>\n",
       "    </tr>\n",
       "    <tr>\n",
       "      <th>6</th>\n",
       "      <td>1</td>\n",
       "      <td>54.0</td>\n",
       "      <td>0</td>\n",
       "      <td>0</td>\n",
       "      <td>51.8625</td>\n",
       "      <td>0</td>\n",
       "      <td>1</td>\n",
       "      <td>0</td>\n",
       "      <td>0</td>\n",
       "      <td>1</td>\n",
       "    </tr>\n",
       "    <tr>\n",
       "      <th>7</th>\n",
       "      <td>3</td>\n",
       "      <td>2.0</td>\n",
       "      <td>3</td>\n",
       "      <td>1</td>\n",
       "      <td>21.0750</td>\n",
       "      <td>0</td>\n",
       "      <td>1</td>\n",
       "      <td>0</td>\n",
       "      <td>0</td>\n",
       "      <td>1</td>\n",
       "    </tr>\n",
       "    <tr>\n",
       "      <th>8</th>\n",
       "      <td>3</td>\n",
       "      <td>27.0</td>\n",
       "      <td>0</td>\n",
       "      <td>2</td>\n",
       "      <td>11.1333</td>\n",
       "      <td>1</td>\n",
       "      <td>0</td>\n",
       "      <td>0</td>\n",
       "      <td>0</td>\n",
       "      <td>1</td>\n",
       "    </tr>\n",
       "    <tr>\n",
       "      <th>9</th>\n",
       "      <td>2</td>\n",
       "      <td>14.0</td>\n",
       "      <td>1</td>\n",
       "      <td>0</td>\n",
       "      <td>30.0708</td>\n",
       "      <td>1</td>\n",
       "      <td>0</td>\n",
       "      <td>1</td>\n",
       "      <td>0</td>\n",
       "      <td>0</td>\n",
       "    </tr>\n",
       "  </tbody>\n",
       "</table>\n",
       "</div>"
      ],
      "text/plain": [
       "   Pclass   Age  SibSp  Parch     Fare  Sex_female  Sex_male  Embarked_C  \\\n",
       "0       3  22.0      1      0   7.2500           0         1           0   \n",
       "1       1  38.0      1      0  71.2833           1         0           1   \n",
       "2       3  26.0      0      0   7.9250           1         0           0   \n",
       "3       1  35.0      1      0  53.1000           1         0           0   \n",
       "4       3  35.0      0      0   8.0500           0         1           0   \n",
       "5       3  28.0      0      0   8.4583           0         1           0   \n",
       "6       1  54.0      0      0  51.8625           0         1           0   \n",
       "7       3   2.0      3      1  21.0750           0         1           0   \n",
       "8       3  27.0      0      2  11.1333           1         0           0   \n",
       "9       2  14.0      1      0  30.0708           1         0           1   \n",
       "\n",
       "   Embarked_Q  Embarked_S  \n",
       "0           0           1  \n",
       "1           0           0  \n",
       "2           0           1  \n",
       "3           0           1  \n",
       "4           0           1  \n",
       "5           1           0  \n",
       "6           0           1  \n",
       "7           0           1  \n",
       "8           0           1  \n",
       "9           0           0  "
      ]
     },
     "execution_count": 11,
     "metadata": {},
     "output_type": "execute_result"
    }
   ],
   "source": [
    "all_data.head(10)"
   ]
  },
  {
   "cell_type": "code",
   "execution_count": 12,
   "id": "26f36d1c",
   "metadata": {
    "execution": {
     "iopub.execute_input": "2022-04-20T08:05:55.963684Z",
     "iopub.status.busy": "2022-04-20T08:05:55.963433Z",
     "iopub.status.idle": "2022-04-20T08:05:55.997512Z",
     "shell.execute_reply": "2022-04-20T08:05:55.995640Z"
    },
    "papermill": {
     "duration": 0.075908,
     "end_time": "2022-04-20T08:05:56.000161",
     "exception": false,
     "start_time": "2022-04-20T08:05:55.924253",
     "status": "completed"
    },
    "tags": []
   },
   "outputs": [
    {
     "data": {
      "text/html": [
       "<div>\n",
       "<style scoped>\n",
       "    .dataframe tbody tr th:only-of-type {\n",
       "        vertical-align: middle;\n",
       "    }\n",
       "\n",
       "    .dataframe tbody tr th {\n",
       "        vertical-align: top;\n",
       "    }\n",
       "\n",
       "    .dataframe thead th {\n",
       "        text-align: right;\n",
       "    }\n",
       "</style>\n",
       "<table border=\"1\" class=\"dataframe\">\n",
       "  <thead>\n",
       "    <tr style=\"text-align: right;\">\n",
       "      <th></th>\n",
       "      <th>Pclass</th>\n",
       "      <th>Age</th>\n",
       "      <th>SibSp</th>\n",
       "      <th>Parch</th>\n",
       "      <th>Fare</th>\n",
       "      <th>Sex_female</th>\n",
       "      <th>Sex_male</th>\n",
       "      <th>Embarked_C</th>\n",
       "      <th>Embarked_Q</th>\n",
       "      <th>Embarked_S</th>\n",
       "    </tr>\n",
       "  </thead>\n",
       "  <tbody>\n",
       "    <tr>\n",
       "      <th>0</th>\n",
       "      <td>0.841916</td>\n",
       "      <td>-0.576088</td>\n",
       "      <td>0.481288</td>\n",
       "      <td>-0.445000</td>\n",
       "      <td>-0.503499</td>\n",
       "      <td>-0.743497</td>\n",
       "      <td>0.743497</td>\n",
       "      <td>-0.50977</td>\n",
       "      <td>-0.322040</td>\n",
       "      <td>0.657394</td>\n",
       "    </tr>\n",
       "    <tr>\n",
       "      <th>1</th>\n",
       "      <td>-1.546098</td>\n",
       "      <td>0.663229</td>\n",
       "      <td>0.481288</td>\n",
       "      <td>-0.445000</td>\n",
       "      <td>0.734591</td>\n",
       "      <td>1.344995</td>\n",
       "      <td>-1.344995</td>\n",
       "      <td>1.96167</td>\n",
       "      <td>-0.322040</td>\n",
       "      <td>-1.521159</td>\n",
       "    </tr>\n",
       "    <tr>\n",
       "      <th>2</th>\n",
       "      <td>0.841916</td>\n",
       "      <td>-0.266258</td>\n",
       "      <td>-0.479087</td>\n",
       "      <td>-0.445000</td>\n",
       "      <td>-0.490448</td>\n",
       "      <td>1.344995</td>\n",
       "      <td>-1.344995</td>\n",
       "      <td>-0.50977</td>\n",
       "      <td>-0.322040</td>\n",
       "      <td>0.657394</td>\n",
       "    </tr>\n",
       "    <tr>\n",
       "      <th>3</th>\n",
       "      <td>-1.546098</td>\n",
       "      <td>0.430857</td>\n",
       "      <td>0.481288</td>\n",
       "      <td>-0.445000</td>\n",
       "      <td>0.383015</td>\n",
       "      <td>1.344995</td>\n",
       "      <td>-1.344995</td>\n",
       "      <td>-0.50977</td>\n",
       "      <td>-0.322040</td>\n",
       "      <td>0.657394</td>\n",
       "    </tr>\n",
       "    <tr>\n",
       "      <th>4</th>\n",
       "      <td>0.841916</td>\n",
       "      <td>0.430857</td>\n",
       "      <td>-0.479087</td>\n",
       "      <td>-0.445000</td>\n",
       "      <td>-0.488031</td>\n",
       "      <td>-0.743497</td>\n",
       "      <td>0.743497</td>\n",
       "      <td>-0.50977</td>\n",
       "      <td>-0.322040</td>\n",
       "      <td>0.657394</td>\n",
       "    </tr>\n",
       "    <tr>\n",
       "      <th>5</th>\n",
       "      <td>0.841916</td>\n",
       "      <td>-0.111344</td>\n",
       "      <td>-0.479087</td>\n",
       "      <td>-0.445000</td>\n",
       "      <td>-0.480136</td>\n",
       "      <td>-0.743497</td>\n",
       "      <td>0.743497</td>\n",
       "      <td>-0.50977</td>\n",
       "      <td>3.105202</td>\n",
       "      <td>-1.521159</td>\n",
       "    </tr>\n",
       "    <tr>\n",
       "      <th>6</th>\n",
       "      <td>-1.546098</td>\n",
       "      <td>1.902546</td>\n",
       "      <td>-0.479087</td>\n",
       "      <td>-0.445000</td>\n",
       "      <td>0.359088</td>\n",
       "      <td>-0.743497</td>\n",
       "      <td>0.743497</td>\n",
       "      <td>-0.50977</td>\n",
       "      <td>-0.322040</td>\n",
       "      <td>0.657394</td>\n",
       "    </tr>\n",
       "    <tr>\n",
       "      <th>7</th>\n",
       "      <td>0.841916</td>\n",
       "      <td>-2.125233</td>\n",
       "      <td>2.402037</td>\n",
       "      <td>0.710763</td>\n",
       "      <td>-0.236191</td>\n",
       "      <td>-0.743497</td>\n",
       "      <td>0.743497</td>\n",
       "      <td>-0.50977</td>\n",
       "      <td>-0.322040</td>\n",
       "      <td>0.657394</td>\n",
       "    </tr>\n",
       "    <tr>\n",
       "      <th>8</th>\n",
       "      <td>0.841916</td>\n",
       "      <td>-0.188801</td>\n",
       "      <td>-0.479087</td>\n",
       "      <td>1.866526</td>\n",
       "      <td>-0.428415</td>\n",
       "      <td>1.344995</td>\n",
       "      <td>-1.344995</td>\n",
       "      <td>-0.50977</td>\n",
       "      <td>-0.322040</td>\n",
       "      <td>0.657394</td>\n",
       "    </tr>\n",
       "    <tr>\n",
       "      <th>9</th>\n",
       "      <td>-0.352091</td>\n",
       "      <td>-1.195746</td>\n",
       "      <td>0.481288</td>\n",
       "      <td>-0.445000</td>\n",
       "      <td>-0.062257</td>\n",
       "      <td>1.344995</td>\n",
       "      <td>-1.344995</td>\n",
       "      <td>1.96167</td>\n",
       "      <td>-0.322040</td>\n",
       "      <td>-1.521159</td>\n",
       "    </tr>\n",
       "  </tbody>\n",
       "</table>\n",
       "</div>"
      ],
      "text/plain": [
       "     Pclass       Age     SibSp     Parch      Fare  Sex_female  Sex_male  \\\n",
       "0  0.841916 -0.576088  0.481288 -0.445000 -0.503499   -0.743497  0.743497   \n",
       "1 -1.546098  0.663229  0.481288 -0.445000  0.734591    1.344995 -1.344995   \n",
       "2  0.841916 -0.266258 -0.479087 -0.445000 -0.490448    1.344995 -1.344995   \n",
       "3 -1.546098  0.430857  0.481288 -0.445000  0.383015    1.344995 -1.344995   \n",
       "4  0.841916  0.430857 -0.479087 -0.445000 -0.488031   -0.743497  0.743497   \n",
       "5  0.841916 -0.111344 -0.479087 -0.445000 -0.480136   -0.743497  0.743497   \n",
       "6 -1.546098  1.902546 -0.479087 -0.445000  0.359088   -0.743497  0.743497   \n",
       "7  0.841916 -2.125233  2.402037  0.710763 -0.236191   -0.743497  0.743497   \n",
       "8  0.841916 -0.188801 -0.479087  1.866526 -0.428415    1.344995 -1.344995   \n",
       "9 -0.352091 -1.195746  0.481288 -0.445000 -0.062257    1.344995 -1.344995   \n",
       "\n",
       "   Embarked_C  Embarked_Q  Embarked_S  \n",
       "0    -0.50977   -0.322040    0.657394  \n",
       "1     1.96167   -0.322040   -1.521159  \n",
       "2    -0.50977   -0.322040    0.657394  \n",
       "3    -0.50977   -0.322040    0.657394  \n",
       "4    -0.50977   -0.322040    0.657394  \n",
       "5    -0.50977    3.105202   -1.521159  \n",
       "6    -0.50977   -0.322040    0.657394  \n",
       "7    -0.50977   -0.322040    0.657394  \n",
       "8    -0.50977   -0.322040    0.657394  \n",
       "9     1.96167   -0.322040   -1.521159  "
      ]
     },
     "execution_count": 12,
     "metadata": {},
     "output_type": "execute_result"
    }
   ],
   "source": [
    "scaler = preprocessing.StandardScaler()\n",
    "all_data_scaled = pd.DataFrame(scaler.fit_transform(all_data), columns=all_data.columns)\n",
    "all_data_scaled.head(10)"
   ]
  },
  {
   "cell_type": "code",
   "execution_count": 13,
   "id": "ef5ad996",
   "metadata": {
    "execution": {
     "iopub.execute_input": "2022-04-20T08:05:56.079082Z",
     "iopub.status.busy": "2022-04-20T08:05:56.078594Z",
     "iopub.status.idle": "2022-04-20T08:05:56.085233Z",
     "shell.execute_reply": "2022-04-20T08:05:56.084326Z"
    },
    "papermill": {
     "duration": 0.045152,
     "end_time": "2022-04-20T08:05:56.087283",
     "exception": false,
     "start_time": "2022-04-20T08:05:56.042131",
     "status": "completed"
    },
    "tags": []
   },
   "outputs": [
    {
     "data": {
      "text/plain": [
       "891"
      ]
     },
     "execution_count": 13,
     "metadata": {},
     "output_type": "execute_result"
    }
   ],
   "source": [
    "X_train.shape[0]"
   ]
  },
  {
   "cell_type": "code",
   "execution_count": 14,
   "id": "80c072d9",
   "metadata": {
    "execution": {
     "iopub.execute_input": "2022-04-20T08:05:56.153652Z",
     "iopub.status.busy": "2022-04-20T08:05:56.152839Z",
     "iopub.status.idle": "2022-04-20T08:05:56.157844Z",
     "shell.execute_reply": "2022-04-20T08:05:56.157228Z"
    },
    "papermill": {
     "duration": 0.04016,
     "end_time": "2022-04-20T08:05:56.159753",
     "exception": false,
     "start_time": "2022-04-20T08:05:56.119593",
     "status": "completed"
    },
    "tags": []
   },
   "outputs": [],
   "source": [
    "X_train_scaled = all_data_scaled.loc[0:X_train.shape[0]-1,:]\n",
    "X_test_scaled = all_data_scaled.loc[X_train.shape[0]::,:]"
   ]
  },
  {
   "cell_type": "code",
   "execution_count": 15,
   "id": "c91df609",
   "metadata": {
    "execution": {
     "iopub.execute_input": "2022-04-20T08:05:56.225909Z",
     "iopub.status.busy": "2022-04-20T08:05:56.225598Z",
     "iopub.status.idle": "2022-04-20T08:05:56.230314Z",
     "shell.execute_reply": "2022-04-20T08:05:56.229636Z"
    },
    "papermill": {
     "duration": 0.040784,
     "end_time": "2022-04-20T08:05:56.232511",
     "exception": false,
     "start_time": "2022-04-20T08:05:56.191727",
     "status": "completed"
    },
    "tags": []
   },
   "outputs": [
    {
     "data": {
      "text/plain": [
       "(891, 10)"
      ]
     },
     "execution_count": 15,
     "metadata": {},
     "output_type": "execute_result"
    }
   ],
   "source": [
    "X_train_scaled.shape"
   ]
  },
  {
   "cell_type": "code",
   "execution_count": 16,
   "id": "e9973733",
   "metadata": {
    "execution": {
     "iopub.execute_input": "2022-04-20T08:05:56.300173Z",
     "iopub.status.busy": "2022-04-20T08:05:56.299839Z",
     "iopub.status.idle": "2022-04-20T08:05:56.315598Z",
     "shell.execute_reply": "2022-04-20T08:05:56.314996Z"
    },
    "papermill": {
     "duration": 0.052441,
     "end_time": "2022-04-20T08:05:56.318052",
     "exception": false,
     "start_time": "2022-04-20T08:05:56.265611",
     "status": "completed"
    },
    "tags": []
   },
   "outputs": [
    {
     "data": {
      "text/html": [
       "<div>\n",
       "<style scoped>\n",
       "    .dataframe tbody tr th:only-of-type {\n",
       "        vertical-align: middle;\n",
       "    }\n",
       "\n",
       "    .dataframe tbody tr th {\n",
       "        vertical-align: top;\n",
       "    }\n",
       "\n",
       "    .dataframe thead th {\n",
       "        text-align: right;\n",
       "    }\n",
       "</style>\n",
       "<table border=\"1\" class=\"dataframe\">\n",
       "  <thead>\n",
       "    <tr style=\"text-align: right;\">\n",
       "      <th></th>\n",
       "      <th>Pclass</th>\n",
       "      <th>Age</th>\n",
       "      <th>SibSp</th>\n",
       "      <th>Parch</th>\n",
       "      <th>Fare</th>\n",
       "      <th>Sex_female</th>\n",
       "      <th>Sex_male</th>\n",
       "      <th>Embarked_C</th>\n",
       "      <th>Embarked_Q</th>\n",
       "      <th>Embarked_S</th>\n",
       "    </tr>\n",
       "  </thead>\n",
       "  <tbody>\n",
       "    <tr>\n",
       "      <th>0</th>\n",
       "      <td>0.841916</td>\n",
       "      <td>-0.576088</td>\n",
       "      <td>0.481288</td>\n",
       "      <td>-0.445</td>\n",
       "      <td>-0.503499</td>\n",
       "      <td>-0.743497</td>\n",
       "      <td>0.743497</td>\n",
       "      <td>-0.50977</td>\n",
       "      <td>-0.32204</td>\n",
       "      <td>0.657394</td>\n",
       "    </tr>\n",
       "    <tr>\n",
       "      <th>1</th>\n",
       "      <td>-1.546098</td>\n",
       "      <td>0.663229</td>\n",
       "      <td>0.481288</td>\n",
       "      <td>-0.445</td>\n",
       "      <td>0.734591</td>\n",
       "      <td>1.344995</td>\n",
       "      <td>-1.344995</td>\n",
       "      <td>1.96167</td>\n",
       "      <td>-0.32204</td>\n",
       "      <td>-1.521159</td>\n",
       "    </tr>\n",
       "    <tr>\n",
       "      <th>2</th>\n",
       "      <td>0.841916</td>\n",
       "      <td>-0.266258</td>\n",
       "      <td>-0.479087</td>\n",
       "      <td>-0.445</td>\n",
       "      <td>-0.490448</td>\n",
       "      <td>1.344995</td>\n",
       "      <td>-1.344995</td>\n",
       "      <td>-0.50977</td>\n",
       "      <td>-0.32204</td>\n",
       "      <td>0.657394</td>\n",
       "    </tr>\n",
       "    <tr>\n",
       "      <th>3</th>\n",
       "      <td>-1.546098</td>\n",
       "      <td>0.430857</td>\n",
       "      <td>0.481288</td>\n",
       "      <td>-0.445</td>\n",
       "      <td>0.383015</td>\n",
       "      <td>1.344995</td>\n",
       "      <td>-1.344995</td>\n",
       "      <td>-0.50977</td>\n",
       "      <td>-0.32204</td>\n",
       "      <td>0.657394</td>\n",
       "    </tr>\n",
       "    <tr>\n",
       "      <th>4</th>\n",
       "      <td>0.841916</td>\n",
       "      <td>0.430857</td>\n",
       "      <td>-0.479087</td>\n",
       "      <td>-0.445</td>\n",
       "      <td>-0.488031</td>\n",
       "      <td>-0.743497</td>\n",
       "      <td>0.743497</td>\n",
       "      <td>-0.50977</td>\n",
       "      <td>-0.32204</td>\n",
       "      <td>0.657394</td>\n",
       "    </tr>\n",
       "  </tbody>\n",
       "</table>\n",
       "</div>"
      ],
      "text/plain": [
       "     Pclass       Age     SibSp  Parch      Fare  Sex_female  Sex_male  \\\n",
       "0  0.841916 -0.576088  0.481288 -0.445 -0.503499   -0.743497  0.743497   \n",
       "1 -1.546098  0.663229  0.481288 -0.445  0.734591    1.344995 -1.344995   \n",
       "2  0.841916 -0.266258 -0.479087 -0.445 -0.490448    1.344995 -1.344995   \n",
       "3 -1.546098  0.430857  0.481288 -0.445  0.383015    1.344995 -1.344995   \n",
       "4  0.841916  0.430857 -0.479087 -0.445 -0.488031   -0.743497  0.743497   \n",
       "\n",
       "   Embarked_C  Embarked_Q  Embarked_S  \n",
       "0    -0.50977    -0.32204    0.657394  \n",
       "1     1.96167    -0.32204   -1.521159  \n",
       "2    -0.50977    -0.32204    0.657394  \n",
       "3    -0.50977    -0.32204    0.657394  \n",
       "4    -0.50977    -0.32204    0.657394  "
      ]
     },
     "execution_count": 16,
     "metadata": {},
     "output_type": "execute_result"
    }
   ],
   "source": [
    "X_train_scaled.head()"
   ]
  },
  {
   "cell_type": "code",
   "execution_count": 17,
   "id": "45893a8a",
   "metadata": {
    "execution": {
     "iopub.execute_input": "2022-04-20T08:05:56.385996Z",
     "iopub.status.busy": "2022-04-20T08:05:56.385507Z",
     "iopub.status.idle": "2022-04-20T08:05:56.390649Z",
     "shell.execute_reply": "2022-04-20T08:05:56.389836Z"
    },
    "papermill": {
     "duration": 0.041446,
     "end_time": "2022-04-20T08:05:56.392648",
     "exception": false,
     "start_time": "2022-04-20T08:05:56.351202",
     "status": "completed"
    },
    "tags": []
   },
   "outputs": [
    {
     "data": {
      "text/plain": [
       "(418, 10)"
      ]
     },
     "execution_count": 17,
     "metadata": {},
     "output_type": "execute_result"
    }
   ],
   "source": [
    "X_test_scaled.shape"
   ]
  },
  {
   "cell_type": "code",
   "execution_count": 18,
   "id": "a7e0c990",
   "metadata": {
    "execution": {
     "iopub.execute_input": "2022-04-20T08:05:56.463156Z",
     "iopub.status.busy": "2022-04-20T08:05:56.462629Z",
     "iopub.status.idle": "2022-04-20T08:05:56.478401Z",
     "shell.execute_reply": "2022-04-20T08:05:56.477775Z"
    },
    "papermill": {
     "duration": 0.053438,
     "end_time": "2022-04-20T08:05:56.480262",
     "exception": false,
     "start_time": "2022-04-20T08:05:56.426824",
     "status": "completed"
    },
    "tags": []
   },
   "outputs": [
    {
     "data": {
      "text/html": [
       "<div>\n",
       "<style scoped>\n",
       "    .dataframe tbody tr th:only-of-type {\n",
       "        vertical-align: middle;\n",
       "    }\n",
       "\n",
       "    .dataframe tbody tr th {\n",
       "        vertical-align: top;\n",
       "    }\n",
       "\n",
       "    .dataframe thead th {\n",
       "        text-align: right;\n",
       "    }\n",
       "</style>\n",
       "<table border=\"1\" class=\"dataframe\">\n",
       "  <thead>\n",
       "    <tr style=\"text-align: right;\">\n",
       "      <th></th>\n",
       "      <th>Pclass</th>\n",
       "      <th>Age</th>\n",
       "      <th>SibSp</th>\n",
       "      <th>Parch</th>\n",
       "      <th>Fare</th>\n",
       "      <th>Sex_female</th>\n",
       "      <th>Sex_male</th>\n",
       "      <th>Embarked_C</th>\n",
       "      <th>Embarked_Q</th>\n",
       "      <th>Embarked_S</th>\n",
       "    </tr>\n",
       "  </thead>\n",
       "  <tbody>\n",
       "    <tr>\n",
       "      <th>891</th>\n",
       "      <td>0.841916</td>\n",
       "      <td>0.392129</td>\n",
       "      <td>-0.479087</td>\n",
       "      <td>-0.445000</td>\n",
       "      <td>-0.492300</td>\n",
       "      <td>-0.743497</td>\n",
       "      <td>0.743497</td>\n",
       "      <td>-0.50977</td>\n",
       "      <td>3.105202</td>\n",
       "      <td>-1.521159</td>\n",
       "    </tr>\n",
       "    <tr>\n",
       "      <th>892</th>\n",
       "      <td>0.841916</td>\n",
       "      <td>1.360345</td>\n",
       "      <td>0.481288</td>\n",
       "      <td>-0.445000</td>\n",
       "      <td>-0.508333</td>\n",
       "      <td>1.344995</td>\n",
       "      <td>-1.344995</td>\n",
       "      <td>-0.50977</td>\n",
       "      <td>-0.322040</td>\n",
       "      <td>0.657394</td>\n",
       "    </tr>\n",
       "    <tr>\n",
       "      <th>893</th>\n",
       "      <td>-0.352091</td>\n",
       "      <td>2.522204</td>\n",
       "      <td>-0.479087</td>\n",
       "      <td>-0.445000</td>\n",
       "      <td>-0.456370</td>\n",
       "      <td>-0.743497</td>\n",
       "      <td>0.743497</td>\n",
       "      <td>-0.50977</td>\n",
       "      <td>3.105202</td>\n",
       "      <td>-1.521159</td>\n",
       "    </tr>\n",
       "    <tr>\n",
       "      <th>894</th>\n",
       "      <td>0.841916</td>\n",
       "      <td>-0.188801</td>\n",
       "      <td>-0.479087</td>\n",
       "      <td>-0.445000</td>\n",
       "      <td>-0.476188</td>\n",
       "      <td>-0.743497</td>\n",
       "      <td>0.743497</td>\n",
       "      <td>-0.50977</td>\n",
       "      <td>-0.322040</td>\n",
       "      <td>0.657394</td>\n",
       "    </tr>\n",
       "    <tr>\n",
       "      <th>895</th>\n",
       "      <td>0.841916</td>\n",
       "      <td>-0.576088</td>\n",
       "      <td>0.481288</td>\n",
       "      <td>0.710763</td>\n",
       "      <td>-0.406098</td>\n",
       "      <td>1.344995</td>\n",
       "      <td>-1.344995</td>\n",
       "      <td>-0.50977</td>\n",
       "      <td>-0.322040</td>\n",
       "      <td>0.657394</td>\n",
       "    </tr>\n",
       "  </tbody>\n",
       "</table>\n",
       "</div>"
      ],
      "text/plain": [
       "       Pclass       Age     SibSp     Parch      Fare  Sex_female  Sex_male  \\\n",
       "891  0.841916  0.392129 -0.479087 -0.445000 -0.492300   -0.743497  0.743497   \n",
       "892  0.841916  1.360345  0.481288 -0.445000 -0.508333    1.344995 -1.344995   \n",
       "893 -0.352091  2.522204 -0.479087 -0.445000 -0.456370   -0.743497  0.743497   \n",
       "894  0.841916 -0.188801 -0.479087 -0.445000 -0.476188   -0.743497  0.743497   \n",
       "895  0.841916 -0.576088  0.481288  0.710763 -0.406098    1.344995 -1.344995   \n",
       "\n",
       "     Embarked_C  Embarked_Q  Embarked_S  \n",
       "891    -0.50977    3.105202   -1.521159  \n",
       "892    -0.50977   -0.322040    0.657394  \n",
       "893    -0.50977    3.105202   -1.521159  \n",
       "894    -0.50977   -0.322040    0.657394  \n",
       "895    -0.50977   -0.322040    0.657394  "
      ]
     },
     "execution_count": 18,
     "metadata": {},
     "output_type": "execute_result"
    }
   ],
   "source": [
    "X_test_scaled.head()"
   ]
  },
  {
   "cell_type": "code",
   "execution_count": 19,
   "id": "6e2b1845",
   "metadata": {
    "execution": {
     "iopub.execute_input": "2022-04-20T08:05:56.551052Z",
     "iopub.status.busy": "2022-04-20T08:05:56.550574Z",
     "iopub.status.idle": "2022-04-20T08:06:16.130153Z",
     "shell.execute_reply": "2022-04-20T08:06:16.129356Z"
    },
    "papermill": {
     "duration": 19.617716,
     "end_time": "2022-04-20T08:06:16.132551",
     "exception": false,
     "start_time": "2022-04-20T08:05:56.514835",
     "status": "completed"
    },
    "tags": []
   },
   "outputs": [
    {
     "name": "stdout",
     "output_type": "stream",
     "text": [
      "using 4 CPUs\n",
      "Fitting 100 folds for each of 36 candidates, totalling 3600 fits\n"
     ]
    }
   ],
   "source": [
    "clf = select_model_hyperparams(X_train_scaled, train_data.Survived);"
   ]
  },
  {
   "cell_type": "code",
   "execution_count": 20,
   "id": "856d03eb",
   "metadata": {
    "execution": {
     "iopub.execute_input": "2022-04-20T08:06:16.206686Z",
     "iopub.status.busy": "2022-04-20T08:06:16.206173Z",
     "iopub.status.idle": "2022-04-20T08:06:16.215815Z",
     "shell.execute_reply": "2022-04-20T08:06:16.214804Z"
    },
    "papermill": {
     "duration": 0.049554,
     "end_time": "2022-04-20T08:06:16.218647",
     "exception": false,
     "start_time": "2022-04-20T08:06:16.169093",
     "status": "completed"
    },
    "tags": []
   },
   "outputs": [
    {
     "name": "stdout",
     "output_type": "stream",
     "text": [
      "Best average validation score: 0.821\n",
      "  Param: n_neighbors = 14\n",
      "  Param: p = 1\n",
      "  Param: weights = uniform\n"
     ]
    }
   ],
   "source": [
    "print(\"Best average validation score: {}\".format(clf.best_score_.round(3)))\n",
    "for pname, pvalue in clf.best_params_.items():\n",
    "    print(\"  Param: {} = {}\".format(pname, pvalue))"
   ]
  },
  {
   "cell_type": "code",
   "execution_count": 21,
   "id": "0bdaf2a7",
   "metadata": {
    "execution": {
     "iopub.execute_input": "2022-04-20T08:06:16.293861Z",
     "iopub.status.busy": "2022-04-20T08:06:16.293271Z",
     "iopub.status.idle": "2022-04-20T08:06:16.326227Z",
     "shell.execute_reply": "2022-04-20T08:06:16.325598Z"
    },
    "papermill": {
     "duration": 0.073192,
     "end_time": "2022-04-20T08:06:16.328559",
     "exception": false,
     "start_time": "2022-04-20T08:06:16.255367",
     "status": "completed"
    },
    "tags": []
   },
   "outputs": [],
   "source": [
    "predictions = clf.predict(X_test)"
   ]
  },
  {
   "cell_type": "code",
   "execution_count": 22,
   "id": "36aeab8e",
   "metadata": {
    "execution": {
     "iopub.execute_input": "2022-04-20T08:06:16.404254Z",
     "iopub.status.busy": "2022-04-20T08:06:16.403448Z",
     "iopub.status.idle": "2022-04-20T08:06:16.414904Z",
     "shell.execute_reply": "2022-04-20T08:06:16.414177Z"
    },
    "papermill": {
     "duration": 0.051719,
     "end_time": "2022-04-20T08:06:16.417070",
     "exception": false,
     "start_time": "2022-04-20T08:06:16.365351",
     "status": "completed"
    },
    "tags": []
   },
   "outputs": [
    {
     "data": {
      "text/html": [
       "<div>\n",
       "<style scoped>\n",
       "    .dataframe tbody tr th:only-of-type {\n",
       "        vertical-align: middle;\n",
       "    }\n",
       "\n",
       "    .dataframe tbody tr th {\n",
       "        vertical-align: top;\n",
       "    }\n",
       "\n",
       "    .dataframe thead th {\n",
       "        text-align: right;\n",
       "    }\n",
       "</style>\n",
       "<table border=\"1\" class=\"dataframe\">\n",
       "  <thead>\n",
       "    <tr style=\"text-align: right;\">\n",
       "      <th></th>\n",
       "      <th>PassengerId</th>\n",
       "      <th>Survived</th>\n",
       "    </tr>\n",
       "  </thead>\n",
       "  <tbody>\n",
       "    <tr>\n",
       "      <th>0</th>\n",
       "      <td>892</td>\n",
       "      <td>0</td>\n",
       "    </tr>\n",
       "    <tr>\n",
       "      <th>1</th>\n",
       "      <td>893</td>\n",
       "      <td>1</td>\n",
       "    </tr>\n",
       "    <tr>\n",
       "      <th>2</th>\n",
       "      <td>894</td>\n",
       "      <td>0</td>\n",
       "    </tr>\n",
       "    <tr>\n",
       "      <th>3</th>\n",
       "      <td>895</td>\n",
       "      <td>0</td>\n",
       "    </tr>\n",
       "    <tr>\n",
       "      <th>4</th>\n",
       "      <td>896</td>\n",
       "      <td>1</td>\n",
       "    </tr>\n",
       "  </tbody>\n",
       "</table>\n",
       "</div>"
      ],
      "text/plain": [
       "   PassengerId  Survived\n",
       "0          892         0\n",
       "1          893         1\n",
       "2          894         0\n",
       "3          895         0\n",
       "4          896         1"
      ]
     },
     "execution_count": 22,
     "metadata": {},
     "output_type": "execute_result"
    }
   ],
   "source": [
    "output = pd.DataFrame({'PassengerId': test_data.PassengerId, 'Survived': predictions})\n",
    "output.head()"
   ]
  },
  {
   "cell_type": "code",
   "execution_count": 23,
   "id": "f7167140",
   "metadata": {
    "execution": {
     "iopub.execute_input": "2022-04-20T08:06:16.493699Z",
     "iopub.status.busy": "2022-04-20T08:06:16.493202Z",
     "iopub.status.idle": "2022-04-20T08:06:16.509832Z",
     "shell.execute_reply": "2022-04-20T08:06:16.507896Z"
    },
    "papermill": {
     "duration": 0.058788,
     "end_time": "2022-04-20T08:06:16.513233",
     "exception": false,
     "start_time": "2022-04-20T08:06:16.454445",
     "status": "completed"
    },
    "tags": []
   },
   "outputs": [
    {
     "name": "stdout",
     "output_type": "stream",
     "text": [
      "<class 'pandas.core.frame.DataFrame'>\n",
      "RangeIndex: 418 entries, 0 to 417\n",
      "Data columns (total 2 columns):\n",
      " #   Column       Non-Null Count  Dtype\n",
      "---  ------       --------------  -----\n",
      " 0   PassengerId  418 non-null    int64\n",
      " 1   Survived     418 non-null    int64\n",
      "dtypes: int64(2)\n",
      "memory usage: 6.7 KB\n"
     ]
    }
   ],
   "source": [
    "output.info()"
   ]
  },
  {
   "cell_type": "code",
   "execution_count": 24,
   "id": "b13cc029",
   "metadata": {
    "execution": {
     "iopub.execute_input": "2022-04-20T08:06:16.591771Z",
     "iopub.status.busy": "2022-04-20T08:06:16.591268Z",
     "iopub.status.idle": "2022-04-20T08:06:16.598908Z",
     "shell.execute_reply": "2022-04-20T08:06:16.598271Z"
    },
    "papermill": {
     "duration": 0.049476,
     "end_time": "2022-04-20T08:06:16.601200",
     "exception": false,
     "start_time": "2022-04-20T08:06:16.551724",
     "status": "completed"
    },
    "tags": []
   },
   "outputs": [],
   "source": [
    "output.to_csv('submission_03_sc_knn_scaling1.csv', index=False)"
   ]
  },
  {
   "cell_type": "code",
   "execution_count": null,
   "id": "653d3ece",
   "metadata": {
    "papermill": {
     "duration": 0.038587,
     "end_time": "2022-04-20T08:06:16.676514",
     "exception": false,
     "start_time": "2022-04-20T08:06:16.637927",
     "status": "completed"
    },
    "tags": []
   },
   "outputs": [],
   "source": []
  }
 ],
 "metadata": {
  "kernelspec": {
   "display_name": "Python 3",
   "language": "python",
   "name": "python3"
  },
  "language_info": {
   "codemirror_mode": {
    "name": "ipython",
    "version": 3
   },
   "file_extension": ".py",
   "mimetype": "text/x-python",
   "name": "python",
   "nbconvert_exporter": "python",
   "pygments_lexer": "ipython3",
   "version": "3.7.12"
  },
  "papermill": {
   "default_parameters": {},
   "duration": 34.316981,
   "end_time": "2022-04-20T08:06:19.334336",
   "environment_variables": {},
   "exception": null,
   "input_path": "__notebook__.ipynb",
   "output_path": "__notebook__.ipynb",
   "parameters": {},
   "start_time": "2022-04-20T08:05:45.017355",
   "version": "2.3.4"
  }
 },
 "nbformat": 4,
 "nbformat_minor": 5
}
