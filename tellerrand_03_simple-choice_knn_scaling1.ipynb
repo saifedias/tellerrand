{
 "cells": [
  {
   "cell_type": "code",
   "execution_count": 1,
   "id": "c61f195c",
   "metadata": {
    "_cell_guid": "b1076dfc-b9ad-4769-8c92-a6c4dae69d19",
    "_uuid": "8f2839f25d086af736a60e9eeb907d3b93b6e0e5",
    "execution": {
     "iopub.execute_input": "2022-04-20T08:39:42.760953Z",
     "iopub.status.busy": "2022-04-20T08:39:42.760637Z",
     "iopub.status.idle": "2022-04-20T08:39:44.053673Z",
     "shell.execute_reply": "2022-04-20T08:39:44.052858Z"
    },
    "papermill": {
     "duration": 1.324974,
     "end_time": "2022-04-20T08:39:44.056424",
     "exception": false,
     "start_time": "2022-04-20T08:39:42.731450",
     "status": "completed"
    },
    "tags": []
   },
   "outputs": [],
   "source": [
    "import multiprocessing\n",
    "import pandas as pd\n",
    "from sklearn.model_selection import GridSearchCV, RepeatedKFold\n",
    "from sklearn import neighbors\n",
    "from sklearn import preprocessing"
   ]
  },
  {
   "cell_type": "code",
   "execution_count": 2,
   "id": "2d5f713d",
   "metadata": {
    "execution": {
     "iopub.execute_input": "2022-04-20T08:39:44.116901Z",
     "iopub.status.busy": "2022-04-20T08:39:44.116036Z",
     "iopub.status.idle": "2022-04-20T08:39:44.124515Z",
     "shell.execute_reply": "2022-04-20T08:39:44.123525Z"
    },
    "papermill": {
     "duration": 0.040501,
     "end_time": "2022-04-20T08:39:44.127011",
     "exception": false,
     "start_time": "2022-04-20T08:39:44.086510",
     "status": "completed"
    },
    "tags": []
   },
   "outputs": [],
   "source": [
    "def select_model_hyperparams(X, y):\n",
    "    n_cpus = int(round(multiprocessing.cpu_count() * 0.875))\n",
    "    \n",
    "    print(\"using {} CPUs\".format(n_cpus))\n",
    "    \n",
    "    neighbors_params = {\"n_neighbors\": [1, 2, 4, 6, 8, 10, 12, 14, 16],\n",
    "                        \"weights\": [\"uniform\", \"distance\"],\n",
    "                        \"p\": [1, 2]\n",
    "                       }\n",
    "\n",
    "    clf = GridSearchCV(neighbors.KNeighborsClassifier(),\n",
    "                      param_grid = neighbors_params,\n",
    "                      scoring    = \"accuracy\",\n",
    "                      cv         = RepeatedKFold(n_splits=5, n_repeats=20, random_state=2),\n",
    "                      n_jobs     = n_cpus,\n",
    "                      verbose    = 1)\n",
    "\n",
    "    return clf.fit(X, y)"
   ]
  },
  {
   "cell_type": "code",
   "execution_count": 3,
   "id": "1e330daa",
   "metadata": {
    "execution": {
     "iopub.execute_input": "2022-04-20T08:39:44.183529Z",
     "iopub.status.busy": "2022-04-20T08:39:44.183253Z",
     "iopub.status.idle": "2022-04-20T08:39:44.188927Z",
     "shell.execute_reply": "2022-04-20T08:39:44.187964Z"
    },
    "papermill": {
     "duration": 0.036338,
     "end_time": "2022-04-20T08:39:44.192111",
     "exception": false,
     "start_time": "2022-04-20T08:39:44.155773",
     "status": "completed"
    },
    "tags": []
   },
   "outputs": [],
   "source": [
    "def prepare_Xdata(data):\n",
    "    feature_names = [\"Pclass\", \"Sex\", \"Age\", \"SibSp\", \"Parch\", \"Fare\", \"Embarked\"]\n",
    "    X = data[feature_names]\n",
    "    \n",
    "    X = pd.get_dummies(X)\n",
    "    new_feature_names = X.columns\n",
    "    \n",
    "    X.fillna(value=X.Age.median(), axis=1, inplace=True)\n",
    "    \n",
    "    return (X, new_feature_names)"
   ]
  },
  {
   "cell_type": "code",
   "execution_count": 4,
   "id": "c51226f7",
   "metadata": {
    "execution": {
     "iopub.execute_input": "2022-04-20T08:39:44.248265Z",
     "iopub.status.busy": "2022-04-20T08:39:44.247646Z",
     "iopub.status.idle": "2022-04-20T08:39:44.279442Z",
     "shell.execute_reply": "2022-04-20T08:39:44.278470Z"
    },
    "papermill": {
     "duration": 0.063053,
     "end_time": "2022-04-20T08:39:44.282855",
     "exception": false,
     "start_time": "2022-04-20T08:39:44.219802",
     "status": "completed"
    },
    "tags": []
   },
   "outputs": [
    {
     "name": "stdout",
     "output_type": "stream",
     "text": [
      "(891, 12)\n",
      "(418, 11)\n"
     ]
    }
   ],
   "source": [
    "train_data = pd.read_csv(\"/kaggle/input/titanic/train.csv\")\n",
    "test_data = pd.read_csv(\"/kaggle/input/titanic/test.csv\")\n",
    "print(train_data.shape)\n",
    "print(test_data.shape)"
   ]
  },
  {
   "cell_type": "code",
   "execution_count": 5,
   "id": "7ba2ea81",
   "metadata": {
    "execution": {
     "iopub.execute_input": "2022-04-20T08:39:44.342291Z",
     "iopub.status.busy": "2022-04-20T08:39:44.341669Z",
     "iopub.status.idle": "2022-04-20T08:39:44.375438Z",
     "shell.execute_reply": "2022-04-20T08:39:44.374484Z"
    },
    "papermill": {
     "duration": 0.065302,
     "end_time": "2022-04-20T08:39:44.378212",
     "exception": false,
     "start_time": "2022-04-20T08:39:44.312910",
     "status": "completed"
    },
    "tags": []
   },
   "outputs": [],
   "source": [
    "X_train, feature_names = prepare_Xdata(train_data)\n",
    "X_test, _ = prepare_Xdata(test_data)"
   ]
  },
  {
   "cell_type": "code",
   "execution_count": 6,
   "id": "7f2bbe1c",
   "metadata": {
    "execution": {
     "iopub.execute_input": "2022-04-20T08:39:44.435395Z",
     "iopub.status.busy": "2022-04-20T08:39:44.435050Z",
     "iopub.status.idle": "2022-04-20T08:39:44.444385Z",
     "shell.execute_reply": "2022-04-20T08:39:44.443373Z"
    },
    "papermill": {
     "duration": 0.041308,
     "end_time": "2022-04-20T08:39:44.447143",
     "exception": false,
     "start_time": "2022-04-20T08:39:44.405835",
     "status": "completed"
    },
    "tags": []
   },
   "outputs": [
    {
     "data": {
      "text/plain": [
       "(891, 10)"
      ]
     },
     "execution_count": 6,
     "metadata": {},
     "output_type": "execute_result"
    }
   ],
   "source": [
    "X_train.shape"
   ]
  },
  {
   "cell_type": "code",
   "execution_count": 7,
   "id": "923711a2",
   "metadata": {
    "execution": {
     "iopub.execute_input": "2022-04-20T08:39:44.505492Z",
     "iopub.status.busy": "2022-04-20T08:39:44.504726Z",
     "iopub.status.idle": "2022-04-20T08:39:44.511005Z",
     "shell.execute_reply": "2022-04-20T08:39:44.510152Z"
    },
    "papermill": {
     "duration": 0.03903,
     "end_time": "2022-04-20T08:39:44.513686",
     "exception": false,
     "start_time": "2022-04-20T08:39:44.474656",
     "status": "completed"
    },
    "tags": []
   },
   "outputs": [
    {
     "data": {
      "text/plain": [
       "(418, 10)"
      ]
     },
     "execution_count": 7,
     "metadata": {},
     "output_type": "execute_result"
    }
   ],
   "source": [
    "X_test.shape"
   ]
  },
  {
   "cell_type": "code",
   "execution_count": 8,
   "id": "54be273a",
   "metadata": {
    "execution": {
     "iopub.execute_input": "2022-04-20T08:39:44.577146Z",
     "iopub.status.busy": "2022-04-20T08:39:44.576809Z",
     "iopub.status.idle": "2022-04-20T08:39:44.594612Z",
     "shell.execute_reply": "2022-04-20T08:39:44.593601Z"
    },
    "papermill": {
     "duration": 0.053572,
     "end_time": "2022-04-20T08:39:44.596884",
     "exception": false,
     "start_time": "2022-04-20T08:39:44.543312",
     "status": "completed"
    },
    "tags": []
   },
   "outputs": [
    {
     "data": {
      "text/html": [
       "<div>\n",
       "<style scoped>\n",
       "    .dataframe tbody tr th:only-of-type {\n",
       "        vertical-align: middle;\n",
       "    }\n",
       "\n",
       "    .dataframe tbody tr th {\n",
       "        vertical-align: top;\n",
       "    }\n",
       "\n",
       "    .dataframe thead th {\n",
       "        text-align: right;\n",
       "    }\n",
       "</style>\n",
       "<table border=\"1\" class=\"dataframe\">\n",
       "  <thead>\n",
       "    <tr style=\"text-align: right;\">\n",
       "      <th></th>\n",
       "      <th>Pclass</th>\n",
       "      <th>Age</th>\n",
       "      <th>SibSp</th>\n",
       "      <th>Parch</th>\n",
       "      <th>Fare</th>\n",
       "      <th>Sex_female</th>\n",
       "      <th>Sex_male</th>\n",
       "      <th>Embarked_C</th>\n",
       "      <th>Embarked_Q</th>\n",
       "      <th>Embarked_S</th>\n",
       "    </tr>\n",
       "  </thead>\n",
       "  <tbody>\n",
       "    <tr>\n",
       "      <th>0</th>\n",
       "      <td>3</td>\n",
       "      <td>34.5</td>\n",
       "      <td>0</td>\n",
       "      <td>0</td>\n",
       "      <td>7.8292</td>\n",
       "      <td>0</td>\n",
       "      <td>1</td>\n",
       "      <td>0</td>\n",
       "      <td>1</td>\n",
       "      <td>0</td>\n",
       "    </tr>\n",
       "    <tr>\n",
       "      <th>1</th>\n",
       "      <td>3</td>\n",
       "      <td>47.0</td>\n",
       "      <td>1</td>\n",
       "      <td>0</td>\n",
       "      <td>7.0000</td>\n",
       "      <td>1</td>\n",
       "      <td>0</td>\n",
       "      <td>0</td>\n",
       "      <td>0</td>\n",
       "      <td>1</td>\n",
       "    </tr>\n",
       "    <tr>\n",
       "      <th>2</th>\n",
       "      <td>2</td>\n",
       "      <td>62.0</td>\n",
       "      <td>0</td>\n",
       "      <td>0</td>\n",
       "      <td>9.6875</td>\n",
       "      <td>0</td>\n",
       "      <td>1</td>\n",
       "      <td>0</td>\n",
       "      <td>1</td>\n",
       "      <td>0</td>\n",
       "    </tr>\n",
       "    <tr>\n",
       "      <th>3</th>\n",
       "      <td>3</td>\n",
       "      <td>27.0</td>\n",
       "      <td>0</td>\n",
       "      <td>0</td>\n",
       "      <td>8.6625</td>\n",
       "      <td>0</td>\n",
       "      <td>1</td>\n",
       "      <td>0</td>\n",
       "      <td>0</td>\n",
       "      <td>1</td>\n",
       "    </tr>\n",
       "    <tr>\n",
       "      <th>4</th>\n",
       "      <td>3</td>\n",
       "      <td>22.0</td>\n",
       "      <td>1</td>\n",
       "      <td>1</td>\n",
       "      <td>12.2875</td>\n",
       "      <td>1</td>\n",
       "      <td>0</td>\n",
       "      <td>0</td>\n",
       "      <td>0</td>\n",
       "      <td>1</td>\n",
       "    </tr>\n",
       "  </tbody>\n",
       "</table>\n",
       "</div>"
      ],
      "text/plain": [
       "   Pclass   Age  SibSp  Parch     Fare  Sex_female  Sex_male  Embarked_C  \\\n",
       "0       3  34.5      0      0   7.8292           0         1           0   \n",
       "1       3  47.0      1      0   7.0000           1         0           0   \n",
       "2       2  62.0      0      0   9.6875           0         1           0   \n",
       "3       3  27.0      0      0   8.6625           0         1           0   \n",
       "4       3  22.0      1      1  12.2875           1         0           0   \n",
       "\n",
       "   Embarked_Q  Embarked_S  \n",
       "0           1           0  \n",
       "1           0           1  \n",
       "2           1           0  \n",
       "3           0           1  \n",
       "4           0           1  "
      ]
     },
     "execution_count": 8,
     "metadata": {},
     "output_type": "execute_result"
    }
   ],
   "source": [
    "X_test.head()"
   ]
  },
  {
   "cell_type": "markdown",
   "id": "35cf0ba9",
   "metadata": {
    "papermill": {
     "duration": 0.029399,
     "end_time": "2022-04-20T08:39:44.656908",
     "exception": false,
     "start_time": "2022-04-20T08:39:44.627509",
     "status": "completed"
    },
    "tags": []
   },
   "source": [
    "---\n",
    "## scaling"
   ]
  },
  {
   "cell_type": "code",
   "execution_count": 9,
   "id": "dfc7eb6c",
   "metadata": {
    "execution": {
     "iopub.execute_input": "2022-04-20T08:39:44.717332Z",
     "iopub.status.busy": "2022-04-20T08:39:44.716748Z",
     "iopub.status.idle": "2022-04-20T08:39:44.723499Z",
     "shell.execute_reply": "2022-04-20T08:39:44.722543Z"
    },
    "papermill": {
     "duration": 0.039883,
     "end_time": "2022-04-20T08:39:44.726166",
     "exception": false,
     "start_time": "2022-04-20T08:39:44.686283",
     "status": "completed"
    },
    "tags": []
   },
   "outputs": [],
   "source": [
    "all_data = pd.concat([X_train, X_test], ignore_index=True)"
   ]
  },
  {
   "cell_type": "code",
   "execution_count": 10,
   "id": "0ab87794",
   "metadata": {
    "execution": {
     "iopub.execute_input": "2022-04-20T08:39:44.787423Z",
     "iopub.status.busy": "2022-04-20T08:39:44.787089Z",
     "iopub.status.idle": "2022-04-20T08:39:44.792561Z",
     "shell.execute_reply": "2022-04-20T08:39:44.791909Z"
    },
    "papermill": {
     "duration": 0.037953,
     "end_time": "2022-04-20T08:39:44.794437",
     "exception": false,
     "start_time": "2022-04-20T08:39:44.756484",
     "status": "completed"
    },
    "tags": []
   },
   "outputs": [
    {
     "data": {
      "text/plain": [
       "(1309, 10)"
      ]
     },
     "execution_count": 10,
     "metadata": {},
     "output_type": "execute_result"
    }
   ],
   "source": [
    "all_data.shape"
   ]
  },
  {
   "cell_type": "code",
   "execution_count": 11,
   "id": "aca8cdcd",
   "metadata": {
    "execution": {
     "iopub.execute_input": "2022-04-20T08:39:44.853152Z",
     "iopub.status.busy": "2022-04-20T08:39:44.852823Z",
     "iopub.status.idle": "2022-04-20T08:39:44.870129Z",
     "shell.execute_reply": "2022-04-20T08:39:44.869283Z"
    },
    "papermill": {
     "duration": 0.04937,
     "end_time": "2022-04-20T08:39:44.872653",
     "exception": false,
     "start_time": "2022-04-20T08:39:44.823283",
     "status": "completed"
    },
    "tags": []
   },
   "outputs": [
    {
     "data": {
      "text/html": [
       "<div>\n",
       "<style scoped>\n",
       "    .dataframe tbody tr th:only-of-type {\n",
       "        vertical-align: middle;\n",
       "    }\n",
       "\n",
       "    .dataframe tbody tr th {\n",
       "        vertical-align: top;\n",
       "    }\n",
       "\n",
       "    .dataframe thead th {\n",
       "        text-align: right;\n",
       "    }\n",
       "</style>\n",
       "<table border=\"1\" class=\"dataframe\">\n",
       "  <thead>\n",
       "    <tr style=\"text-align: right;\">\n",
       "      <th></th>\n",
       "      <th>Pclass</th>\n",
       "      <th>Age</th>\n",
       "      <th>SibSp</th>\n",
       "      <th>Parch</th>\n",
       "      <th>Fare</th>\n",
       "      <th>Sex_female</th>\n",
       "      <th>Sex_male</th>\n",
       "      <th>Embarked_C</th>\n",
       "      <th>Embarked_Q</th>\n",
       "      <th>Embarked_S</th>\n",
       "    </tr>\n",
       "  </thead>\n",
       "  <tbody>\n",
       "    <tr>\n",
       "      <th>0</th>\n",
       "      <td>3</td>\n",
       "      <td>22.0</td>\n",
       "      <td>1</td>\n",
       "      <td>0</td>\n",
       "      <td>7.2500</td>\n",
       "      <td>0</td>\n",
       "      <td>1</td>\n",
       "      <td>0</td>\n",
       "      <td>0</td>\n",
       "      <td>1</td>\n",
       "    </tr>\n",
       "    <tr>\n",
       "      <th>1</th>\n",
       "      <td>1</td>\n",
       "      <td>38.0</td>\n",
       "      <td>1</td>\n",
       "      <td>0</td>\n",
       "      <td>71.2833</td>\n",
       "      <td>1</td>\n",
       "      <td>0</td>\n",
       "      <td>1</td>\n",
       "      <td>0</td>\n",
       "      <td>0</td>\n",
       "    </tr>\n",
       "    <tr>\n",
       "      <th>2</th>\n",
       "      <td>3</td>\n",
       "      <td>26.0</td>\n",
       "      <td>0</td>\n",
       "      <td>0</td>\n",
       "      <td>7.9250</td>\n",
       "      <td>1</td>\n",
       "      <td>0</td>\n",
       "      <td>0</td>\n",
       "      <td>0</td>\n",
       "      <td>1</td>\n",
       "    </tr>\n",
       "    <tr>\n",
       "      <th>3</th>\n",
       "      <td>1</td>\n",
       "      <td>35.0</td>\n",
       "      <td>1</td>\n",
       "      <td>0</td>\n",
       "      <td>53.1000</td>\n",
       "      <td>1</td>\n",
       "      <td>0</td>\n",
       "      <td>0</td>\n",
       "      <td>0</td>\n",
       "      <td>1</td>\n",
       "    </tr>\n",
       "    <tr>\n",
       "      <th>4</th>\n",
       "      <td>3</td>\n",
       "      <td>35.0</td>\n",
       "      <td>0</td>\n",
       "      <td>0</td>\n",
       "      <td>8.0500</td>\n",
       "      <td>0</td>\n",
       "      <td>1</td>\n",
       "      <td>0</td>\n",
       "      <td>0</td>\n",
       "      <td>1</td>\n",
       "    </tr>\n",
       "    <tr>\n",
       "      <th>5</th>\n",
       "      <td>3</td>\n",
       "      <td>28.0</td>\n",
       "      <td>0</td>\n",
       "      <td>0</td>\n",
       "      <td>8.4583</td>\n",
       "      <td>0</td>\n",
       "      <td>1</td>\n",
       "      <td>0</td>\n",
       "      <td>1</td>\n",
       "      <td>0</td>\n",
       "    </tr>\n",
       "    <tr>\n",
       "      <th>6</th>\n",
       "      <td>1</td>\n",
       "      <td>54.0</td>\n",
       "      <td>0</td>\n",
       "      <td>0</td>\n",
       "      <td>51.8625</td>\n",
       "      <td>0</td>\n",
       "      <td>1</td>\n",
       "      <td>0</td>\n",
       "      <td>0</td>\n",
       "      <td>1</td>\n",
       "    </tr>\n",
       "    <tr>\n",
       "      <th>7</th>\n",
       "      <td>3</td>\n",
       "      <td>2.0</td>\n",
       "      <td>3</td>\n",
       "      <td>1</td>\n",
       "      <td>21.0750</td>\n",
       "      <td>0</td>\n",
       "      <td>1</td>\n",
       "      <td>0</td>\n",
       "      <td>0</td>\n",
       "      <td>1</td>\n",
       "    </tr>\n",
       "    <tr>\n",
       "      <th>8</th>\n",
       "      <td>3</td>\n",
       "      <td>27.0</td>\n",
       "      <td>0</td>\n",
       "      <td>2</td>\n",
       "      <td>11.1333</td>\n",
       "      <td>1</td>\n",
       "      <td>0</td>\n",
       "      <td>0</td>\n",
       "      <td>0</td>\n",
       "      <td>1</td>\n",
       "    </tr>\n",
       "    <tr>\n",
       "      <th>9</th>\n",
       "      <td>2</td>\n",
       "      <td>14.0</td>\n",
       "      <td>1</td>\n",
       "      <td>0</td>\n",
       "      <td>30.0708</td>\n",
       "      <td>1</td>\n",
       "      <td>0</td>\n",
       "      <td>1</td>\n",
       "      <td>0</td>\n",
       "      <td>0</td>\n",
       "    </tr>\n",
       "  </tbody>\n",
       "</table>\n",
       "</div>"
      ],
      "text/plain": [
       "   Pclass   Age  SibSp  Parch     Fare  Sex_female  Sex_male  Embarked_C  \\\n",
       "0       3  22.0      1      0   7.2500           0         1           0   \n",
       "1       1  38.0      1      0  71.2833           1         0           1   \n",
       "2       3  26.0      0      0   7.9250           1         0           0   \n",
       "3       1  35.0      1      0  53.1000           1         0           0   \n",
       "4       3  35.0      0      0   8.0500           0         1           0   \n",
       "5       3  28.0      0      0   8.4583           0         1           0   \n",
       "6       1  54.0      0      0  51.8625           0         1           0   \n",
       "7       3   2.0      3      1  21.0750           0         1           0   \n",
       "8       3  27.0      0      2  11.1333           1         0           0   \n",
       "9       2  14.0      1      0  30.0708           1         0           1   \n",
       "\n",
       "   Embarked_Q  Embarked_S  \n",
       "0           0           1  \n",
       "1           0           0  \n",
       "2           0           1  \n",
       "3           0           1  \n",
       "4           0           1  \n",
       "5           1           0  \n",
       "6           0           1  \n",
       "7           0           1  \n",
       "8           0           1  \n",
       "9           0           0  "
      ]
     },
     "execution_count": 11,
     "metadata": {},
     "output_type": "execute_result"
    }
   ],
   "source": [
    "all_data.head(10)"
   ]
  },
  {
   "cell_type": "code",
   "execution_count": 12,
   "id": "0b33e4df",
   "metadata": {
    "execution": {
     "iopub.execute_input": "2022-04-20T08:39:44.937698Z",
     "iopub.status.busy": "2022-04-20T08:39:44.937412Z",
     "iopub.status.idle": "2022-04-20T08:39:44.962863Z",
     "shell.execute_reply": "2022-04-20T08:39:44.961626Z"
    },
    "papermill": {
     "duration": 0.060816,
     "end_time": "2022-04-20T08:39:44.965318",
     "exception": false,
     "start_time": "2022-04-20T08:39:44.904502",
     "status": "completed"
    },
    "tags": []
   },
   "outputs": [
    {
     "data": {
      "text/html": [
       "<div>\n",
       "<style scoped>\n",
       "    .dataframe tbody tr th:only-of-type {\n",
       "        vertical-align: middle;\n",
       "    }\n",
       "\n",
       "    .dataframe tbody tr th {\n",
       "        vertical-align: top;\n",
       "    }\n",
       "\n",
       "    .dataframe thead th {\n",
       "        text-align: right;\n",
       "    }\n",
       "</style>\n",
       "<table border=\"1\" class=\"dataframe\">\n",
       "  <thead>\n",
       "    <tr style=\"text-align: right;\">\n",
       "      <th></th>\n",
       "      <th>Pclass</th>\n",
       "      <th>Age</th>\n",
       "      <th>SibSp</th>\n",
       "      <th>Parch</th>\n",
       "      <th>Fare</th>\n",
       "      <th>Sex_female</th>\n",
       "      <th>Sex_male</th>\n",
       "      <th>Embarked_C</th>\n",
       "      <th>Embarked_Q</th>\n",
       "      <th>Embarked_S</th>\n",
       "    </tr>\n",
       "  </thead>\n",
       "  <tbody>\n",
       "    <tr>\n",
       "      <th>0</th>\n",
       "      <td>0.841916</td>\n",
       "      <td>-0.576088</td>\n",
       "      <td>0.481288</td>\n",
       "      <td>-0.445000</td>\n",
       "      <td>-0.503499</td>\n",
       "      <td>-0.743497</td>\n",
       "      <td>0.743497</td>\n",
       "      <td>-0.50977</td>\n",
       "      <td>-0.322040</td>\n",
       "      <td>0.657394</td>\n",
       "    </tr>\n",
       "    <tr>\n",
       "      <th>1</th>\n",
       "      <td>-1.546098</td>\n",
       "      <td>0.663229</td>\n",
       "      <td>0.481288</td>\n",
       "      <td>-0.445000</td>\n",
       "      <td>0.734591</td>\n",
       "      <td>1.344995</td>\n",
       "      <td>-1.344995</td>\n",
       "      <td>1.96167</td>\n",
       "      <td>-0.322040</td>\n",
       "      <td>-1.521159</td>\n",
       "    </tr>\n",
       "    <tr>\n",
       "      <th>2</th>\n",
       "      <td>0.841916</td>\n",
       "      <td>-0.266258</td>\n",
       "      <td>-0.479087</td>\n",
       "      <td>-0.445000</td>\n",
       "      <td>-0.490448</td>\n",
       "      <td>1.344995</td>\n",
       "      <td>-1.344995</td>\n",
       "      <td>-0.50977</td>\n",
       "      <td>-0.322040</td>\n",
       "      <td>0.657394</td>\n",
       "    </tr>\n",
       "    <tr>\n",
       "      <th>3</th>\n",
       "      <td>-1.546098</td>\n",
       "      <td>0.430857</td>\n",
       "      <td>0.481288</td>\n",
       "      <td>-0.445000</td>\n",
       "      <td>0.383015</td>\n",
       "      <td>1.344995</td>\n",
       "      <td>-1.344995</td>\n",
       "      <td>-0.50977</td>\n",
       "      <td>-0.322040</td>\n",
       "      <td>0.657394</td>\n",
       "    </tr>\n",
       "    <tr>\n",
       "      <th>4</th>\n",
       "      <td>0.841916</td>\n",
       "      <td>0.430857</td>\n",
       "      <td>-0.479087</td>\n",
       "      <td>-0.445000</td>\n",
       "      <td>-0.488031</td>\n",
       "      <td>-0.743497</td>\n",
       "      <td>0.743497</td>\n",
       "      <td>-0.50977</td>\n",
       "      <td>-0.322040</td>\n",
       "      <td>0.657394</td>\n",
       "    </tr>\n",
       "    <tr>\n",
       "      <th>5</th>\n",
       "      <td>0.841916</td>\n",
       "      <td>-0.111344</td>\n",
       "      <td>-0.479087</td>\n",
       "      <td>-0.445000</td>\n",
       "      <td>-0.480136</td>\n",
       "      <td>-0.743497</td>\n",
       "      <td>0.743497</td>\n",
       "      <td>-0.50977</td>\n",
       "      <td>3.105202</td>\n",
       "      <td>-1.521159</td>\n",
       "    </tr>\n",
       "    <tr>\n",
       "      <th>6</th>\n",
       "      <td>-1.546098</td>\n",
       "      <td>1.902546</td>\n",
       "      <td>-0.479087</td>\n",
       "      <td>-0.445000</td>\n",
       "      <td>0.359088</td>\n",
       "      <td>-0.743497</td>\n",
       "      <td>0.743497</td>\n",
       "      <td>-0.50977</td>\n",
       "      <td>-0.322040</td>\n",
       "      <td>0.657394</td>\n",
       "    </tr>\n",
       "    <tr>\n",
       "      <th>7</th>\n",
       "      <td>0.841916</td>\n",
       "      <td>-2.125233</td>\n",
       "      <td>2.402037</td>\n",
       "      <td>0.710763</td>\n",
       "      <td>-0.236191</td>\n",
       "      <td>-0.743497</td>\n",
       "      <td>0.743497</td>\n",
       "      <td>-0.50977</td>\n",
       "      <td>-0.322040</td>\n",
       "      <td>0.657394</td>\n",
       "    </tr>\n",
       "    <tr>\n",
       "      <th>8</th>\n",
       "      <td>0.841916</td>\n",
       "      <td>-0.188801</td>\n",
       "      <td>-0.479087</td>\n",
       "      <td>1.866526</td>\n",
       "      <td>-0.428415</td>\n",
       "      <td>1.344995</td>\n",
       "      <td>-1.344995</td>\n",
       "      <td>-0.50977</td>\n",
       "      <td>-0.322040</td>\n",
       "      <td>0.657394</td>\n",
       "    </tr>\n",
       "    <tr>\n",
       "      <th>9</th>\n",
       "      <td>-0.352091</td>\n",
       "      <td>-1.195746</td>\n",
       "      <td>0.481288</td>\n",
       "      <td>-0.445000</td>\n",
       "      <td>-0.062257</td>\n",
       "      <td>1.344995</td>\n",
       "      <td>-1.344995</td>\n",
       "      <td>1.96167</td>\n",
       "      <td>-0.322040</td>\n",
       "      <td>-1.521159</td>\n",
       "    </tr>\n",
       "  </tbody>\n",
       "</table>\n",
       "</div>"
      ],
      "text/plain": [
       "     Pclass       Age     SibSp     Parch      Fare  Sex_female  Sex_male  \\\n",
       "0  0.841916 -0.576088  0.481288 -0.445000 -0.503499   -0.743497  0.743497   \n",
       "1 -1.546098  0.663229  0.481288 -0.445000  0.734591    1.344995 -1.344995   \n",
       "2  0.841916 -0.266258 -0.479087 -0.445000 -0.490448    1.344995 -1.344995   \n",
       "3 -1.546098  0.430857  0.481288 -0.445000  0.383015    1.344995 -1.344995   \n",
       "4  0.841916  0.430857 -0.479087 -0.445000 -0.488031   -0.743497  0.743497   \n",
       "5  0.841916 -0.111344 -0.479087 -0.445000 -0.480136   -0.743497  0.743497   \n",
       "6 -1.546098  1.902546 -0.479087 -0.445000  0.359088   -0.743497  0.743497   \n",
       "7  0.841916 -2.125233  2.402037  0.710763 -0.236191   -0.743497  0.743497   \n",
       "8  0.841916 -0.188801 -0.479087  1.866526 -0.428415    1.344995 -1.344995   \n",
       "9 -0.352091 -1.195746  0.481288 -0.445000 -0.062257    1.344995 -1.344995   \n",
       "\n",
       "   Embarked_C  Embarked_Q  Embarked_S  \n",
       "0    -0.50977   -0.322040    0.657394  \n",
       "1     1.96167   -0.322040   -1.521159  \n",
       "2    -0.50977   -0.322040    0.657394  \n",
       "3    -0.50977   -0.322040    0.657394  \n",
       "4    -0.50977   -0.322040    0.657394  \n",
       "5    -0.50977    3.105202   -1.521159  \n",
       "6    -0.50977   -0.322040    0.657394  \n",
       "7    -0.50977   -0.322040    0.657394  \n",
       "8    -0.50977   -0.322040    0.657394  \n",
       "9     1.96167   -0.322040   -1.521159  "
      ]
     },
     "execution_count": 12,
     "metadata": {},
     "output_type": "execute_result"
    }
   ],
   "source": [
    "scaler = preprocessing.StandardScaler()\n",
    "all_data_scaled = pd.DataFrame(scaler.fit_transform(all_data), columns=all_data.columns)\n",
    "all_data_scaled.head(10)"
   ]
  },
  {
   "cell_type": "code",
   "execution_count": 13,
   "id": "09d3eee9",
   "metadata": {
    "execution": {
     "iopub.execute_input": "2022-04-20T08:39:45.026910Z",
     "iopub.status.busy": "2022-04-20T08:39:45.026631Z",
     "iopub.status.idle": "2022-04-20T08:39:45.032963Z",
     "shell.execute_reply": "2022-04-20T08:39:45.031872Z"
    },
    "papermill": {
     "duration": 0.039522,
     "end_time": "2022-04-20T08:39:45.035248",
     "exception": false,
     "start_time": "2022-04-20T08:39:44.995726",
     "status": "completed"
    },
    "tags": []
   },
   "outputs": [
    {
     "data": {
      "text/plain": [
       "891"
      ]
     },
     "execution_count": 13,
     "metadata": {},
     "output_type": "execute_result"
    }
   ],
   "source": [
    "X_train.shape[0]"
   ]
  },
  {
   "cell_type": "code",
   "execution_count": 14,
   "id": "c375414e",
   "metadata": {
    "execution": {
     "iopub.execute_input": "2022-04-20T08:39:45.098704Z",
     "iopub.status.busy": "2022-04-20T08:39:45.098430Z",
     "iopub.status.idle": "2022-04-20T08:39:45.103949Z",
     "shell.execute_reply": "2022-04-20T08:39:45.102967Z"
    },
    "papermill": {
     "duration": 0.040219,
     "end_time": "2022-04-20T08:39:45.106195",
     "exception": false,
     "start_time": "2022-04-20T08:39:45.065976",
     "status": "completed"
    },
    "tags": []
   },
   "outputs": [],
   "source": [
    "X_train_scaled = all_data_scaled.loc[0:X_train.shape[0]-1,:]\n",
    "X_test_scaled = all_data_scaled.loc[X_train.shape[0]::,:]"
   ]
  },
  {
   "cell_type": "code",
   "execution_count": 15,
   "id": "3b77b832",
   "metadata": {
    "execution": {
     "iopub.execute_input": "2022-04-20T08:39:45.167891Z",
     "iopub.status.busy": "2022-04-20T08:39:45.167588Z",
     "iopub.status.idle": "2022-04-20T08:39:45.173004Z",
     "shell.execute_reply": "2022-04-20T08:39:45.172405Z"
    },
    "papermill": {
     "duration": 0.03902,
     "end_time": "2022-04-20T08:39:45.175168",
     "exception": false,
     "start_time": "2022-04-20T08:39:45.136148",
     "status": "completed"
    },
    "tags": []
   },
   "outputs": [
    {
     "data": {
      "text/plain": [
       "(891, 10)"
      ]
     },
     "execution_count": 15,
     "metadata": {},
     "output_type": "execute_result"
    }
   ],
   "source": [
    "X_train_scaled.shape"
   ]
  },
  {
   "cell_type": "code",
   "execution_count": 16,
   "id": "959cf9ae",
   "metadata": {
    "execution": {
     "iopub.execute_input": "2022-04-20T08:39:45.238150Z",
     "iopub.status.busy": "2022-04-20T08:39:45.237852Z",
     "iopub.status.idle": "2022-04-20T08:39:45.252798Z",
     "shell.execute_reply": "2022-04-20T08:39:45.252168Z"
    },
    "papermill": {
     "duration": 0.049274,
     "end_time": "2022-04-20T08:39:45.254739",
     "exception": false,
     "start_time": "2022-04-20T08:39:45.205465",
     "status": "completed"
    },
    "tags": []
   },
   "outputs": [
    {
     "data": {
      "text/html": [
       "<div>\n",
       "<style scoped>\n",
       "    .dataframe tbody tr th:only-of-type {\n",
       "        vertical-align: middle;\n",
       "    }\n",
       "\n",
       "    .dataframe tbody tr th {\n",
       "        vertical-align: top;\n",
       "    }\n",
       "\n",
       "    .dataframe thead th {\n",
       "        text-align: right;\n",
       "    }\n",
       "</style>\n",
       "<table border=\"1\" class=\"dataframe\">\n",
       "  <thead>\n",
       "    <tr style=\"text-align: right;\">\n",
       "      <th></th>\n",
       "      <th>Pclass</th>\n",
       "      <th>Age</th>\n",
       "      <th>SibSp</th>\n",
       "      <th>Parch</th>\n",
       "      <th>Fare</th>\n",
       "      <th>Sex_female</th>\n",
       "      <th>Sex_male</th>\n",
       "      <th>Embarked_C</th>\n",
       "      <th>Embarked_Q</th>\n",
       "      <th>Embarked_S</th>\n",
       "    </tr>\n",
       "  </thead>\n",
       "  <tbody>\n",
       "    <tr>\n",
       "      <th>0</th>\n",
       "      <td>0.841916</td>\n",
       "      <td>-0.576088</td>\n",
       "      <td>0.481288</td>\n",
       "      <td>-0.445</td>\n",
       "      <td>-0.503499</td>\n",
       "      <td>-0.743497</td>\n",
       "      <td>0.743497</td>\n",
       "      <td>-0.50977</td>\n",
       "      <td>-0.32204</td>\n",
       "      <td>0.657394</td>\n",
       "    </tr>\n",
       "    <tr>\n",
       "      <th>1</th>\n",
       "      <td>-1.546098</td>\n",
       "      <td>0.663229</td>\n",
       "      <td>0.481288</td>\n",
       "      <td>-0.445</td>\n",
       "      <td>0.734591</td>\n",
       "      <td>1.344995</td>\n",
       "      <td>-1.344995</td>\n",
       "      <td>1.96167</td>\n",
       "      <td>-0.32204</td>\n",
       "      <td>-1.521159</td>\n",
       "    </tr>\n",
       "    <tr>\n",
       "      <th>2</th>\n",
       "      <td>0.841916</td>\n",
       "      <td>-0.266258</td>\n",
       "      <td>-0.479087</td>\n",
       "      <td>-0.445</td>\n",
       "      <td>-0.490448</td>\n",
       "      <td>1.344995</td>\n",
       "      <td>-1.344995</td>\n",
       "      <td>-0.50977</td>\n",
       "      <td>-0.32204</td>\n",
       "      <td>0.657394</td>\n",
       "    </tr>\n",
       "    <tr>\n",
       "      <th>3</th>\n",
       "      <td>-1.546098</td>\n",
       "      <td>0.430857</td>\n",
       "      <td>0.481288</td>\n",
       "      <td>-0.445</td>\n",
       "      <td>0.383015</td>\n",
       "      <td>1.344995</td>\n",
       "      <td>-1.344995</td>\n",
       "      <td>-0.50977</td>\n",
       "      <td>-0.32204</td>\n",
       "      <td>0.657394</td>\n",
       "    </tr>\n",
       "    <tr>\n",
       "      <th>4</th>\n",
       "      <td>0.841916</td>\n",
       "      <td>0.430857</td>\n",
       "      <td>-0.479087</td>\n",
       "      <td>-0.445</td>\n",
       "      <td>-0.488031</td>\n",
       "      <td>-0.743497</td>\n",
       "      <td>0.743497</td>\n",
       "      <td>-0.50977</td>\n",
       "      <td>-0.32204</td>\n",
       "      <td>0.657394</td>\n",
       "    </tr>\n",
       "  </tbody>\n",
       "</table>\n",
       "</div>"
      ],
      "text/plain": [
       "     Pclass       Age     SibSp  Parch      Fare  Sex_female  Sex_male  \\\n",
       "0  0.841916 -0.576088  0.481288 -0.445 -0.503499   -0.743497  0.743497   \n",
       "1 -1.546098  0.663229  0.481288 -0.445  0.734591    1.344995 -1.344995   \n",
       "2  0.841916 -0.266258 -0.479087 -0.445 -0.490448    1.344995 -1.344995   \n",
       "3 -1.546098  0.430857  0.481288 -0.445  0.383015    1.344995 -1.344995   \n",
       "4  0.841916  0.430857 -0.479087 -0.445 -0.488031   -0.743497  0.743497   \n",
       "\n",
       "   Embarked_C  Embarked_Q  Embarked_S  \n",
       "0    -0.50977    -0.32204    0.657394  \n",
       "1     1.96167    -0.32204   -1.521159  \n",
       "2    -0.50977    -0.32204    0.657394  \n",
       "3    -0.50977    -0.32204    0.657394  \n",
       "4    -0.50977    -0.32204    0.657394  "
      ]
     },
     "execution_count": 16,
     "metadata": {},
     "output_type": "execute_result"
    }
   ],
   "source": [
    "X_train_scaled.head()"
   ]
  },
  {
   "cell_type": "code",
   "execution_count": 17,
   "id": "e9225cf1",
   "metadata": {
    "execution": {
     "iopub.execute_input": "2022-04-20T08:39:45.319691Z",
     "iopub.status.busy": "2022-04-20T08:39:45.319148Z",
     "iopub.status.idle": "2022-04-20T08:39:45.323922Z",
     "shell.execute_reply": "2022-04-20T08:39:45.323289Z"
    },
    "papermill": {
     "duration": 0.040094,
     "end_time": "2022-04-20T08:39:45.325831",
     "exception": false,
     "start_time": "2022-04-20T08:39:45.285737",
     "status": "completed"
    },
    "tags": []
   },
   "outputs": [
    {
     "data": {
      "text/plain": [
       "(418, 10)"
      ]
     },
     "execution_count": 17,
     "metadata": {},
     "output_type": "execute_result"
    }
   ],
   "source": [
    "X_test_scaled.shape"
   ]
  },
  {
   "cell_type": "code",
   "execution_count": 18,
   "id": "c04700f2",
   "metadata": {
    "execution": {
     "iopub.execute_input": "2022-04-20T08:39:45.390730Z",
     "iopub.status.busy": "2022-04-20T08:39:45.390202Z",
     "iopub.status.idle": "2022-04-20T08:39:45.405206Z",
     "shell.execute_reply": "2022-04-20T08:39:45.404523Z"
    },
    "papermill": {
     "duration": 0.050291,
     "end_time": "2022-04-20T08:39:45.407277",
     "exception": false,
     "start_time": "2022-04-20T08:39:45.356986",
     "status": "completed"
    },
    "tags": []
   },
   "outputs": [
    {
     "data": {
      "text/html": [
       "<div>\n",
       "<style scoped>\n",
       "    .dataframe tbody tr th:only-of-type {\n",
       "        vertical-align: middle;\n",
       "    }\n",
       "\n",
       "    .dataframe tbody tr th {\n",
       "        vertical-align: top;\n",
       "    }\n",
       "\n",
       "    .dataframe thead th {\n",
       "        text-align: right;\n",
       "    }\n",
       "</style>\n",
       "<table border=\"1\" class=\"dataframe\">\n",
       "  <thead>\n",
       "    <tr style=\"text-align: right;\">\n",
       "      <th></th>\n",
       "      <th>Pclass</th>\n",
       "      <th>Age</th>\n",
       "      <th>SibSp</th>\n",
       "      <th>Parch</th>\n",
       "      <th>Fare</th>\n",
       "      <th>Sex_female</th>\n",
       "      <th>Sex_male</th>\n",
       "      <th>Embarked_C</th>\n",
       "      <th>Embarked_Q</th>\n",
       "      <th>Embarked_S</th>\n",
       "    </tr>\n",
       "  </thead>\n",
       "  <tbody>\n",
       "    <tr>\n",
       "      <th>891</th>\n",
       "      <td>0.841916</td>\n",
       "      <td>0.392129</td>\n",
       "      <td>-0.479087</td>\n",
       "      <td>-0.445000</td>\n",
       "      <td>-0.492300</td>\n",
       "      <td>-0.743497</td>\n",
       "      <td>0.743497</td>\n",
       "      <td>-0.50977</td>\n",
       "      <td>3.105202</td>\n",
       "      <td>-1.521159</td>\n",
       "    </tr>\n",
       "    <tr>\n",
       "      <th>892</th>\n",
       "      <td>0.841916</td>\n",
       "      <td>1.360345</td>\n",
       "      <td>0.481288</td>\n",
       "      <td>-0.445000</td>\n",
       "      <td>-0.508333</td>\n",
       "      <td>1.344995</td>\n",
       "      <td>-1.344995</td>\n",
       "      <td>-0.50977</td>\n",
       "      <td>-0.322040</td>\n",
       "      <td>0.657394</td>\n",
       "    </tr>\n",
       "    <tr>\n",
       "      <th>893</th>\n",
       "      <td>-0.352091</td>\n",
       "      <td>2.522204</td>\n",
       "      <td>-0.479087</td>\n",
       "      <td>-0.445000</td>\n",
       "      <td>-0.456370</td>\n",
       "      <td>-0.743497</td>\n",
       "      <td>0.743497</td>\n",
       "      <td>-0.50977</td>\n",
       "      <td>3.105202</td>\n",
       "      <td>-1.521159</td>\n",
       "    </tr>\n",
       "    <tr>\n",
       "      <th>894</th>\n",
       "      <td>0.841916</td>\n",
       "      <td>-0.188801</td>\n",
       "      <td>-0.479087</td>\n",
       "      <td>-0.445000</td>\n",
       "      <td>-0.476188</td>\n",
       "      <td>-0.743497</td>\n",
       "      <td>0.743497</td>\n",
       "      <td>-0.50977</td>\n",
       "      <td>-0.322040</td>\n",
       "      <td>0.657394</td>\n",
       "    </tr>\n",
       "    <tr>\n",
       "      <th>895</th>\n",
       "      <td>0.841916</td>\n",
       "      <td>-0.576088</td>\n",
       "      <td>0.481288</td>\n",
       "      <td>0.710763</td>\n",
       "      <td>-0.406098</td>\n",
       "      <td>1.344995</td>\n",
       "      <td>-1.344995</td>\n",
       "      <td>-0.50977</td>\n",
       "      <td>-0.322040</td>\n",
       "      <td>0.657394</td>\n",
       "    </tr>\n",
       "  </tbody>\n",
       "</table>\n",
       "</div>"
      ],
      "text/plain": [
       "       Pclass       Age     SibSp     Parch      Fare  Sex_female  Sex_male  \\\n",
       "891  0.841916  0.392129 -0.479087 -0.445000 -0.492300   -0.743497  0.743497   \n",
       "892  0.841916  1.360345  0.481288 -0.445000 -0.508333    1.344995 -1.344995   \n",
       "893 -0.352091  2.522204 -0.479087 -0.445000 -0.456370   -0.743497  0.743497   \n",
       "894  0.841916 -0.188801 -0.479087 -0.445000 -0.476188   -0.743497  0.743497   \n",
       "895  0.841916 -0.576088  0.481288  0.710763 -0.406098    1.344995 -1.344995   \n",
       "\n",
       "     Embarked_C  Embarked_Q  Embarked_S  \n",
       "891    -0.50977    3.105202   -1.521159  \n",
       "892    -0.50977   -0.322040    0.657394  \n",
       "893    -0.50977    3.105202   -1.521159  \n",
       "894    -0.50977   -0.322040    0.657394  \n",
       "895    -0.50977   -0.322040    0.657394  "
      ]
     },
     "execution_count": 18,
     "metadata": {},
     "output_type": "execute_result"
    }
   ],
   "source": [
    "X_test_scaled.head()"
   ]
  },
  {
   "cell_type": "code",
   "execution_count": 19,
   "id": "0bc6b7e6",
   "metadata": {
    "execution": {
     "iopub.execute_input": "2022-04-20T08:39:45.473800Z",
     "iopub.status.busy": "2022-04-20T08:39:45.473275Z",
     "iopub.status.idle": "2022-04-20T08:40:02.945216Z",
     "shell.execute_reply": "2022-04-20T08:40:02.944157Z"
    },
    "papermill": {
     "duration": 17.507608,
     "end_time": "2022-04-20T08:40:02.947733",
     "exception": false,
     "start_time": "2022-04-20T08:39:45.440125",
     "status": "completed"
    },
    "tags": []
   },
   "outputs": [
    {
     "name": "stdout",
     "output_type": "stream",
     "text": [
      "using 4 CPUs\n",
      "Fitting 100 folds for each of 36 candidates, totalling 3600 fits\n"
     ]
    }
   ],
   "source": [
    "clf = select_model_hyperparams(X_train_scaled, train_data.Survived);"
   ]
  },
  {
   "cell_type": "code",
   "execution_count": 20,
   "id": "fa130cc4",
   "metadata": {
    "execution": {
     "iopub.execute_input": "2022-04-20T08:40:03.014319Z",
     "iopub.status.busy": "2022-04-20T08:40:03.014014Z",
     "iopub.status.idle": "2022-04-20T08:40:03.020520Z",
     "shell.execute_reply": "2022-04-20T08:40:03.019408Z"
    },
    "papermill": {
     "duration": 0.042767,
     "end_time": "2022-04-20T08:40:03.022856",
     "exception": false,
     "start_time": "2022-04-20T08:40:02.980089",
     "status": "completed"
    },
    "tags": []
   },
   "outputs": [
    {
     "name": "stdout",
     "output_type": "stream",
     "text": [
      "Best average validation score: 0.8212\n",
      "  Param: n_neighbors = 14\n",
      "  Param: p = 1\n",
      "  Param: weights = uniform\n"
     ]
    }
   ],
   "source": [
    "print(\"Best average validation score: {}\".format(clf.best_score_.round(4)))\n",
    "for pname, pvalue in clf.best_params_.items():\n",
    "    print(\"  Param: {} = {}\".format(pname, pvalue))"
   ]
  },
  {
   "cell_type": "code",
   "execution_count": 21,
   "id": "a06ba190",
   "metadata": {
    "execution": {
     "iopub.execute_input": "2022-04-20T08:40:03.091114Z",
     "iopub.status.busy": "2022-04-20T08:40:03.090763Z",
     "iopub.status.idle": "2022-04-20T08:40:03.118129Z",
     "shell.execute_reply": "2022-04-20T08:40:03.117360Z"
    },
    "papermill": {
     "duration": 0.064788,
     "end_time": "2022-04-20T08:40:03.120571",
     "exception": false,
     "start_time": "2022-04-20T08:40:03.055783",
     "status": "completed"
    },
    "tags": []
   },
   "outputs": [],
   "source": [
    "predictions = clf.predict(X_test_scaled)"
   ]
  },
  {
   "cell_type": "code",
   "execution_count": 22,
   "id": "1408b6d9",
   "metadata": {
    "execution": {
     "iopub.execute_input": "2022-04-20T08:40:03.188537Z",
     "iopub.status.busy": "2022-04-20T08:40:03.188087Z",
     "iopub.status.idle": "2022-04-20T08:40:03.197998Z",
     "shell.execute_reply": "2022-04-20T08:40:03.197283Z"
    },
    "papermill": {
     "duration": 0.04694,
     "end_time": "2022-04-20T08:40:03.200213",
     "exception": false,
     "start_time": "2022-04-20T08:40:03.153273",
     "status": "completed"
    },
    "tags": []
   },
   "outputs": [
    {
     "data": {
      "text/html": [
       "<div>\n",
       "<style scoped>\n",
       "    .dataframe tbody tr th:only-of-type {\n",
       "        vertical-align: middle;\n",
       "    }\n",
       "\n",
       "    .dataframe tbody tr th {\n",
       "        vertical-align: top;\n",
       "    }\n",
       "\n",
       "    .dataframe thead th {\n",
       "        text-align: right;\n",
       "    }\n",
       "</style>\n",
       "<table border=\"1\" class=\"dataframe\">\n",
       "  <thead>\n",
       "    <tr style=\"text-align: right;\">\n",
       "      <th></th>\n",
       "      <th>PassengerId</th>\n",
       "      <th>Survived</th>\n",
       "    </tr>\n",
       "  </thead>\n",
       "  <tbody>\n",
       "    <tr>\n",
       "      <th>0</th>\n",
       "      <td>892</td>\n",
       "      <td>0</td>\n",
       "    </tr>\n",
       "    <tr>\n",
       "      <th>1</th>\n",
       "      <td>893</td>\n",
       "      <td>0</td>\n",
       "    </tr>\n",
       "    <tr>\n",
       "      <th>2</th>\n",
       "      <td>894</td>\n",
       "      <td>0</td>\n",
       "    </tr>\n",
       "    <tr>\n",
       "      <th>3</th>\n",
       "      <td>895</td>\n",
       "      <td>0</td>\n",
       "    </tr>\n",
       "    <tr>\n",
       "      <th>4</th>\n",
       "      <td>896</td>\n",
       "      <td>1</td>\n",
       "    </tr>\n",
       "  </tbody>\n",
       "</table>\n",
       "</div>"
      ],
      "text/plain": [
       "   PassengerId  Survived\n",
       "0          892         0\n",
       "1          893         0\n",
       "2          894         0\n",
       "3          895         0\n",
       "4          896         1"
      ]
     },
     "execution_count": 22,
     "metadata": {},
     "output_type": "execute_result"
    }
   ],
   "source": [
    "output = pd.DataFrame({'PassengerId': test_data.PassengerId, 'Survived': predictions})\n",
    "output.head()"
   ]
  },
  {
   "cell_type": "code",
   "execution_count": 23,
   "id": "77bbc825",
   "metadata": {
    "execution": {
     "iopub.execute_input": "2022-04-20T08:40:03.269292Z",
     "iopub.status.busy": "2022-04-20T08:40:03.268695Z",
     "iopub.status.idle": "2022-04-20T08:40:03.284143Z",
     "shell.execute_reply": "2022-04-20T08:40:03.282716Z"
    },
    "papermill": {
     "duration": 0.052386,
     "end_time": "2022-04-20T08:40:03.286281",
     "exception": false,
     "start_time": "2022-04-20T08:40:03.233895",
     "status": "completed"
    },
    "tags": []
   },
   "outputs": [
    {
     "name": "stdout",
     "output_type": "stream",
     "text": [
      "<class 'pandas.core.frame.DataFrame'>\n",
      "RangeIndex: 418 entries, 0 to 417\n",
      "Data columns (total 2 columns):\n",
      " #   Column       Non-Null Count  Dtype\n",
      "---  ------       --------------  -----\n",
      " 0   PassengerId  418 non-null    int64\n",
      " 1   Survived     418 non-null    int64\n",
      "dtypes: int64(2)\n",
      "memory usage: 6.7 KB\n"
     ]
    }
   ],
   "source": [
    "output.info()"
   ]
  },
  {
   "cell_type": "code",
   "execution_count": 24,
   "id": "34a0af4b",
   "metadata": {
    "execution": {
     "iopub.execute_input": "2022-04-20T08:40:03.358247Z",
     "iopub.status.busy": "2022-04-20T08:40:03.357936Z",
     "iopub.status.idle": "2022-04-20T08:40:03.366594Z",
     "shell.execute_reply": "2022-04-20T08:40:03.365787Z"
    },
    "papermill": {
     "duration": 0.049071,
     "end_time": "2022-04-20T08:40:03.368993",
     "exception": false,
     "start_time": "2022-04-20T08:40:03.319922",
     "status": "completed"
    },
    "tags": []
   },
   "outputs": [],
   "source": [
    "output.to_csv('submission_03_sc_knn_scaling1.csv', index=False)"
   ]
  },
  {
   "cell_type": "code",
   "execution_count": null,
   "id": "5aaaeccd",
   "metadata": {
    "papermill": {
     "duration": 0.035366,
     "end_time": "2022-04-20T08:40:03.439589",
     "exception": false,
     "start_time": "2022-04-20T08:40:03.404223",
     "status": "completed"
    },
    "tags": []
   },
   "outputs": [],
   "source": []
  }
 ],
 "metadata": {
  "kernelspec": {
   "display_name": "Python 3",
   "language": "python",
   "name": "python3"
  },
  "language_info": {
   "codemirror_mode": {
    "name": "ipython",
    "version": 3
   },
   "file_extension": ".py",
   "mimetype": "text/x-python",
   "name": "python",
   "nbconvert_exporter": "python",
   "pygments_lexer": "ipython3",
   "version": "3.7.12"
  },
  "papermill": {
   "default_parameters": {},
   "duration": 33.408995,
   "end_time": "2022-04-20T08:40:06.096808",
   "environment_variables": {},
   "exception": null,
   "input_path": "__notebook__.ipynb",
   "output_path": "__notebook__.ipynb",
   "parameters": {},
   "start_time": "2022-04-20T08:39:32.687813",
   "version": "2.3.4"
  }
 },
 "nbformat": 4,
 "nbformat_minor": 5
}
