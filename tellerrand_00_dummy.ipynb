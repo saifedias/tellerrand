{
 "cells": [
  {
   "cell_type": "markdown",
   "id": "4b850a4f",
   "metadata": {
    "papermill": {
     "duration": 0.017662,
     "end_time": "2022-04-13T11:55:52.372374",
     "exception": false,
     "start_time": "2022-04-13T11:55:52.354712",
     "status": "completed"
    },
    "tags": []
   },
   "source": [
    "## import stuff"
   ]
  },
  {
   "cell_type": "code",
   "execution_count": 1,
   "id": "2d4e4d10",
   "metadata": {
    "_cell_guid": "b1076dfc-b9ad-4769-8c92-a6c4dae69d19",
    "_uuid": "8f2839f25d086af736a60e9eeb907d3b93b6e0e5",
    "execution": {
     "iopub.execute_input": "2022-04-13T11:55:52.410554Z",
     "iopub.status.busy": "2022-04-13T11:55:52.409390Z",
     "iopub.status.idle": "2022-04-13T11:55:53.624529Z",
     "shell.execute_reply": "2022-04-13T11:55:53.623849Z",
     "shell.execute_reply.started": "2022-04-13T11:48:21.493633Z"
    },
    "papermill": {
     "duration": 1.235428,
     "end_time": "2022-04-13T11:55:53.624726",
     "exception": false,
     "start_time": "2022-04-13T11:55:52.389298",
     "status": "completed"
    },
    "tags": []
   },
   "outputs": [],
   "source": [
    "import pandas as pd\n",
    "from sklearn.dummy import DummyClassifier"
   ]
  },
  {
   "cell_type": "markdown",
   "id": "1f8e6b72",
   "metadata": {
    "papermill": {
     "duration": 0.016867,
     "end_time": "2022-04-13T11:55:53.658661",
     "exception": false,
     "start_time": "2022-04-13T11:55:53.641794",
     "status": "completed"
    },
    "tags": []
   },
   "source": [
    "---\n",
    "## read data"
   ]
  },
  {
   "cell_type": "code",
   "execution_count": 2,
   "id": "17721b73",
   "metadata": {
    "execution": {
     "iopub.execute_input": "2022-04-13T11:55:53.697751Z",
     "iopub.status.busy": "2022-04-13T11:55:53.697091Z",
     "iopub.status.idle": "2022-04-13T11:55:53.725853Z",
     "shell.execute_reply": "2022-04-13T11:55:53.726358Z",
     "shell.execute_reply.started": "2022-04-13T11:48:22.572981Z"
    },
    "papermill": {
     "duration": 0.050682,
     "end_time": "2022-04-13T11:55:53.726531",
     "exception": false,
     "start_time": "2022-04-13T11:55:53.675849",
     "status": "completed"
    },
    "tags": []
   },
   "outputs": [],
   "source": [
    "train_data = pd.read_csv(\"/kaggle/input/titanic/train.csv\")\n",
    "test_data = pd.read_csv(\"/kaggle/input/titanic/test.csv\")"
   ]
  },
  {
   "cell_type": "markdown",
   "id": "6a955fc1",
   "metadata": {
    "papermill": {
     "duration": 0.016522,
     "end_time": "2022-04-13T11:55:53.760766",
     "exception": false,
     "start_time": "2022-04-13T11:55:53.744244",
     "status": "completed"
    },
    "tags": []
   },
   "source": [
    "---\n",
    "## info about the training data frame"
   ]
  },
  {
   "cell_type": "code",
   "execution_count": 3,
   "id": "0164bffd",
   "metadata": {
    "execution": {
     "iopub.execute_input": "2022-04-13T11:55:53.822835Z",
     "iopub.status.busy": "2022-04-13T11:55:53.822139Z",
     "iopub.status.idle": "2022-04-13T11:55:53.825031Z",
     "shell.execute_reply": "2022-04-13T11:55:53.825534Z",
     "shell.execute_reply.started": "2022-04-13T11:48:22.604966Z"
    },
    "papermill": {
     "duration": 0.047989,
     "end_time": "2022-04-13T11:55:53.825717",
     "exception": false,
     "start_time": "2022-04-13T11:55:53.777728",
     "status": "completed"
    },
    "tags": []
   },
   "outputs": [
    {
     "name": "stdout",
     "output_type": "stream",
     "text": [
      "<class 'pandas.core.frame.DataFrame'>\n",
      "RangeIndex: 891 entries, 0 to 890\n",
      "Data columns (total 12 columns):\n",
      " #   Column       Non-Null Count  Dtype  \n",
      "---  ------       --------------  -----  \n",
      " 0   PassengerId  891 non-null    int64  \n",
      " 1   Survived     891 non-null    int64  \n",
      " 2   Pclass       891 non-null    int64  \n",
      " 3   Name         891 non-null    object \n",
      " 4   Sex          891 non-null    object \n",
      " 5   Age          714 non-null    float64\n",
      " 6   SibSp        891 non-null    int64  \n",
      " 7   Parch        891 non-null    int64  \n",
      " 8   Ticket       891 non-null    object \n",
      " 9   Fare         891 non-null    float64\n",
      " 10  Cabin        204 non-null    object \n",
      " 11  Embarked     889 non-null    object \n",
      "dtypes: float64(2), int64(5), object(5)\n",
      "memory usage: 83.7+ KB\n"
     ]
    }
   ],
   "source": [
    "train_data.info()"
   ]
  },
  {
   "cell_type": "markdown",
   "id": "cc1f719c",
   "metadata": {
    "papermill": {
     "duration": 0.017157,
     "end_time": "2022-04-13T11:55:53.860716",
     "exception": false,
     "start_time": "2022-04-13T11:55:53.843559",
     "status": "completed"
    },
    "tags": []
   },
   "source": [
    "---\n",
    "## define X and y for training"
   ]
  },
  {
   "cell_type": "code",
   "execution_count": 4,
   "id": "5d071670",
   "metadata": {
    "execution": {
     "iopub.execute_input": "2022-04-13T11:55:53.903934Z",
     "iopub.status.busy": "2022-04-13T11:55:53.903259Z",
     "iopub.status.idle": "2022-04-13T11:55:53.905134Z",
     "shell.execute_reply": "2022-04-13T11:55:53.905671Z",
     "shell.execute_reply.started": "2022-04-13T11:48:22.639575Z"
    },
    "papermill": {
     "duration": 0.027661,
     "end_time": "2022-04-13T11:55:53.905845",
     "exception": false,
     "start_time": "2022-04-13T11:55:53.878184",
     "status": "completed"
    },
    "tags": []
   },
   "outputs": [],
   "source": [
    "X = train_data.drop(\"Survived\", axis=1)\n",
    "y = train_data.Survived"
   ]
  },
  {
   "cell_type": "code",
   "execution_count": 5,
   "id": "aa0c0646",
   "metadata": {
    "execution": {
     "iopub.execute_input": "2022-04-13T11:55:53.945678Z",
     "iopub.status.busy": "2022-04-13T11:55:53.944939Z",
     "iopub.status.idle": "2022-04-13T11:55:53.948274Z",
     "shell.execute_reply": "2022-04-13T11:55:53.948900Z",
     "shell.execute_reply.started": "2022-04-13T11:48:22.649213Z"
    },
    "papermill": {
     "duration": 0.025612,
     "end_time": "2022-04-13T11:55:53.949054",
     "exception": false,
     "start_time": "2022-04-13T11:55:53.923442",
     "status": "completed"
    },
    "tags": []
   },
   "outputs": [
    {
     "name": "stdout",
     "output_type": "stream",
     "text": [
      "(891, 11) (891,)\n"
     ]
    }
   ],
   "source": [
    "print(X.shape, y.shape)"
   ]
  },
  {
   "cell_type": "markdown",
   "id": "445b0c10",
   "metadata": {
    "papermill": {
     "duration": 0.017561,
     "end_time": "2022-04-13T11:55:53.984993",
     "exception": false,
     "start_time": "2022-04-13T11:55:53.967432",
     "status": "completed"
    },
    "tags": []
   },
   "source": [
    "---\n",
    "## dummy classification"
   ]
  },
  {
   "cell_type": "code",
   "execution_count": 6,
   "id": "b8b19005",
   "metadata": {
    "execution": {
     "iopub.execute_input": "2022-04-13T11:55:54.024775Z",
     "iopub.status.busy": "2022-04-13T11:55:54.024110Z",
     "iopub.status.idle": "2022-04-13T11:55:54.026541Z",
     "shell.execute_reply": "2022-04-13T11:55:54.027060Z",
     "shell.execute_reply.started": "2022-04-13T11:48:22.666543Z"
    },
    "papermill": {
     "duration": 0.024631,
     "end_time": "2022-04-13T11:55:54.027203",
     "exception": false,
     "start_time": "2022-04-13T11:55:54.002572",
     "status": "completed"
    },
    "tags": []
   },
   "outputs": [],
   "source": [
    "clf = DummyClassifier(strategy=\"most_frequent\")\n",
    "clf.fit(X, y);"
   ]
  },
  {
   "cell_type": "code",
   "execution_count": 7,
   "id": "ec10f95c",
   "metadata": {
    "execution": {
     "iopub.execute_input": "2022-04-13T11:55:54.065355Z",
     "iopub.status.busy": "2022-04-13T11:55:54.064761Z",
     "iopub.status.idle": "2022-04-13T11:55:54.085030Z",
     "shell.execute_reply": "2022-04-13T11:55:54.085530Z",
     "shell.execute_reply.started": "2022-04-13T11:48:44.885624Z"
    },
    "papermill": {
     "duration": 0.040694,
     "end_time": "2022-04-13T11:55:54.085708",
     "exception": false,
     "start_time": "2022-04-13T11:55:54.045014",
     "status": "completed"
    },
    "tags": []
   },
   "outputs": [
    {
     "data": {
      "text/html": [
       "<div>\n",
       "<style scoped>\n",
       "    .dataframe tbody tr th:only-of-type {\n",
       "        vertical-align: middle;\n",
       "    }\n",
       "\n",
       "    .dataframe tbody tr th {\n",
       "        vertical-align: top;\n",
       "    }\n",
       "\n",
       "    .dataframe thead th {\n",
       "        text-align: right;\n",
       "    }\n",
       "</style>\n",
       "<table border=\"1\" class=\"dataframe\">\n",
       "  <thead>\n",
       "    <tr style=\"text-align: right;\">\n",
       "      <th></th>\n",
       "      <th>PassengerId</th>\n",
       "      <th>Pclass</th>\n",
       "      <th>Name</th>\n",
       "      <th>Sex</th>\n",
       "      <th>Age</th>\n",
       "      <th>SibSp</th>\n",
       "      <th>Parch</th>\n",
       "      <th>Ticket</th>\n",
       "      <th>Fare</th>\n",
       "      <th>Cabin</th>\n",
       "      <th>Embarked</th>\n",
       "    </tr>\n",
       "  </thead>\n",
       "  <tbody>\n",
       "    <tr>\n",
       "      <th>0</th>\n",
       "      <td>892</td>\n",
       "      <td>3</td>\n",
       "      <td>Kelly, Mr. James</td>\n",
       "      <td>male</td>\n",
       "      <td>34.5</td>\n",
       "      <td>0</td>\n",
       "      <td>0</td>\n",
       "      <td>330911</td>\n",
       "      <td>7.8292</td>\n",
       "      <td>NaN</td>\n",
       "      <td>Q</td>\n",
       "    </tr>\n",
       "    <tr>\n",
       "      <th>1</th>\n",
       "      <td>893</td>\n",
       "      <td>3</td>\n",
       "      <td>Wilkes, Mrs. James (Ellen Needs)</td>\n",
       "      <td>female</td>\n",
       "      <td>47.0</td>\n",
       "      <td>1</td>\n",
       "      <td>0</td>\n",
       "      <td>363272</td>\n",
       "      <td>7.0000</td>\n",
       "      <td>NaN</td>\n",
       "      <td>S</td>\n",
       "    </tr>\n",
       "    <tr>\n",
       "      <th>2</th>\n",
       "      <td>894</td>\n",
       "      <td>2</td>\n",
       "      <td>Myles, Mr. Thomas Francis</td>\n",
       "      <td>male</td>\n",
       "      <td>62.0</td>\n",
       "      <td>0</td>\n",
       "      <td>0</td>\n",
       "      <td>240276</td>\n",
       "      <td>9.6875</td>\n",
       "      <td>NaN</td>\n",
       "      <td>Q</td>\n",
       "    </tr>\n",
       "    <tr>\n",
       "      <th>3</th>\n",
       "      <td>895</td>\n",
       "      <td>3</td>\n",
       "      <td>Wirz, Mr. Albert</td>\n",
       "      <td>male</td>\n",
       "      <td>27.0</td>\n",
       "      <td>0</td>\n",
       "      <td>0</td>\n",
       "      <td>315154</td>\n",
       "      <td>8.6625</td>\n",
       "      <td>NaN</td>\n",
       "      <td>S</td>\n",
       "    </tr>\n",
       "    <tr>\n",
       "      <th>4</th>\n",
       "      <td>896</td>\n",
       "      <td>3</td>\n",
       "      <td>Hirvonen, Mrs. Alexander (Helga E Lindqvist)</td>\n",
       "      <td>female</td>\n",
       "      <td>22.0</td>\n",
       "      <td>1</td>\n",
       "      <td>1</td>\n",
       "      <td>3101298</td>\n",
       "      <td>12.2875</td>\n",
       "      <td>NaN</td>\n",
       "      <td>S</td>\n",
       "    </tr>\n",
       "  </tbody>\n",
       "</table>\n",
       "</div>"
      ],
      "text/plain": [
       "   PassengerId  Pclass                                          Name     Sex  \\\n",
       "0          892       3                              Kelly, Mr. James    male   \n",
       "1          893       3              Wilkes, Mrs. James (Ellen Needs)  female   \n",
       "2          894       2                     Myles, Mr. Thomas Francis    male   \n",
       "3          895       3                              Wirz, Mr. Albert    male   \n",
       "4          896       3  Hirvonen, Mrs. Alexander (Helga E Lindqvist)  female   \n",
       "\n",
       "    Age  SibSp  Parch   Ticket     Fare Cabin Embarked  \n",
       "0  34.5      0      0   330911   7.8292   NaN        Q  \n",
       "1  47.0      1      0   363272   7.0000   NaN        S  \n",
       "2  62.0      0      0   240276   9.6875   NaN        Q  \n",
       "3  27.0      0      0   315154   8.6625   NaN        S  \n",
       "4  22.0      1      1  3101298  12.2875   NaN        S  "
      ]
     },
     "execution_count": 7,
     "metadata": {},
     "output_type": "execute_result"
    }
   ],
   "source": [
    "X_test = test_data\n",
    "X_test.head()"
   ]
  },
  {
   "cell_type": "code",
   "execution_count": 8,
   "id": "87c7581d",
   "metadata": {
    "execution": {
     "iopub.execute_input": "2022-04-13T11:55:54.125459Z",
     "iopub.status.busy": "2022-04-13T11:55:54.124862Z",
     "iopub.status.idle": "2022-04-13T11:55:54.127786Z",
     "shell.execute_reply": "2022-04-13T11:55:54.128319Z",
     "shell.execute_reply.started": "2022-04-13T11:49:05.675650Z"
    },
    "papermill": {
     "duration": 0.024356,
     "end_time": "2022-04-13T11:55:54.128472",
     "exception": false,
     "start_time": "2022-04-13T11:55:54.104116",
     "status": "completed"
    },
    "tags": []
   },
   "outputs": [],
   "source": [
    "predictions = clf.predict(X_test)"
   ]
  },
  {
   "cell_type": "code",
   "execution_count": 9,
   "id": "9316d130",
   "metadata": {
    "execution": {
     "iopub.execute_input": "2022-04-13T11:55:54.168455Z",
     "iopub.status.busy": "2022-04-13T11:55:54.167863Z",
     "iopub.status.idle": "2022-04-13T11:55:54.177018Z",
     "shell.execute_reply": "2022-04-13T11:55:54.176366Z",
     "shell.execute_reply.started": "2022-04-13T11:49:28.926227Z"
    },
    "papermill": {
     "duration": 0.030131,
     "end_time": "2022-04-13T11:55:54.177149",
     "exception": false,
     "start_time": "2022-04-13T11:55:54.147018",
     "status": "completed"
    },
    "tags": []
   },
   "outputs": [
    {
     "data": {
      "text/html": [
       "<div>\n",
       "<style scoped>\n",
       "    .dataframe tbody tr th:only-of-type {\n",
       "        vertical-align: middle;\n",
       "    }\n",
       "\n",
       "    .dataframe tbody tr th {\n",
       "        vertical-align: top;\n",
       "    }\n",
       "\n",
       "    .dataframe thead th {\n",
       "        text-align: right;\n",
       "    }\n",
       "</style>\n",
       "<table border=\"1\" class=\"dataframe\">\n",
       "  <thead>\n",
       "    <tr style=\"text-align: right;\">\n",
       "      <th></th>\n",
       "      <th>PassengerId</th>\n",
       "      <th>Survived</th>\n",
       "    </tr>\n",
       "  </thead>\n",
       "  <tbody>\n",
       "    <tr>\n",
       "      <th>0</th>\n",
       "      <td>892</td>\n",
       "      <td>0</td>\n",
       "    </tr>\n",
       "    <tr>\n",
       "      <th>1</th>\n",
       "      <td>893</td>\n",
       "      <td>0</td>\n",
       "    </tr>\n",
       "    <tr>\n",
       "      <th>2</th>\n",
       "      <td>894</td>\n",
       "      <td>0</td>\n",
       "    </tr>\n",
       "    <tr>\n",
       "      <th>3</th>\n",
       "      <td>895</td>\n",
       "      <td>0</td>\n",
       "    </tr>\n",
       "    <tr>\n",
       "      <th>4</th>\n",
       "      <td>896</td>\n",
       "      <td>0</td>\n",
       "    </tr>\n",
       "  </tbody>\n",
       "</table>\n",
       "</div>"
      ],
      "text/plain": [
       "   PassengerId  Survived\n",
       "0          892         0\n",
       "1          893         0\n",
       "2          894         0\n",
       "3          895         0\n",
       "4          896         0"
      ]
     },
     "execution_count": 9,
     "metadata": {},
     "output_type": "execute_result"
    }
   ],
   "source": [
    "output = pd.DataFrame({'PassengerId': test_data.PassengerId, 'Survived': predictions})\n",
    "output.head()"
   ]
  },
  {
   "cell_type": "code",
   "execution_count": 10,
   "id": "ef145018",
   "metadata": {
    "execution": {
     "iopub.execute_input": "2022-04-13T11:55:54.219976Z",
     "iopub.status.busy": "2022-04-13T11:55:54.219283Z",
     "iopub.status.idle": "2022-04-13T11:55:54.225024Z",
     "shell.execute_reply": "2022-04-13T11:55:54.225497Z",
     "shell.execute_reply.started": "2022-04-13T11:49:37.375101Z"
    },
    "papermill": {
     "duration": 0.029127,
     "end_time": "2022-04-13T11:55:54.225720",
     "exception": false,
     "start_time": "2022-04-13T11:55:54.196593",
     "status": "completed"
    },
    "tags": []
   },
   "outputs": [],
   "source": [
    "output.to_csv('submission.csv', index=False)"
   ]
  }
 ],
 "metadata": {
  "kernelspec": {
   "display_name": "Python 3",
   "language": "python",
   "name": "python3"
  },
  "language_info": {
   "codemirror_mode": {
    "name": "ipython",
    "version": 3
   },
   "file_extension": ".py",
   "mimetype": "text/x-python",
   "name": "python",
   "nbconvert_exporter": "python",
   "pygments_lexer": "ipython3",
   "version": "3.7.12"
  },
  "papermill": {
   "default_parameters": {},
   "duration": 14.246476,
   "end_time": "2022-04-13T11:55:55.156442",
   "environment_variables": {},
   "exception": null,
   "input_path": "__notebook__.ipynb",
   "output_path": "__notebook__.ipynb",
   "parameters": {},
   "start_time": "2022-04-13T11:55:40.909966",
   "version": "2.3.3"
  }
 },
 "nbformat": 4,
 "nbformat_minor": 5
}
