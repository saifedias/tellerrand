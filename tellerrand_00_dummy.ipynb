{
 "cells": [
  {
   "cell_type": "markdown",
   "id": "1b708a3c",
   "metadata": {
    "papermill": {
     "duration": 0.013091,
     "end_time": "2022-04-13T11:42:10.996029",
     "exception": false,
     "start_time": "2022-04-13T11:42:10.982938",
     "status": "completed"
    },
    "tags": []
   },
   "source": [
    "## import stuff"
   ]
  },
  {
   "cell_type": "code",
   "execution_count": 1,
   "id": "ee8a32d9",
   "metadata": {
    "_cell_guid": "b1076dfc-b9ad-4769-8c92-a6c4dae69d19",
    "_uuid": "8f2839f25d086af736a60e9eeb907d3b93b6e0e5",
    "execution": {
     "iopub.execute_input": "2022-04-13T11:42:11.035563Z",
     "iopub.status.busy": "2022-04-13T11:42:11.034712Z",
     "iopub.status.idle": "2022-04-13T11:42:12.131006Z",
     "shell.execute_reply": "2022-04-13T11:42:12.129743Z",
     "shell.execute_reply.started": "2022-04-13T11:33:42.817505Z"
    },
    "papermill": {
     "duration": 1.121035,
     "end_time": "2022-04-13T11:42:12.131237",
     "exception": false,
     "start_time": "2022-04-13T11:42:11.010202",
     "status": "completed"
    },
    "tags": []
   },
   "outputs": [],
   "source": [
    "import pandas as pd\n",
    "from sklearn.dummy import DummyClassifier"
   ]
  },
  {
   "cell_type": "markdown",
   "id": "f8e73567",
   "metadata": {
    "papermill": {
     "duration": 0.011833,
     "end_time": "2022-04-13T11:42:12.155532",
     "exception": false,
     "start_time": "2022-04-13T11:42:12.143699",
     "status": "completed"
    },
    "tags": []
   },
   "source": [
    "---\n",
    "## read data"
   ]
  },
  {
   "cell_type": "code",
   "execution_count": 2,
   "id": "4f059088",
   "metadata": {
    "execution": {
     "iopub.execute_input": "2022-04-13T11:42:12.183687Z",
     "iopub.status.busy": "2022-04-13T11:42:12.182954Z",
     "iopub.status.idle": "2022-04-13T11:42:12.213424Z",
     "shell.execute_reply": "2022-04-13T11:42:12.212824Z",
     "shell.execute_reply.started": "2022-04-13T11:37:18.012704Z"
    },
    "papermill": {
     "duration": 0.045881,
     "end_time": "2022-04-13T11:42:12.213604",
     "exception": false,
     "start_time": "2022-04-13T11:42:12.167723",
     "status": "completed"
    },
    "tags": []
   },
   "outputs": [],
   "source": [
    "train_data = pd.read_csv(\"/kaggle/input/titanic/train.csv\")\n",
    "test_data = pd.read_csv(\"/kaggle/input/titanic/test.csv\")"
   ]
  },
  {
   "cell_type": "markdown",
   "id": "206cf791",
   "metadata": {
    "papermill": {
     "duration": 0.012178,
     "end_time": "2022-04-13T11:42:12.239646",
     "exception": false,
     "start_time": "2022-04-13T11:42:12.227468",
     "status": "completed"
    },
    "tags": []
   },
   "source": [
    "---\n",
    "## info about the training data frame"
   ]
  },
  {
   "cell_type": "code",
   "execution_count": 3,
   "id": "ef31b6ef",
   "metadata": {
    "execution": {
     "iopub.execute_input": "2022-04-13T11:42:12.267177Z",
     "iopub.status.busy": "2022-04-13T11:42:12.266444Z",
     "iopub.status.idle": "2022-04-13T11:42:12.296269Z",
     "shell.execute_reply": "2022-04-13T11:42:12.296781Z",
     "shell.execute_reply.started": "2022-04-13T11:35:22.846072Z"
    },
    "papermill": {
     "duration": 0.045175,
     "end_time": "2022-04-13T11:42:12.296975",
     "exception": false,
     "start_time": "2022-04-13T11:42:12.251800",
     "status": "completed"
    },
    "tags": []
   },
   "outputs": [
    {
     "name": "stdout",
     "output_type": "stream",
     "text": [
      "<class 'pandas.core.frame.DataFrame'>\n",
      "RangeIndex: 891 entries, 0 to 890\n",
      "Data columns (total 12 columns):\n",
      " #   Column       Non-Null Count  Dtype  \n",
      "---  ------       --------------  -----  \n",
      " 0   PassengerId  891 non-null    int64  \n",
      " 1   Survived     891 non-null    int64  \n",
      " 2   Pclass       891 non-null    int64  \n",
      " 3   Name         891 non-null    object \n",
      " 4   Sex          891 non-null    object \n",
      " 5   Age          714 non-null    float64\n",
      " 6   SibSp        891 non-null    int64  \n",
      " 7   Parch        891 non-null    int64  \n",
      " 8   Ticket       891 non-null    object \n",
      " 9   Fare         891 non-null    float64\n",
      " 10  Cabin        204 non-null    object \n",
      " 11  Embarked     889 non-null    object \n",
      "dtypes: float64(2), int64(5), object(5)\n",
      "memory usage: 83.7+ KB\n"
     ]
    }
   ],
   "source": [
    "train_data.info()"
   ]
  },
  {
   "cell_type": "markdown",
   "id": "2b8489d8",
   "metadata": {
    "papermill": {
     "duration": 0.012279,
     "end_time": "2022-04-13T11:42:12.322212",
     "exception": false,
     "start_time": "2022-04-13T11:42:12.309933",
     "status": "completed"
    },
    "tags": []
   },
   "source": [
    "---\n",
    "## define X and y for training"
   ]
  },
  {
   "cell_type": "code",
   "execution_count": 4,
   "id": "92c84964",
   "metadata": {
    "execution": {
     "iopub.execute_input": "2022-04-13T11:42:12.350829Z",
     "iopub.status.busy": "2022-04-13T11:42:12.350166Z",
     "iopub.status.idle": "2022-04-13T11:42:12.357364Z",
     "shell.execute_reply": "2022-04-13T11:42:12.357932Z",
     "shell.execute_reply.started": "2022-04-13T11:32:19.463272Z"
    },
    "papermill": {
     "duration": 0.023346,
     "end_time": "2022-04-13T11:42:12.358156",
     "exception": false,
     "start_time": "2022-04-13T11:42:12.334810",
     "status": "completed"
    },
    "tags": []
   },
   "outputs": [],
   "source": [
    "X = train_data.drop(\"Survived\", axis=1)\n",
    "y = train_data.Survived"
   ]
  },
  {
   "cell_type": "code",
   "execution_count": 5,
   "id": "ef91beda",
   "metadata": {
    "execution": {
     "iopub.execute_input": "2022-04-13T11:42:12.387575Z",
     "iopub.status.busy": "2022-04-13T11:42:12.386919Z",
     "iopub.status.idle": "2022-04-13T11:42:12.393647Z",
     "shell.execute_reply": "2022-04-13T11:42:12.392617Z",
     "shell.execute_reply.started": "2022-04-13T11:36:13.323659Z"
    },
    "papermill": {
     "duration": 0.022323,
     "end_time": "2022-04-13T11:42:12.393953",
     "exception": false,
     "start_time": "2022-04-13T11:42:12.371630",
     "status": "completed"
    },
    "tags": []
   },
   "outputs": [
    {
     "name": "stdout",
     "output_type": "stream",
     "text": [
      "(891, 11) (891,)\n"
     ]
    }
   ],
   "source": [
    "print(X.shape, y.shape)"
   ]
  },
  {
   "cell_type": "markdown",
   "id": "770fc768",
   "metadata": {
    "papermill": {
     "duration": 0.012664,
     "end_time": "2022-04-13T11:42:12.420758",
     "exception": false,
     "start_time": "2022-04-13T11:42:12.408094",
     "status": "completed"
    },
    "tags": []
   },
   "source": [
    "---\n",
    "## dummy classification"
   ]
  },
  {
   "cell_type": "code",
   "execution_count": 6,
   "id": "f7b9b18b",
   "metadata": {
    "execution": {
     "iopub.execute_input": "2022-04-13T11:42:12.450295Z",
     "iopub.status.busy": "2022-04-13T11:42:12.449597Z",
     "iopub.status.idle": "2022-04-13T11:42:12.454820Z",
     "shell.execute_reply": "2022-04-13T11:42:12.455482Z",
     "shell.execute_reply.started": "2022-04-13T11:31:07.829008Z"
    },
    "papermill": {
     "duration": 0.021879,
     "end_time": "2022-04-13T11:42:12.455699",
     "exception": false,
     "start_time": "2022-04-13T11:42:12.433820",
     "status": "completed"
    },
    "tags": []
   },
   "outputs": [],
   "source": [
    "clf = DummyClassifier(strategy=\"most_frequent\")\n",
    "clf.fit(X, y);"
   ]
  },
  {
   "cell_type": "code",
   "execution_count": null,
   "id": "3bf552b0",
   "metadata": {
    "papermill": {
     "duration": 0.012761,
     "end_time": "2022-04-13T11:42:12.483252",
     "exception": false,
     "start_time": "2022-04-13T11:42:12.470491",
     "status": "completed"
    },
    "tags": []
   },
   "outputs": [],
   "source": []
  },
  {
   "cell_type": "code",
   "execution_count": null,
   "id": "94bab812",
   "metadata": {
    "papermill": {
     "duration": 0.012435,
     "end_time": "2022-04-13T11:42:12.508493",
     "exception": false,
     "start_time": "2022-04-13T11:42:12.496058",
     "status": "completed"
    },
    "tags": []
   },
   "outputs": [],
   "source": []
  }
 ],
 "metadata": {
  "kernelspec": {
   "display_name": "Python 3",
   "language": "python",
   "name": "python3"
  },
  "language_info": {
   "codemirror_mode": {
    "name": "ipython",
    "version": 3
   },
   "file_extension": ".py",
   "mimetype": "text/x-python",
   "name": "python",
   "nbconvert_exporter": "python",
   "pygments_lexer": "ipython3",
   "version": "3.7.12"
  },
  "papermill": {
   "default_parameters": {},
   "duration": 13.429012,
   "end_time": "2022-04-13T11:42:13.534391",
   "environment_variables": {},
   "exception": null,
   "input_path": "__notebook__.ipynb",
   "output_path": "__notebook__.ipynb",
   "parameters": {},
   "start_time": "2022-04-13T11:42:00.105379",
   "version": "2.3.3"
  }
 },
 "nbformat": 4,
 "nbformat_minor": 5
}
