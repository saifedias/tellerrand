{
 "cells": [
  {
   "cell_type": "markdown",
   "id": "1d68ff7e",
   "metadata": {
    "papermill": {
     "duration": 0.016454,
     "end_time": "2022-04-04T13:50:00.818740",
     "exception": false,
     "start_time": "2022-04-04T13:50:00.802286",
     "status": "completed"
    },
    "tags": []
   },
   "source": [
    "## import modules"
   ]
  },
  {
   "cell_type": "code",
   "execution_count": 1,
   "id": "bf5312c8",
   "metadata": {
    "_cell_guid": "b1076dfc-b9ad-4769-8c92-a6c4dae69d19",
    "_uuid": "8f2839f25d086af736a60e9eeb907d3b93b6e0e5",
    "execution": {
     "iopub.execute_input": "2022-04-04T13:50:00.856008Z",
     "iopub.status.busy": "2022-04-04T13:50:00.854779Z",
     "iopub.status.idle": "2022-04-04T13:50:01.840103Z",
     "shell.execute_reply": "2022-04-04T13:50:01.839285Z",
     "shell.execute_reply.started": "2022-04-04T13:23:19.937983Z"
    },
    "papermill": {
     "duration": 1.010662,
     "end_time": "2022-04-04T13:50:01.840271",
     "exception": false,
     "start_time": "2022-04-04T13:50:00.829609",
     "status": "completed"
    },
    "tags": []
   },
   "outputs": [],
   "source": [
    "import numpy as np\n",
    "import scipy as sp\n",
    "import pandas as pd\n",
    "import matplotlib.pyplot as plt\n",
    "import seaborn as sns\n",
    "\n",
    "%matplotlib inline\n",
    "%config InlineBackend.figure_formats = ['svg']\n",
    "sns.set_style(\"white\")"
   ]
  },
  {
   "cell_type": "markdown",
   "id": "f3f97980",
   "metadata": {
    "papermill": {
     "duration": 0.009911,
     "end_time": "2022-04-04T13:50:01.860323",
     "exception": false,
     "start_time": "2022-04-04T13:50:01.850412",
     "status": "completed"
    },
    "tags": []
   },
   "source": [
    "\n",
    "------\n",
    "## data\n",
    "read, shape, head, info"
   ]
  },
  {
   "cell_type": "code",
   "execution_count": 2,
   "id": "6d40803a",
   "metadata": {
    "execution": {
     "iopub.execute_input": "2022-04-04T13:50:01.885437Z",
     "iopub.status.busy": "2022-04-04T13:50:01.884768Z",
     "iopub.status.idle": "2022-04-04T13:50:01.914283Z",
     "shell.execute_reply": "2022-04-04T13:50:01.913667Z",
     "shell.execute_reply.started": "2022-04-04T13:23:50.077324Z"
    },
    "papermill": {
     "duration": 0.044167,
     "end_time": "2022-04-04T13:50:01.914423",
     "exception": false,
     "start_time": "2022-04-04T13:50:01.870256",
     "status": "completed"
    },
    "tags": []
   },
   "outputs": [],
   "source": [
    "data_train=pd.read_csv('../input/titanic/train.csv')"
   ]
  },
  {
   "cell_type": "code",
   "execution_count": 3,
   "id": "2af181d5",
   "metadata": {
    "execution": {
     "iopub.execute_input": "2022-04-04T13:50:01.943039Z",
     "iopub.status.busy": "2022-04-04T13:50:01.942399Z",
     "iopub.status.idle": "2022-04-04T13:50:01.945605Z",
     "shell.execute_reply": "2022-04-04T13:50:01.946081Z",
     "shell.execute_reply.started": "2022-04-04T13:24:36.111535Z"
    },
    "papermill": {
     "duration": 0.021444,
     "end_time": "2022-04-04T13:50:01.946265",
     "exception": false,
     "start_time": "2022-04-04T13:50:01.924821",
     "status": "completed"
    },
    "tags": []
   },
   "outputs": [
    {
     "data": {
      "text/plain": [
       "(891, 12)"
      ]
     },
     "execution_count": 3,
     "metadata": {},
     "output_type": "execute_result"
    }
   ],
   "source": [
    "data_train.shape"
   ]
  },
  {
   "cell_type": "code",
   "execution_count": 4,
   "id": "34435273",
   "metadata": {
    "execution": {
     "iopub.execute_input": "2022-04-04T13:50:01.971619Z",
     "iopub.status.busy": "2022-04-04T13:50:01.971007Z",
     "iopub.status.idle": "2022-04-04T13:50:01.990403Z",
     "shell.execute_reply": "2022-04-04T13:50:01.990849Z",
     "shell.execute_reply.started": "2022-04-04T13:31:59.918786Z"
    },
    "papermill": {
     "duration": 0.033806,
     "end_time": "2022-04-04T13:50:01.991046",
     "exception": false,
     "start_time": "2022-04-04T13:50:01.957240",
     "status": "completed"
    },
    "tags": []
   },
   "outputs": [
    {
     "data": {
      "text/html": [
       "<div>\n",
       "<style scoped>\n",
       "    .dataframe tbody tr th:only-of-type {\n",
       "        vertical-align: middle;\n",
       "    }\n",
       "\n",
       "    .dataframe tbody tr th {\n",
       "        vertical-align: top;\n",
       "    }\n",
       "\n",
       "    .dataframe thead th {\n",
       "        text-align: right;\n",
       "    }\n",
       "</style>\n",
       "<table border=\"1\" class=\"dataframe\">\n",
       "  <thead>\n",
       "    <tr style=\"text-align: right;\">\n",
       "      <th></th>\n",
       "      <th>PassengerId</th>\n",
       "      <th>Survived</th>\n",
       "      <th>Pclass</th>\n",
       "      <th>Name</th>\n",
       "      <th>Sex</th>\n",
       "      <th>Age</th>\n",
       "      <th>SibSp</th>\n",
       "      <th>Parch</th>\n",
       "      <th>Ticket</th>\n",
       "      <th>Fare</th>\n",
       "      <th>Cabin</th>\n",
       "      <th>Embarked</th>\n",
       "    </tr>\n",
       "  </thead>\n",
       "  <tbody>\n",
       "    <tr>\n",
       "      <th>0</th>\n",
       "      <td>1</td>\n",
       "      <td>0</td>\n",
       "      <td>3</td>\n",
       "      <td>Braund, Mr. Owen Harris</td>\n",
       "      <td>male</td>\n",
       "      <td>22.0</td>\n",
       "      <td>1</td>\n",
       "      <td>0</td>\n",
       "      <td>A/5 21171</td>\n",
       "      <td>7.2500</td>\n",
       "      <td>NaN</td>\n",
       "      <td>S</td>\n",
       "    </tr>\n",
       "    <tr>\n",
       "      <th>1</th>\n",
       "      <td>2</td>\n",
       "      <td>1</td>\n",
       "      <td>1</td>\n",
       "      <td>Cumings, Mrs. John Bradley (Florence Briggs Th...</td>\n",
       "      <td>female</td>\n",
       "      <td>38.0</td>\n",
       "      <td>1</td>\n",
       "      <td>0</td>\n",
       "      <td>PC 17599</td>\n",
       "      <td>71.2833</td>\n",
       "      <td>C85</td>\n",
       "      <td>C</td>\n",
       "    </tr>\n",
       "    <tr>\n",
       "      <th>2</th>\n",
       "      <td>3</td>\n",
       "      <td>1</td>\n",
       "      <td>3</td>\n",
       "      <td>Heikkinen, Miss. Laina</td>\n",
       "      <td>female</td>\n",
       "      <td>26.0</td>\n",
       "      <td>0</td>\n",
       "      <td>0</td>\n",
       "      <td>STON/O2. 3101282</td>\n",
       "      <td>7.9250</td>\n",
       "      <td>NaN</td>\n",
       "      <td>S</td>\n",
       "    </tr>\n",
       "    <tr>\n",
       "      <th>3</th>\n",
       "      <td>4</td>\n",
       "      <td>1</td>\n",
       "      <td>1</td>\n",
       "      <td>Futrelle, Mrs. Jacques Heath (Lily May Peel)</td>\n",
       "      <td>female</td>\n",
       "      <td>35.0</td>\n",
       "      <td>1</td>\n",
       "      <td>0</td>\n",
       "      <td>113803</td>\n",
       "      <td>53.1000</td>\n",
       "      <td>C123</td>\n",
       "      <td>S</td>\n",
       "    </tr>\n",
       "    <tr>\n",
       "      <th>4</th>\n",
       "      <td>5</td>\n",
       "      <td>0</td>\n",
       "      <td>3</td>\n",
       "      <td>Allen, Mr. William Henry</td>\n",
       "      <td>male</td>\n",
       "      <td>35.0</td>\n",
       "      <td>0</td>\n",
       "      <td>0</td>\n",
       "      <td>373450</td>\n",
       "      <td>8.0500</td>\n",
       "      <td>NaN</td>\n",
       "      <td>S</td>\n",
       "    </tr>\n",
       "  </tbody>\n",
       "</table>\n",
       "</div>"
      ],
      "text/plain": [
       "   PassengerId  Survived  Pclass  \\\n",
       "0            1         0       3   \n",
       "1            2         1       1   \n",
       "2            3         1       3   \n",
       "3            4         1       1   \n",
       "4            5         0       3   \n",
       "\n",
       "                                                Name     Sex   Age  SibSp  \\\n",
       "0                            Braund, Mr. Owen Harris    male  22.0      1   \n",
       "1  Cumings, Mrs. John Bradley (Florence Briggs Th...  female  38.0      1   \n",
       "2                             Heikkinen, Miss. Laina  female  26.0      0   \n",
       "3       Futrelle, Mrs. Jacques Heath (Lily May Peel)  female  35.0      1   \n",
       "4                           Allen, Mr. William Henry    male  35.0      0   \n",
       "\n",
       "   Parch            Ticket     Fare Cabin Embarked  \n",
       "0      0         A/5 21171   7.2500   NaN        S  \n",
       "1      0          PC 17599  71.2833   C85        C  \n",
       "2      0  STON/O2. 3101282   7.9250   NaN        S  \n",
       "3      0            113803  53.1000  C123        S  \n",
       "4      0            373450   8.0500   NaN        S  "
      ]
     },
     "execution_count": 4,
     "metadata": {},
     "output_type": "execute_result"
    }
   ],
   "source": [
    "data_train.head()"
   ]
  },
  {
   "cell_type": "code",
   "execution_count": 5,
   "id": "6584109e",
   "metadata": {
    "execution": {
     "iopub.execute_input": "2022-04-04T13:50:02.036777Z",
     "iopub.status.busy": "2022-04-04T13:50:02.035961Z",
     "iopub.status.idle": "2022-04-04T13:50:02.039359Z",
     "shell.execute_reply": "2022-04-04T13:50:02.039915Z",
     "shell.execute_reply.started": "2022-04-04T13:25:11.676126Z"
    },
    "papermill": {
     "duration": 0.037539,
     "end_time": "2022-04-04T13:50:02.040107",
     "exception": false,
     "start_time": "2022-04-04T13:50:02.002568",
     "status": "completed"
    },
    "tags": []
   },
   "outputs": [
    {
     "name": "stdout",
     "output_type": "stream",
     "text": [
      "<class 'pandas.core.frame.DataFrame'>\n",
      "RangeIndex: 891 entries, 0 to 890\n",
      "Data columns (total 12 columns):\n",
      " #   Column       Non-Null Count  Dtype  \n",
      "---  ------       --------------  -----  \n",
      " 0   PassengerId  891 non-null    int64  \n",
      " 1   Survived     891 non-null    int64  \n",
      " 2   Pclass       891 non-null    int64  \n",
      " 3   Name         891 non-null    object \n",
      " 4   Sex          891 non-null    object \n",
      " 5   Age          714 non-null    float64\n",
      " 6   SibSp        891 non-null    int64  \n",
      " 7   Parch        891 non-null    int64  \n",
      " 8   Ticket       891 non-null    object \n",
      " 9   Fare         891 non-null    float64\n",
      " 10  Cabin        204 non-null    object \n",
      " 11  Embarked     889 non-null    object \n",
      "dtypes: float64(2), int64(5), object(5)\n",
      "memory usage: 83.7+ KB\n"
     ]
    }
   ],
   "source": [
    "data_train.info()"
   ]
  },
  {
   "cell_type": "markdown",
   "id": "d4f125a6",
   "metadata": {
    "papermill": {
     "duration": 0.012255,
     "end_time": "2022-04-04T13:50:02.064480",
     "exception": false,
     "start_time": "2022-04-04T13:50:02.052225",
     "status": "completed"
    },
    "tags": []
   },
   "source": [
    " \n",
    " \n",
    "-----------------\n",
    "## separate numerical X values from all data + y"
   ]
  },
  {
   "cell_type": "code",
   "execution_count": 6,
   "id": "1c61c5f3",
   "metadata": {
    "execution": {
     "iopub.execute_input": "2022-04-04T13:50:02.093291Z",
     "iopub.status.busy": "2022-04-04T13:50:02.092552Z",
     "iopub.status.idle": "2022-04-04T13:50:02.096423Z",
     "shell.execute_reply": "2022-04-04T13:50:02.095843Z",
     "shell.execute_reply.started": "2022-04-04T13:30:48.236628Z"
    },
    "papermill": {
     "duration": 0.020321,
     "end_time": "2022-04-04T13:50:02.096632",
     "exception": false,
     "start_time": "2022-04-04T13:50:02.076311",
     "status": "completed"
    },
    "tags": []
   },
   "outputs": [
    {
     "data": {
      "text/plain": [
       "['Age', 'SibSp', 'Parch', 'Fare', 'Survived']"
      ]
     },
     "execution_count": 6,
     "metadata": {},
     "output_type": "execute_result"
    }
   ],
   "source": [
    "num_feature_names = [\"Age\", \"SibSp\", \"Parch\", \"Fare\"] + [\"Survived\"]\n",
    "num_feature_names"
   ]
  },
  {
   "cell_type": "code",
   "execution_count": 7,
   "id": "cbd02858",
   "metadata": {
    "execution": {
     "iopub.execute_input": "2022-04-04T13:50:02.124521Z",
     "iopub.status.busy": "2022-04-04T13:50:02.123650Z",
     "iopub.status.idle": "2022-04-04T13:50:02.131013Z",
     "shell.execute_reply": "2022-04-04T13:50:02.131499Z",
     "shell.execute_reply.started": "2022-04-04T13:32:18.394371Z"
    },
    "papermill": {
     "duration": 0.022707,
     "end_time": "2022-04-04T13:50:02.131657",
     "exception": false,
     "start_time": "2022-04-04T13:50:02.108950",
     "status": "completed"
    },
    "tags": []
   },
   "outputs": [
    {
     "data": {
      "text/plain": [
       "(891, 5)"
      ]
     },
     "execution_count": 7,
     "metadata": {},
     "output_type": "execute_result"
    }
   ],
   "source": [
    "data_train_num = data_train[num_feature_names]\n",
    "data_train_num.shape"
   ]
  },
  {
   "cell_type": "code",
   "execution_count": null,
   "id": "5f9d87d4",
   "metadata": {
    "papermill": {
     "duration": 0.012466,
     "end_time": "2022-04-04T13:50:02.156735",
     "exception": false,
     "start_time": "2022-04-04T13:50:02.144269",
     "status": "completed"
    },
    "tags": []
   },
   "outputs": [],
   "source": []
  }
 ],
 "metadata": {
  "kernelspec": {
   "display_name": "Python 3",
   "language": "python",
   "name": "python3"
  },
  "language_info": {
   "codemirror_mode": {
    "name": "ipython",
    "version": 3
   },
   "file_extension": ".py",
   "mimetype": "text/x-python",
   "name": "python",
   "nbconvert_exporter": "python",
   "pygments_lexer": "ipython3",
   "version": "3.7.12"
  },
  "papermill": {
   "default_parameters": {},
   "duration": 11.101446,
   "end_time": "2022-04-04T13:50:02.778162",
   "environment_variables": {},
   "exception": null,
   "input_path": "__notebook__.ipynb",
   "output_path": "__notebook__.ipynb",
   "parameters": {},
   "start_time": "2022-04-04T13:49:51.676716",
   "version": "2.3.3"
  }
 },
 "nbformat": 4,
 "nbformat_minor": 5
}
