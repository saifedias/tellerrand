{
 "cells": [
  {
   "cell_type": "code",
   "execution_count": 1,
   "id": "5566390d",
   "metadata": {
    "_cell_guid": "b1076dfc-b9ad-4769-8c92-a6c4dae69d19",
    "_uuid": "8f2839f25d086af736a60e9eeb907d3b93b6e0e5",
    "execution": {
     "iopub.execute_input": "2022-04-20T08:35:11.393659Z",
     "iopub.status.busy": "2022-04-20T08:35:11.393186Z",
     "iopub.status.idle": "2022-04-20T08:35:12.708519Z",
     "shell.execute_reply": "2022-04-20T08:35:12.707585Z"
    },
    "papermill": {
     "duration": 1.336711,
     "end_time": "2022-04-20T08:35:12.711383",
     "exception": false,
     "start_time": "2022-04-20T08:35:11.374672",
     "status": "completed"
    },
    "tags": []
   },
   "outputs": [],
   "source": [
    "import multiprocessing\n",
    "import pandas as pd\n",
    "from sklearn.model_selection import GridSearchCV, RepeatedKFold\n",
    "from sklearn import neighbors\n",
    "from sklearn import preprocessing"
   ]
  },
  {
   "cell_type": "code",
   "execution_count": 2,
   "id": "e5458ab5",
   "metadata": {
    "execution": {
     "iopub.execute_input": "2022-04-20T08:35:12.746865Z",
     "iopub.status.busy": "2022-04-20T08:35:12.745949Z",
     "iopub.status.idle": "2022-04-20T08:35:12.753290Z",
     "shell.execute_reply": "2022-04-20T08:35:12.752644Z"
    },
    "papermill": {
     "duration": 0.026833,
     "end_time": "2022-04-20T08:35:12.755362",
     "exception": false,
     "start_time": "2022-04-20T08:35:12.728529",
     "status": "completed"
    },
    "tags": []
   },
   "outputs": [],
   "source": [
    "def select_model_hyperparams(X, y):\n",
    "    n_cpus = int(round(multiprocessing.cpu_count() * 0.875))\n",
    "    \n",
    "    print(\"using {} CPUs\".format(n_cpus))\n",
    "    \n",
    "    neighbors_params = {\"n_neighbors\": [1, 2, 4, 6, 8, 10, 12, 14, 16],\n",
    "                        \"weights\": [\"uniform\", \"distance\"],\n",
    "                        \"p\": [1, 2]\n",
    "                       }\n",
    "\n",
    "    clf = GridSearchCV(neighbors.KNeighborsClassifier(),\n",
    "                      param_grid = neighbors_params,\n",
    "                      scoring    = \"accuracy\",\n",
    "                      cv         = RepeatedKFold(n_splits=5, n_repeats=20, random_state=2),\n",
    "                      n_jobs     = n_cpus,\n",
    "                      verbose    = 1)\n",
    "\n",
    "    return clf.fit(X, y)"
   ]
  },
  {
   "cell_type": "code",
   "execution_count": 3,
   "id": "4cef30cc",
   "metadata": {
    "execution": {
     "iopub.execute_input": "2022-04-20T08:35:12.788800Z",
     "iopub.status.busy": "2022-04-20T08:35:12.788186Z",
     "iopub.status.idle": "2022-04-20T08:35:12.793328Z",
     "shell.execute_reply": "2022-04-20T08:35:12.792720Z"
    },
    "papermill": {
     "duration": 0.024161,
     "end_time": "2022-04-20T08:35:12.795235",
     "exception": false,
     "start_time": "2022-04-20T08:35:12.771074",
     "status": "completed"
    },
    "tags": []
   },
   "outputs": [],
   "source": [
    "def prepare_Xdata(data):\n",
    "    feature_names = [\"Pclass\", \"Sex\", \"Age\", \"SibSp\", \"Parch\", \"Fare\", \"Embarked\"]\n",
    "    X = data[feature_names]\n",
    "    \n",
    "    X = pd.get_dummies(X)\n",
    "    new_feature_names = X.columns\n",
    "    \n",
    "    X.fillna(value=X.Age.median(), axis=1, inplace=True)\n",
    "    \n",
    "    return (X, new_feature_names)"
   ]
  },
  {
   "cell_type": "code",
   "execution_count": 4,
   "id": "053d3e71",
   "metadata": {
    "execution": {
     "iopub.execute_input": "2022-04-20T08:35:12.828788Z",
     "iopub.status.busy": "2022-04-20T08:35:12.828242Z",
     "iopub.status.idle": "2022-04-20T08:35:12.857677Z",
     "shell.execute_reply": "2022-04-20T08:35:12.856725Z"
    },
    "papermill": {
     "duration": 0.049025,
     "end_time": "2022-04-20T08:35:12.860156",
     "exception": false,
     "start_time": "2022-04-20T08:35:12.811131",
     "status": "completed"
    },
    "tags": []
   },
   "outputs": [
    {
     "name": "stdout",
     "output_type": "stream",
     "text": [
      "(891, 12)\n",
      "(418, 11)\n"
     ]
    }
   ],
   "source": [
    "train_data = pd.read_csv(\"/kaggle/input/titanic/train.csv\")\n",
    "test_data = pd.read_csv(\"/kaggle/input/titanic/test.csv\")\n",
    "print(train_data.shape)\n",
    "print(test_data.shape)"
   ]
  },
  {
   "cell_type": "code",
   "execution_count": 5,
   "id": "28d8515b",
   "metadata": {
    "execution": {
     "iopub.execute_input": "2022-04-20T08:35:12.894970Z",
     "iopub.status.busy": "2022-04-20T08:35:12.894091Z",
     "iopub.status.idle": "2022-04-20T08:35:12.928045Z",
     "shell.execute_reply": "2022-04-20T08:35:12.927058Z"
    },
    "papermill": {
     "duration": 0.053507,
     "end_time": "2022-04-20T08:35:12.930379",
     "exception": false,
     "start_time": "2022-04-20T08:35:12.876872",
     "status": "completed"
    },
    "tags": []
   },
   "outputs": [],
   "source": [
    "X_train, feature_names = prepare_Xdata(train_data)\n",
    "X_test, _ = prepare_Xdata(test_data)"
   ]
  },
  {
   "cell_type": "markdown",
   "id": "7932117e",
   "metadata": {
    "papermill": {
     "duration": 0.015926,
     "end_time": "2022-04-20T08:35:12.962437",
     "exception": false,
     "start_time": "2022-04-20T08:35:12.946511",
     "status": "completed"
    },
    "tags": []
   },
   "source": [
    "---\n",
    "## scaling 2"
   ]
  },
  {
   "cell_type": "code",
   "execution_count": 6,
   "id": "577d1e8a",
   "metadata": {
    "execution": {
     "iopub.execute_input": "2022-04-20T08:35:12.996421Z",
     "iopub.status.busy": "2022-04-20T08:35:12.995913Z",
     "iopub.status.idle": "2022-04-20T08:35:13.007883Z",
     "shell.execute_reply": "2022-04-20T08:35:13.006858Z"
    },
    "papermill": {
     "duration": 0.031923,
     "end_time": "2022-04-20T08:35:13.010364",
     "exception": false,
     "start_time": "2022-04-20T08:35:12.978441",
     "status": "completed"
    },
    "tags": []
   },
   "outputs": [],
   "source": [
    "scaler = preprocessing.StandardScaler()\n",
    "scaler.fit(X_train)\n",
    "\n",
    "X_train_scaled = pd.DataFrame(scaler.transform(X_train), columns=X_train.columns)\n",
    "X_test_scaled = pd.DataFrame(scaler.transform(X_test), columns=X_train.columns)"
   ]
  },
  {
   "cell_type": "code",
   "execution_count": 7,
   "id": "c7426d0a",
   "metadata": {
    "execution": {
     "iopub.execute_input": "2022-04-20T08:35:13.044634Z",
     "iopub.status.busy": "2022-04-20T08:35:13.044329Z",
     "iopub.status.idle": "2022-04-20T08:35:13.051940Z",
     "shell.execute_reply": "2022-04-20T08:35:13.051341Z"
    },
    "papermill": {
     "duration": 0.027627,
     "end_time": "2022-04-20T08:35:13.054624",
     "exception": false,
     "start_time": "2022-04-20T08:35:13.026997",
     "status": "completed"
    },
    "tags": []
   },
   "outputs": [
    {
     "data": {
      "text/plain": [
       "(891, 10)"
      ]
     },
     "execution_count": 7,
     "metadata": {},
     "output_type": "execute_result"
    }
   ],
   "source": [
    "X_train_scaled.shape"
   ]
  },
  {
   "cell_type": "code",
   "execution_count": 8,
   "id": "443ce07c",
   "metadata": {
    "execution": {
     "iopub.execute_input": "2022-04-20T08:35:13.089448Z",
     "iopub.status.busy": "2022-04-20T08:35:13.089044Z",
     "iopub.status.idle": "2022-04-20T08:35:13.094224Z",
     "shell.execute_reply": "2022-04-20T08:35:13.093690Z"
    },
    "papermill": {
     "duration": 0.024659,
     "end_time": "2022-04-20T08:35:13.096007",
     "exception": false,
     "start_time": "2022-04-20T08:35:13.071348",
     "status": "completed"
    },
    "tags": []
   },
   "outputs": [
    {
     "data": {
      "text/plain": [
       "(418, 10)"
      ]
     },
     "execution_count": 8,
     "metadata": {},
     "output_type": "execute_result"
    }
   ],
   "source": [
    "X_test_scaled.shape"
   ]
  },
  {
   "cell_type": "code",
   "execution_count": 9,
   "id": "8ec14092",
   "metadata": {
    "execution": {
     "iopub.execute_input": "2022-04-20T08:35:13.132610Z",
     "iopub.status.busy": "2022-04-20T08:35:13.131117Z",
     "iopub.status.idle": "2022-04-20T08:35:30.202571Z",
     "shell.execute_reply": "2022-04-20T08:35:30.201575Z"
    },
    "papermill": {
     "duration": 17.09238,
     "end_time": "2022-04-20T08:35:30.205104",
     "exception": false,
     "start_time": "2022-04-20T08:35:13.112724",
     "status": "completed"
    },
    "tags": []
   },
   "outputs": [
    {
     "name": "stdout",
     "output_type": "stream",
     "text": [
      "using 4 CPUs\n",
      "Fitting 100 folds for each of 36 candidates, totalling 3600 fits\n"
     ]
    }
   ],
   "source": [
    "clf = select_model_hyperparams(X_train_scaled, train_data.Survived);"
   ]
  },
  {
   "cell_type": "code",
   "execution_count": 10,
   "id": "6a5dc545",
   "metadata": {
    "execution": {
     "iopub.execute_input": "2022-04-20T08:35:30.241837Z",
     "iopub.status.busy": "2022-04-20T08:35:30.241150Z",
     "iopub.status.idle": "2022-04-20T08:35:30.249322Z",
     "shell.execute_reply": "2022-04-20T08:35:30.248004Z"
    },
    "papermill": {
     "duration": 0.028702,
     "end_time": "2022-04-20T08:35:30.251391",
     "exception": false,
     "start_time": "2022-04-20T08:35:30.222689",
     "status": "completed"
    },
    "tags": []
   },
   "outputs": [
    {
     "name": "stdout",
     "output_type": "stream",
     "text": [
      "Best average validation score: 0.8207\n",
      "  Param: n_neighbors = 14\n",
      "  Param: p = 2\n",
      "  Param: weights = uniform\n"
     ]
    }
   ],
   "source": [
    "print(\"Best average validation score: {}\".format(clf.best_score_.round(4)))\n",
    "for pname, pvalue in clf.best_params_.items():\n",
    "    print(\"  Param: {} = {}\".format(pname, pvalue))"
   ]
  },
  {
   "cell_type": "code",
   "execution_count": 11,
   "id": "7432aed9",
   "metadata": {
    "execution": {
     "iopub.execute_input": "2022-04-20T08:35:30.288347Z",
     "iopub.status.busy": "2022-04-20T08:35:30.287742Z",
     "iopub.status.idle": "2022-04-20T08:35:30.314086Z",
     "shell.execute_reply": "2022-04-20T08:35:30.313295Z"
    },
    "papermill": {
     "duration": 0.047582,
     "end_time": "2022-04-20T08:35:30.316517",
     "exception": false,
     "start_time": "2022-04-20T08:35:30.268935",
     "status": "completed"
    },
    "tags": []
   },
   "outputs": [],
   "source": [
    "predictions = clf.predict(X_test_scaled)"
   ]
  },
  {
   "cell_type": "code",
   "execution_count": 12,
   "id": "ac10246c",
   "metadata": {
    "execution": {
     "iopub.execute_input": "2022-04-20T08:35:30.353314Z",
     "iopub.status.busy": "2022-04-20T08:35:30.353024Z",
     "iopub.status.idle": "2022-04-20T08:35:30.367854Z",
     "shell.execute_reply": "2022-04-20T08:35:30.366929Z"
    },
    "papermill": {
     "duration": 0.03572,
     "end_time": "2022-04-20T08:35:30.369845",
     "exception": false,
     "start_time": "2022-04-20T08:35:30.334125",
     "status": "completed"
    },
    "tags": []
   },
   "outputs": [
    {
     "data": {
      "text/html": [
       "<div>\n",
       "<style scoped>\n",
       "    .dataframe tbody tr th:only-of-type {\n",
       "        vertical-align: middle;\n",
       "    }\n",
       "\n",
       "    .dataframe tbody tr th {\n",
       "        vertical-align: top;\n",
       "    }\n",
       "\n",
       "    .dataframe thead th {\n",
       "        text-align: right;\n",
       "    }\n",
       "</style>\n",
       "<table border=\"1\" class=\"dataframe\">\n",
       "  <thead>\n",
       "    <tr style=\"text-align: right;\">\n",
       "      <th></th>\n",
       "      <th>PassengerId</th>\n",
       "      <th>Survived</th>\n",
       "    </tr>\n",
       "  </thead>\n",
       "  <tbody>\n",
       "    <tr>\n",
       "      <th>0</th>\n",
       "      <td>892</td>\n",
       "      <td>0</td>\n",
       "    </tr>\n",
       "    <tr>\n",
       "      <th>1</th>\n",
       "      <td>893</td>\n",
       "      <td>1</td>\n",
       "    </tr>\n",
       "    <tr>\n",
       "      <th>2</th>\n",
       "      <td>894</td>\n",
       "      <td>0</td>\n",
       "    </tr>\n",
       "    <tr>\n",
       "      <th>3</th>\n",
       "      <td>895</td>\n",
       "      <td>0</td>\n",
       "    </tr>\n",
       "    <tr>\n",
       "      <th>4</th>\n",
       "      <td>896</td>\n",
       "      <td>0</td>\n",
       "    </tr>\n",
       "  </tbody>\n",
       "</table>\n",
       "</div>"
      ],
      "text/plain": [
       "   PassengerId  Survived\n",
       "0          892         0\n",
       "1          893         1\n",
       "2          894         0\n",
       "3          895         0\n",
       "4          896         0"
      ]
     },
     "execution_count": 12,
     "metadata": {},
     "output_type": "execute_result"
    }
   ],
   "source": [
    "output = pd.DataFrame({'PassengerId': test_data.PassengerId, 'Survived': predictions})\n",
    "output.head()"
   ]
  },
  {
   "cell_type": "code",
   "execution_count": 13,
   "id": "9387c86d",
   "metadata": {
    "execution": {
     "iopub.execute_input": "2022-04-20T08:35:30.407350Z",
     "iopub.status.busy": "2022-04-20T08:35:30.406786Z",
     "iopub.status.idle": "2022-04-20T08:35:30.421879Z",
     "shell.execute_reply": "2022-04-20T08:35:30.421184Z"
    },
    "papermill": {
     "duration": 0.036841,
     "end_time": "2022-04-20T08:35:30.424642",
     "exception": false,
     "start_time": "2022-04-20T08:35:30.387801",
     "status": "completed"
    },
    "tags": []
   },
   "outputs": [
    {
     "name": "stdout",
     "output_type": "stream",
     "text": [
      "<class 'pandas.core.frame.DataFrame'>\n",
      "RangeIndex: 418 entries, 0 to 417\n",
      "Data columns (total 2 columns):\n",
      " #   Column       Non-Null Count  Dtype\n",
      "---  ------       --------------  -----\n",
      " 0   PassengerId  418 non-null    int64\n",
      " 1   Survived     418 non-null    int64\n",
      "dtypes: int64(2)\n",
      "memory usage: 6.7 KB\n"
     ]
    }
   ],
   "source": [
    "output.info()"
   ]
  },
  {
   "cell_type": "code",
   "execution_count": 14,
   "id": "4986da0c",
   "metadata": {
    "execution": {
     "iopub.execute_input": "2022-04-20T08:35:30.465586Z",
     "iopub.status.busy": "2022-04-20T08:35:30.464856Z",
     "iopub.status.idle": "2022-04-20T08:35:30.472496Z",
     "shell.execute_reply": "2022-04-20T08:35:30.471705Z"
    },
    "papermill": {
     "duration": 0.029242,
     "end_time": "2022-04-20T08:35:30.474542",
     "exception": false,
     "start_time": "2022-04-20T08:35:30.445300",
     "status": "completed"
    },
    "tags": []
   },
   "outputs": [],
   "source": [
    "output.to_csv('submission_03_sc_knn_scaling2.csv', index=False)"
   ]
  }
 ],
 "metadata": {
  "kernelspec": {
   "display_name": "Python 3",
   "language": "python",
   "name": "python3"
  },
  "language_info": {
   "codemirror_mode": {
    "name": "ipython",
    "version": 3
   },
   "file_extension": ".py",
   "mimetype": "text/x-python",
   "name": "python",
   "nbconvert_exporter": "python",
   "pygments_lexer": "ipython3",
   "version": "3.7.12"
  },
  "papermill": {
   "default_parameters": {},
   "duration": 32.104596,
   "end_time": "2022-04-20T08:35:33.113496",
   "environment_variables": {},
   "exception": null,
   "input_path": "__notebook__.ipynb",
   "output_path": "__notebook__.ipynb",
   "parameters": {},
   "start_time": "2022-04-20T08:35:01.008900",
   "version": "2.3.4"
  }
 },
 "nbformat": 4,
 "nbformat_minor": 5
}
