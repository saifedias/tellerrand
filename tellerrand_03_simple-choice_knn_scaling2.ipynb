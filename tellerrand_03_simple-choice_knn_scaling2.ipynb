{
 "cells": [
  {
   "cell_type": "code",
   "execution_count": 1,
   "id": "8bfa8caa",
   "metadata": {
    "_cell_guid": "b1076dfc-b9ad-4769-8c92-a6c4dae69d19",
    "_uuid": "8f2839f25d086af736a60e9eeb907d3b93b6e0e5",
    "execution": {
     "iopub.execute_input": "2022-04-20T08:21:25.662805Z",
     "iopub.status.busy": "2022-04-20T08:21:25.662262Z",
     "iopub.status.idle": "2022-04-20T08:21:26.656432Z",
     "shell.execute_reply": "2022-04-20T08:21:26.655724Z"
    },
    "papermill": {
     "duration": 1.014317,
     "end_time": "2022-04-20T08:21:26.658769",
     "exception": false,
     "start_time": "2022-04-20T08:21:25.644452",
     "status": "completed"
    },
    "tags": []
   },
   "outputs": [],
   "source": [
    "import multiprocessing\n",
    "import pandas as pd\n",
    "from sklearn.model_selection import GridSearchCV, RepeatedKFold\n",
    "from sklearn import neighbors\n",
    "from sklearn import preprocessing"
   ]
  },
  {
   "cell_type": "code",
   "execution_count": 2,
   "id": "fe5ec909",
   "metadata": {
    "execution": {
     "iopub.execute_input": "2022-04-20T08:21:26.691180Z",
     "iopub.status.busy": "2022-04-20T08:21:26.690875Z",
     "iopub.status.idle": "2022-04-20T08:21:26.698582Z",
     "shell.execute_reply": "2022-04-20T08:21:26.697539Z"
    },
    "papermill": {
     "duration": 0.026178,
     "end_time": "2022-04-20T08:21:26.700560",
     "exception": false,
     "start_time": "2022-04-20T08:21:26.674382",
     "status": "completed"
    },
    "tags": []
   },
   "outputs": [],
   "source": [
    "def select_model_hyperparams(X, y):\n",
    "    n_cpus = int(round(multiprocessing.cpu_count() * 0.875))\n",
    "    \n",
    "    print(\"using {} CPUs\".format(n_cpus))\n",
    "    \n",
    "    neighbors_params = {\"n_neighbors\": [1, 2, 4, 6, 8, 10, 12, 14, 16],\n",
    "                        \"weights\": [\"uniform\", \"distance\"],\n",
    "                        \"p\": [1, 2]\n",
    "                       }\n",
    "\n",
    "    clf = GridSearchCV(neighbors.KNeighborsClassifier(),\n",
    "                      param_grid = neighbors_params,\n",
    "                      scoring    = \"accuracy\",\n",
    "                      cv         = RepeatedKFold(n_splits=5, n_repeats=20, random_state=2),\n",
    "                      n_jobs     = n_cpus,\n",
    "                      verbose    = 1)\n",
    "\n",
    "    return clf.fit(X, y)"
   ]
  },
  {
   "cell_type": "code",
   "execution_count": 3,
   "id": "a17959e0",
   "metadata": {
    "execution": {
     "iopub.execute_input": "2022-04-20T08:21:26.731799Z",
     "iopub.status.busy": "2022-04-20T08:21:26.731499Z",
     "iopub.status.idle": "2022-04-20T08:21:26.737620Z",
     "shell.execute_reply": "2022-04-20T08:21:26.736507Z"
    },
    "papermill": {
     "duration": 0.023911,
     "end_time": "2022-04-20T08:21:26.739772",
     "exception": false,
     "start_time": "2022-04-20T08:21:26.715861",
     "status": "completed"
    },
    "tags": []
   },
   "outputs": [],
   "source": [
    "def prepare_Xdata(data):\n",
    "    feature_names = [\"Pclass\", \"Sex\", \"Age\", \"SibSp\", \"Parch\", \"Fare\", \"Embarked\"]\n",
    "    X = data[feature_names]\n",
    "    \n",
    "    X = pd.get_dummies(X)\n",
    "    new_feature_names = X.columns\n",
    "    \n",
    "    X.fillna(value=X.Age.median(), axis=1, inplace=True)\n",
    "    \n",
    "    return (X, new_feature_names)"
   ]
  },
  {
   "cell_type": "code",
   "execution_count": 4,
   "id": "22215eea",
   "metadata": {
    "execution": {
     "iopub.execute_input": "2022-04-20T08:21:26.773183Z",
     "iopub.status.busy": "2022-04-20T08:21:26.772886Z",
     "iopub.status.idle": "2022-04-20T08:21:26.802303Z",
     "shell.execute_reply": "2022-04-20T08:21:26.801504Z"
    },
    "papermill": {
     "duration": 0.049152,
     "end_time": "2022-04-20T08:21:26.805117",
     "exception": false,
     "start_time": "2022-04-20T08:21:26.755965",
     "status": "completed"
    },
    "tags": []
   },
   "outputs": [
    {
     "name": "stdout",
     "output_type": "stream",
     "text": [
      "(891, 12)\n",
      "(418, 11)\n"
     ]
    }
   ],
   "source": [
    "train_data = pd.read_csv(\"/kaggle/input/titanic/train.csv\")\n",
    "test_data = pd.read_csv(\"/kaggle/input/titanic/test.csv\")\n",
    "print(train_data.shape)\n",
    "print(test_data.shape)"
   ]
  },
  {
   "cell_type": "code",
   "execution_count": 5,
   "id": "3d2a0ad8",
   "metadata": {
    "execution": {
     "iopub.execute_input": "2022-04-20T08:21:26.848069Z",
     "iopub.status.busy": "2022-04-20T08:21:26.847392Z",
     "iopub.status.idle": "2022-04-20T08:21:26.876788Z",
     "shell.execute_reply": "2022-04-20T08:21:26.876133Z"
    },
    "papermill": {
     "duration": 0.051165,
     "end_time": "2022-04-20T08:21:26.879018",
     "exception": false,
     "start_time": "2022-04-20T08:21:26.827853",
     "status": "completed"
    },
    "tags": []
   },
   "outputs": [],
   "source": [
    "X_train, feature_names = prepare_Xdata(train_data)\n",
    "X_test, _ = prepare_Xdata(test_data)"
   ]
  },
  {
   "cell_type": "markdown",
   "id": "0033b950",
   "metadata": {
    "papermill": {
     "duration": 0.015536,
     "end_time": "2022-04-20T08:21:26.910341",
     "exception": false,
     "start_time": "2022-04-20T08:21:26.894805",
     "status": "completed"
    },
    "tags": []
   },
   "source": [
    "---\n",
    "## scaling 2"
   ]
  },
  {
   "cell_type": "code",
   "execution_count": 6,
   "id": "76f3a473",
   "metadata": {
    "execution": {
     "iopub.execute_input": "2022-04-20T08:21:26.943307Z",
     "iopub.status.busy": "2022-04-20T08:21:26.942704Z",
     "iopub.status.idle": "2022-04-20T08:21:26.953537Z",
     "shell.execute_reply": "2022-04-20T08:21:26.952900Z"
    },
    "papermill": {
     "duration": 0.029616,
     "end_time": "2022-04-20T08:21:26.955441",
     "exception": false,
     "start_time": "2022-04-20T08:21:26.925825",
     "status": "completed"
    },
    "tags": []
   },
   "outputs": [],
   "source": [
    "scaler = preprocessing.StandardScaler()\n",
    "scaler.fit(X_train)\n",
    "\n",
    "X_train_scaled = pd.DataFrame(scaler.transform(X_train), columns=X_train.columns)\n",
    "X_test_scaled = pd.DataFrame(scaler.transform(X_test), columns=X_train.columns)"
   ]
  },
  {
   "cell_type": "code",
   "execution_count": 7,
   "id": "94a53f34",
   "metadata": {
    "execution": {
     "iopub.execute_input": "2022-04-20T08:21:26.987329Z",
     "iopub.status.busy": "2022-04-20T08:21:26.986754Z",
     "iopub.status.idle": "2022-04-20T08:21:26.994509Z",
     "shell.execute_reply": "2022-04-20T08:21:26.993735Z"
    },
    "papermill": {
     "duration": 0.025713,
     "end_time": "2022-04-20T08:21:26.996342",
     "exception": false,
     "start_time": "2022-04-20T08:21:26.970629",
     "status": "completed"
    },
    "tags": []
   },
   "outputs": [
    {
     "data": {
      "text/plain": [
       "(891, 10)"
      ]
     },
     "execution_count": 7,
     "metadata": {},
     "output_type": "execute_result"
    }
   ],
   "source": [
    "X_train_scaled.shape"
   ]
  },
  {
   "cell_type": "code",
   "execution_count": 8,
   "id": "59589723",
   "metadata": {
    "execution": {
     "iopub.execute_input": "2022-04-20T08:21:27.032049Z",
     "iopub.status.busy": "2022-04-20T08:21:27.031533Z",
     "iopub.status.idle": "2022-04-20T08:21:27.036900Z",
     "shell.execute_reply": "2022-04-20T08:21:27.036318Z"
    },
    "papermill": {
     "duration": 0.026427,
     "end_time": "2022-04-20T08:21:27.038796",
     "exception": false,
     "start_time": "2022-04-20T08:21:27.012369",
     "status": "completed"
    },
    "tags": []
   },
   "outputs": [
    {
     "data": {
      "text/plain": [
       "(418, 10)"
      ]
     },
     "execution_count": 8,
     "metadata": {},
     "output_type": "execute_result"
    }
   ],
   "source": [
    "X_test_scaled.shape"
   ]
  },
  {
   "cell_type": "code",
   "execution_count": 9,
   "id": "dccb5592",
   "metadata": {
    "execution": {
     "iopub.execute_input": "2022-04-20T08:21:27.073519Z",
     "iopub.status.busy": "2022-04-20T08:21:27.073205Z",
     "iopub.status.idle": "2022-04-20T08:21:43.061245Z",
     "shell.execute_reply": "2022-04-20T08:21:43.060442Z"
    },
    "papermill": {
     "duration": 16.008633,
     "end_time": "2022-04-20T08:21:43.063775",
     "exception": false,
     "start_time": "2022-04-20T08:21:27.055142",
     "status": "completed"
    },
    "tags": []
   },
   "outputs": [
    {
     "name": "stdout",
     "output_type": "stream",
     "text": [
      "using 4 CPUs\n",
      "Fitting 100 folds for each of 36 candidates, totalling 3600 fits\n"
     ]
    }
   ],
   "source": [
    "clf = select_model_hyperparams(X_train_scaled, train_data.Survived);"
   ]
  },
  {
   "cell_type": "code",
   "execution_count": 10,
   "id": "fd9699fe",
   "metadata": {
    "execution": {
     "iopub.execute_input": "2022-04-20T08:21:43.099379Z",
     "iopub.status.busy": "2022-04-20T08:21:43.099091Z",
     "iopub.status.idle": "2022-04-20T08:21:43.104291Z",
     "shell.execute_reply": "2022-04-20T08:21:43.103779Z"
    },
    "papermill": {
     "duration": 0.026465,
     "end_time": "2022-04-20T08:21:43.106105",
     "exception": false,
     "start_time": "2022-04-20T08:21:43.079640",
     "status": "completed"
    },
    "tags": []
   },
   "outputs": [
    {
     "name": "stdout",
     "output_type": "stream",
     "text": [
      "Best average validation score: 0.8207\n",
      "  Param: n_neighbors = 14\n",
      "  Param: p = 2\n",
      "  Param: weights = uniform\n"
     ]
    }
   ],
   "source": [
    "print(\"Best average validation score: {}\".format(clf.best_score_.round(4)))\n",
    "for pname, pvalue in clf.best_params_.items():\n",
    "    print(\"  Param: {} = {}\".format(pname, pvalue))"
   ]
  },
  {
   "cell_type": "code",
   "execution_count": 11,
   "id": "4633ed58",
   "metadata": {
    "execution": {
     "iopub.execute_input": "2022-04-20T08:21:43.142215Z",
     "iopub.status.busy": "2022-04-20T08:21:43.141719Z",
     "iopub.status.idle": "2022-04-20T08:21:43.164894Z",
     "shell.execute_reply": "2022-04-20T08:21:43.164075Z"
    },
    "papermill": {
     "duration": 0.044045,
     "end_time": "2022-04-20T08:21:43.167286",
     "exception": false,
     "start_time": "2022-04-20T08:21:43.123241",
     "status": "completed"
    },
    "tags": []
   },
   "outputs": [],
   "source": [
    "predictions = clf.predict(X_test)"
   ]
  },
  {
   "cell_type": "code",
   "execution_count": 12,
   "id": "2afcad58",
   "metadata": {
    "execution": {
     "iopub.execute_input": "2022-04-20T08:21:43.202879Z",
     "iopub.status.busy": "2022-04-20T08:21:43.202569Z",
     "iopub.status.idle": "2022-04-20T08:21:43.215561Z",
     "shell.execute_reply": "2022-04-20T08:21:43.215008Z"
    },
    "papermill": {
     "duration": 0.032549,
     "end_time": "2022-04-20T08:21:43.217096",
     "exception": false,
     "start_time": "2022-04-20T08:21:43.184547",
     "status": "completed"
    },
    "tags": []
   },
   "outputs": [
    {
     "data": {
      "text/html": [
       "<div>\n",
       "<style scoped>\n",
       "    .dataframe tbody tr th:only-of-type {\n",
       "        vertical-align: middle;\n",
       "    }\n",
       "\n",
       "    .dataframe tbody tr th {\n",
       "        vertical-align: top;\n",
       "    }\n",
       "\n",
       "    .dataframe thead th {\n",
       "        text-align: right;\n",
       "    }\n",
       "</style>\n",
       "<table border=\"1\" class=\"dataframe\">\n",
       "  <thead>\n",
       "    <tr style=\"text-align: right;\">\n",
       "      <th></th>\n",
       "      <th>PassengerId</th>\n",
       "      <th>Survived</th>\n",
       "    </tr>\n",
       "  </thead>\n",
       "  <tbody>\n",
       "    <tr>\n",
       "      <th>0</th>\n",
       "      <td>892</td>\n",
       "      <td>0</td>\n",
       "    </tr>\n",
       "    <tr>\n",
       "      <th>1</th>\n",
       "      <td>893</td>\n",
       "      <td>0</td>\n",
       "    </tr>\n",
       "    <tr>\n",
       "      <th>2</th>\n",
       "      <td>894</td>\n",
       "      <td>0</td>\n",
       "    </tr>\n",
       "    <tr>\n",
       "      <th>3</th>\n",
       "      <td>895</td>\n",
       "      <td>0</td>\n",
       "    </tr>\n",
       "    <tr>\n",
       "      <th>4</th>\n",
       "      <td>896</td>\n",
       "      <td>1</td>\n",
       "    </tr>\n",
       "  </tbody>\n",
       "</table>\n",
       "</div>"
      ],
      "text/plain": [
       "   PassengerId  Survived\n",
       "0          892         0\n",
       "1          893         0\n",
       "2          894         0\n",
       "3          895         0\n",
       "4          896         1"
      ]
     },
     "execution_count": 12,
     "metadata": {},
     "output_type": "execute_result"
    }
   ],
   "source": [
    "output = pd.DataFrame({'PassengerId': test_data.PassengerId, 'Survived': predictions})\n",
    "output.head()"
   ]
  },
  {
   "cell_type": "code",
   "execution_count": 13,
   "id": "7b23f872",
   "metadata": {
    "execution": {
     "iopub.execute_input": "2022-04-20T08:21:43.253803Z",
     "iopub.status.busy": "2022-04-20T08:21:43.252836Z",
     "iopub.status.idle": "2022-04-20T08:21:43.267537Z",
     "shell.execute_reply": "2022-04-20T08:21:43.266549Z"
    },
    "papermill": {
     "duration": 0.036141,
     "end_time": "2022-04-20T08:21:43.270363",
     "exception": false,
     "start_time": "2022-04-20T08:21:43.234222",
     "status": "completed"
    },
    "tags": []
   },
   "outputs": [
    {
     "name": "stdout",
     "output_type": "stream",
     "text": [
      "<class 'pandas.core.frame.DataFrame'>\n",
      "RangeIndex: 418 entries, 0 to 417\n",
      "Data columns (total 2 columns):\n",
      " #   Column       Non-Null Count  Dtype\n",
      "---  ------       --------------  -----\n",
      " 0   PassengerId  418 non-null    int64\n",
      " 1   Survived     418 non-null    int64\n",
      "dtypes: int64(2)\n",
      "memory usage: 6.7 KB\n"
     ]
    }
   ],
   "source": [
    "output.info()"
   ]
  },
  {
   "cell_type": "code",
   "execution_count": 14,
   "id": "ac9a1cd1",
   "metadata": {
    "execution": {
     "iopub.execute_input": "2022-04-20T08:21:43.310684Z",
     "iopub.status.busy": "2022-04-20T08:21:43.310396Z",
     "iopub.status.idle": "2022-04-20T08:21:43.317783Z",
     "shell.execute_reply": "2022-04-20T08:21:43.316988Z"
    },
    "papermill": {
     "duration": 0.028507,
     "end_time": "2022-04-20T08:21:43.319719",
     "exception": false,
     "start_time": "2022-04-20T08:21:43.291212",
     "status": "completed"
    },
    "tags": []
   },
   "outputs": [],
   "source": [
    "output.to_csv('submission_03_sc_knn_scaling2.csv', index=False)"
   ]
  }
 ],
 "metadata": {
  "kernelspec": {
   "display_name": "Python 3",
   "language": "python",
   "name": "python3"
  },
  "language_info": {
   "codemirror_mode": {
    "name": "ipython",
    "version": 3
   },
   "file_extension": ".py",
   "mimetype": "text/x-python",
   "name": "python",
   "nbconvert_exporter": "python",
   "pygments_lexer": "ipython3",
   "version": "3.7.12"
  },
  "papermill": {
   "default_parameters": {},
   "duration": 28.952123,
   "end_time": "2022-04-20T08:21:45.958029",
   "environment_variables": {},
   "exception": null,
   "input_path": "__notebook__.ipynb",
   "output_path": "__notebook__.ipynb",
   "parameters": {},
   "start_time": "2022-04-20T08:21:17.005906",
   "version": "2.3.4"
  }
 },
 "nbformat": 4,
 "nbformat_minor": 5
}
