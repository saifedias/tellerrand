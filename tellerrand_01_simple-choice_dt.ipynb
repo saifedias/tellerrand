{
 "cells": [
  {
   "cell_type": "markdown",
   "id": "db666622",
   "metadata": {
    "_cell_guid": "b1076dfc-b9ad-4769-8c92-a6c4dae69d19",
    "_uuid": "8f2839f25d086af736a60e9eeb907d3b93b6e0e5",
    "papermill": {
     "duration": 0.020511,
     "end_time": "2022-04-19T13:01:08.843339",
     "exception": false,
     "start_time": "2022-04-19T13:01:08.822828",
     "status": "completed"
    },
    "tags": []
   },
   "source": [
    "# import modules etc"
   ]
  },
  {
   "cell_type": "code",
   "execution_count": 1,
   "id": "9e65362f",
   "metadata": {
    "execution": {
     "iopub.execute_input": "2022-04-19T13:01:08.885617Z",
     "iopub.status.busy": "2022-04-19T13:01:08.884651Z",
     "iopub.status.idle": "2022-04-19T13:01:10.180306Z",
     "shell.execute_reply": "2022-04-19T13:01:10.179372Z"
    },
    "papermill": {
     "duration": 1.32009,
     "end_time": "2022-04-19T13:01:10.182920",
     "exception": false,
     "start_time": "2022-04-19T13:01:08.862830",
     "status": "completed"
    },
    "tags": []
   },
   "outputs": [],
   "source": [
    "import multiprocessing\n",
    "import pandas as pd\n",
    "from sklearn.model_selection import GridSearchCV, RepeatedKFold\n",
    "from sklearn import tree\n",
    "import graphviz"
   ]
  },
  {
   "cell_type": "markdown",
   "id": "9859bc4f",
   "metadata": {
    "papermill": {
     "duration": 0.017983,
     "end_time": "2022-04-19T13:01:10.220502",
     "exception": false,
     "start_time": "2022-04-19T13:01:10.202519",
     "status": "completed"
    },
    "tags": []
   },
   "source": [
    "---\n",
    "# functions"
   ]
  },
  {
   "cell_type": "code",
   "execution_count": 2,
   "id": "7cd55fd1",
   "metadata": {
    "execution": {
     "iopub.execute_input": "2022-04-19T13:01:10.257600Z",
     "iopub.status.busy": "2022-04-19T13:01:10.257099Z",
     "iopub.status.idle": "2022-04-19T13:01:10.264431Z",
     "shell.execute_reply": "2022-04-19T13:01:10.263766Z"
    },
    "papermill": {
     "duration": 0.028563,
     "end_time": "2022-04-19T13:01:10.266746",
     "exception": false,
     "start_time": "2022-04-19T13:01:10.238183",
     "status": "completed"
    },
    "tags": []
   },
   "outputs": [],
   "source": [
    "def select_model_hyperparams(X, y):\n",
    "    n_cpus = int(round(multiprocessing.cpu_count() * 0.875))\n",
    "    \n",
    "    print(\"using {} CPUs\".format(n_cpus))\n",
    "    \n",
    "    tree_params = {\"max_depth\": [6],\n",
    "                   \"max_leaf_nodes\": [13, 14, 15, 16, 17, 18, 19],\n",
    "                   \"min_samples_leaf\": [1, 2, 4, 8]\n",
    "                  }\n",
    "\n",
    "    clf = GridSearchCV(tree.DecisionTreeClassifier(random_state=1),\n",
    "                      param_grid=tree_params,\n",
    "                      scoring=\"accuracy\",\n",
    "                      cv = RepeatedKFold(n_splits=5, n_repeats=20, random_state=2),\n",
    "                      n_jobs=n_cpus,\n",
    "                      verbose=1)\n",
    "\n",
    "    return clf.fit(X, y)"
   ]
  },
  {
   "cell_type": "markdown",
   "id": "b62e0c67",
   "metadata": {
    "papermill": {
     "duration": 0.017338,
     "end_time": "2022-04-19T13:01:10.302409",
     "exception": false,
     "start_time": "2022-04-19T13:01:10.285071",
     "status": "completed"
    },
    "tags": []
   },
   "source": [
    "### prepare input (X) data for train & test"
   ]
  },
  {
   "cell_type": "code",
   "execution_count": 3,
   "id": "99336d0d",
   "metadata": {
    "execution": {
     "iopub.execute_input": "2022-04-19T13:01:10.341068Z",
     "iopub.status.busy": "2022-04-19T13:01:10.340546Z",
     "iopub.status.idle": "2022-04-19T13:01:10.345527Z",
     "shell.execute_reply": "2022-04-19T13:01:10.344936Z"
    },
    "papermill": {
     "duration": 0.027197,
     "end_time": "2022-04-19T13:01:10.347508",
     "exception": false,
     "start_time": "2022-04-19T13:01:10.320311",
     "status": "completed"
    },
    "tags": []
   },
   "outputs": [],
   "source": [
    "def prepare_Xdata(data):\n",
    "    feature_names = [\"Pclass\", \"Sex\", \"Age\", \"SibSp\", \"Parch\", \"Fare\", \"Embarked\"]\n",
    "    X = data[feature_names]\n",
    "    \n",
    "    X = pd.get_dummies(X)\n",
    "    new_feature_names = X.columns\n",
    "    \n",
    "    X.fillna(value=X.Age.median(), axis=1, inplace=True)\n",
    "    \n",
    "    return (X, new_feature_names)    "
   ]
  },
  {
   "cell_type": "markdown",
   "id": "1994c928",
   "metadata": {
    "papermill": {
     "duration": 0.018242,
     "end_time": "2022-04-19T13:01:10.383903",
     "exception": false,
     "start_time": "2022-04-19T13:01:10.365661",
     "status": "completed"
    },
    "tags": []
   },
   "source": [
    "---\n",
    "# main"
   ]
  },
  {
   "cell_type": "code",
   "execution_count": 4,
   "id": "4443bb21",
   "metadata": {
    "execution": {
     "iopub.execute_input": "2022-04-19T13:01:10.422321Z",
     "iopub.status.busy": "2022-04-19T13:01:10.421796Z",
     "iopub.status.idle": "2022-04-19T13:01:10.449252Z",
     "shell.execute_reply": "2022-04-19T13:01:10.448428Z"
    },
    "papermill": {
     "duration": 0.04963,
     "end_time": "2022-04-19T13:01:10.451572",
     "exception": false,
     "start_time": "2022-04-19T13:01:10.401942",
     "status": "completed"
    },
    "tags": []
   },
   "outputs": [
    {
     "name": "stdout",
     "output_type": "stream",
     "text": [
      "(891, 12)\n",
      "(418, 11)\n"
     ]
    }
   ],
   "source": [
    "train_data = pd.read_csv(\"/kaggle/input/titanic/train.csv\")\n",
    "test_data = pd.read_csv(\"/kaggle/input/titanic/test.csv\")\n",
    "print(train_data.shape)\n",
    "print(test_data.shape)"
   ]
  },
  {
   "cell_type": "code",
   "execution_count": 5,
   "id": "46936548",
   "metadata": {
    "execution": {
     "iopub.execute_input": "2022-04-19T13:01:10.489888Z",
     "iopub.status.busy": "2022-04-19T13:01:10.489590Z",
     "iopub.status.idle": "2022-04-19T13:01:10.523990Z",
     "shell.execute_reply": "2022-04-19T13:01:10.523177Z"
    },
    "papermill": {
     "duration": 0.056096,
     "end_time": "2022-04-19T13:01:10.526361",
     "exception": false,
     "start_time": "2022-04-19T13:01:10.470265",
     "status": "completed"
    },
    "tags": []
   },
   "outputs": [],
   "source": [
    "X_train, feature_names = prepare_Xdata(train_data)\n",
    "X_test, _ = prepare_Xdata(test_data)"
   ]
  },
  {
   "cell_type": "code",
   "execution_count": 6,
   "id": "ba480707",
   "metadata": {
    "execution": {
     "iopub.execute_input": "2022-04-19T13:01:10.567488Z",
     "iopub.status.busy": "2022-04-19T13:01:10.566979Z",
     "iopub.status.idle": "2022-04-19T13:01:10.582726Z",
     "shell.execute_reply": "2022-04-19T13:01:10.582021Z"
    },
    "papermill": {
     "duration": 0.040953,
     "end_time": "2022-04-19T13:01:10.586962",
     "exception": false,
     "start_time": "2022-04-19T13:01:10.546009",
     "status": "completed"
    },
    "tags": []
   },
   "outputs": [
    {
     "name": "stdout",
     "output_type": "stream",
     "text": [
      "<class 'pandas.core.frame.DataFrame'>\n",
      "RangeIndex: 891 entries, 0 to 890\n",
      "Data columns (total 10 columns):\n",
      " #   Column      Non-Null Count  Dtype  \n",
      "---  ------      --------------  -----  \n",
      " 0   Pclass      891 non-null    int64  \n",
      " 1   Age         891 non-null    float64\n",
      " 2   SibSp       891 non-null    int64  \n",
      " 3   Parch       891 non-null    int64  \n",
      " 4   Fare        891 non-null    float64\n",
      " 5   Sex_female  891 non-null    uint8  \n",
      " 6   Sex_male    891 non-null    uint8  \n",
      " 7   Embarked_C  891 non-null    uint8  \n",
      " 8   Embarked_Q  891 non-null    uint8  \n",
      " 9   Embarked_S  891 non-null    uint8  \n",
      "dtypes: float64(2), int64(3), uint8(5)\n",
      "memory usage: 39.3 KB\n"
     ]
    }
   ],
   "source": [
    "X_train.info()"
   ]
  },
  {
   "cell_type": "code",
   "execution_count": 7,
   "id": "5d0517eb",
   "metadata": {
    "execution": {
     "iopub.execute_input": "2022-04-19T13:01:10.628724Z",
     "iopub.status.busy": "2022-04-19T13:01:10.628281Z",
     "iopub.status.idle": "2022-04-19T13:01:10.640730Z",
     "shell.execute_reply": "2022-04-19T13:01:10.639768Z"
    },
    "papermill": {
     "duration": 0.035862,
     "end_time": "2022-04-19T13:01:10.643319",
     "exception": false,
     "start_time": "2022-04-19T13:01:10.607457",
     "status": "completed"
    },
    "tags": []
   },
   "outputs": [
    {
     "name": "stdout",
     "output_type": "stream",
     "text": [
      "<class 'pandas.core.frame.DataFrame'>\n",
      "RangeIndex: 418 entries, 0 to 417\n",
      "Data columns (total 10 columns):\n",
      " #   Column      Non-Null Count  Dtype  \n",
      "---  ------      --------------  -----  \n",
      " 0   Pclass      418 non-null    int64  \n",
      " 1   Age         418 non-null    float64\n",
      " 2   SibSp       418 non-null    int64  \n",
      " 3   Parch       418 non-null    int64  \n",
      " 4   Fare        418 non-null    float64\n",
      " 5   Sex_female  418 non-null    uint8  \n",
      " 6   Sex_male    418 non-null    uint8  \n",
      " 7   Embarked_C  418 non-null    uint8  \n",
      " 8   Embarked_Q  418 non-null    uint8  \n",
      " 9   Embarked_S  418 non-null    uint8  \n",
      "dtypes: float64(2), int64(3), uint8(5)\n",
      "memory usage: 18.5 KB\n"
     ]
    }
   ],
   "source": [
    "X_test.info()"
   ]
  },
  {
   "cell_type": "code",
   "execution_count": 8,
   "id": "5d513ba3",
   "metadata": {
    "execution": {
     "iopub.execute_input": "2022-04-19T13:01:10.683795Z",
     "iopub.status.busy": "2022-04-19T13:01:10.683511Z",
     "iopub.status.idle": "2022-04-19T13:01:20.281237Z",
     "shell.execute_reply": "2022-04-19T13:01:20.280007Z"
    },
    "papermill": {
     "duration": 9.620244,
     "end_time": "2022-04-19T13:01:20.283620",
     "exception": false,
     "start_time": "2022-04-19T13:01:10.663376",
     "status": "completed"
    },
    "tags": []
   },
   "outputs": [
    {
     "name": "stdout",
     "output_type": "stream",
     "text": [
      "using 4 CPUs\n",
      "Fitting 100 folds for each of 28 candidates, totalling 2800 fits\n"
     ]
    }
   ],
   "source": [
    "clf = select_model_hyperparams(X_train, train_data.Survived);"
   ]
  },
  {
   "cell_type": "code",
   "execution_count": 9,
   "id": "609423cf",
   "metadata": {
    "execution": {
     "iopub.execute_input": "2022-04-19T13:01:20.326567Z",
     "iopub.status.busy": "2022-04-19T13:01:20.326043Z",
     "iopub.status.idle": "2022-04-19T13:01:20.332377Z",
     "shell.execute_reply": "2022-04-19T13:01:20.331201Z"
    },
    "papermill": {
     "duration": 0.033371,
     "end_time": "2022-04-19T13:01:20.336374",
     "exception": false,
     "start_time": "2022-04-19T13:01:20.303003",
     "status": "completed"
    },
    "tags": []
   },
   "outputs": [
    {
     "name": "stdout",
     "output_type": "stream",
     "text": [
      "Best average validation score: 0.818\n",
      "  Param: max_depth = 6\n",
      "  Param: max_leaf_nodes = 16\n",
      "  Param: min_samples_leaf = 2\n"
     ]
    }
   ],
   "source": [
    "print(\"Best average validation score: {}\".format(clf.best_score_.round(3)))\n",
    "for pname, pvalue in clf.best_params_.items():\n",
    "    print(\"  Param: {} = {}\".format(pname, pvalue))"
   ]
  },
  {
   "cell_type": "code",
   "execution_count": 10,
   "id": "90c3caf3",
   "metadata": {
    "execution": {
     "iopub.execute_input": "2022-04-19T13:01:20.379087Z",
     "iopub.status.busy": "2022-04-19T13:01:20.378515Z",
     "iopub.status.idle": "2022-04-19T13:01:21.300404Z",
     "shell.execute_reply": "2022-04-19T13:01:21.299230Z"
    },
    "papermill": {
     "duration": 0.946368,
     "end_time": "2022-04-19T13:01:21.303889",
     "exception": false,
     "start_time": "2022-04-19T13:01:20.357521",
     "status": "completed"
    },
    "tags": []
   },
   "outputs": [
    {
     "data": {
      "image/svg+xml": [
       "<?xml version=\"1.0\" encoding=\"UTF-8\" standalone=\"no\"?>\n",
       "<!DOCTYPE svg PUBLIC \"-//W3C//DTD SVG 1.1//EN\"\n",
       " \"http://www.w3.org/Graphics/SVG/1.1/DTD/svg11.dtd\">\n",
       "<!-- Generated by graphviz version 2.50.0 (20211209.0339)\n",
       " -->\n",
       "<!-- Title: Tree Pages: 1 -->\n",
       "<svg width=\"1286pt\" height=\"790pt\"\n",
       " viewBox=\"0.00 0.00 1285.50 790.00\" xmlns=\"http://www.w3.org/2000/svg\" xmlns:xlink=\"http://www.w3.org/1999/xlink\">\n",
       "<g id=\"graph0\" class=\"graph\" transform=\"scale(1 1) rotate(0) translate(4 786)\">\n",
       "<title>Tree</title>\n",
       "<polygon fill=\"white\" stroke=\"transparent\" points=\"-4,4 -4,-786 1281.5,-786 1281.5,4 -4,4\"/>\n",
       "<!-- 0 -->\n",
       "<g id=\"node1\" class=\"node\">\n",
       "<title>0</title>\n",
       "<polygon fill=\"#f5cfb4\" stroke=\"black\" points=\"601.5,-782 452.5,-782 452.5,-699 601.5,-699 601.5,-782\"/>\n",
       "<text text-anchor=\"middle\" x=\"527\" y=\"-766.8\" font-family=\"Helvetica,sans-Serif\" font-size=\"14.00\">Sex_male &lt;= 0.5</text>\n",
       "<text text-anchor=\"middle\" x=\"527\" y=\"-751.8\" font-family=\"Helvetica,sans-Serif\" font-size=\"14.00\">gini = 0.473</text>\n",
       "<text text-anchor=\"middle\" x=\"527\" y=\"-736.8\" font-family=\"Helvetica,sans-Serif\" font-size=\"14.00\">samples = 891</text>\n",
       "<text text-anchor=\"middle\" x=\"527\" y=\"-721.8\" font-family=\"Helvetica,sans-Serif\" font-size=\"14.00\">value = [549, 342]</text>\n",
       "<text text-anchor=\"middle\" x=\"527\" y=\"-706.8\" font-family=\"Helvetica,sans-Serif\" font-size=\"14.00\">class = dead</text>\n",
       "</g>\n",
       "<!-- 1 -->\n",
       "<g id=\"node2\" class=\"node\">\n",
       "<title>1</title>\n",
       "<polygon fill=\"#7ebfee\" stroke=\"black\" points=\"516,-663 376,-663 376,-580 516,-580 516,-663\"/>\n",
       "<text text-anchor=\"middle\" x=\"446\" y=\"-647.8\" font-family=\"Helvetica,sans-Serif\" font-size=\"14.00\">Pclass &lt;= 2.5</text>\n",
       "<text text-anchor=\"middle\" x=\"446\" y=\"-632.8\" font-family=\"Helvetica,sans-Serif\" font-size=\"14.00\">gini = 0.383</text>\n",
       "<text text-anchor=\"middle\" x=\"446\" y=\"-617.8\" font-family=\"Helvetica,sans-Serif\" font-size=\"14.00\">samples = 314</text>\n",
       "<text text-anchor=\"middle\" x=\"446\" y=\"-602.8\" font-family=\"Helvetica,sans-Serif\" font-size=\"14.00\">value = [81, 233]</text>\n",
       "<text text-anchor=\"middle\" x=\"446\" y=\"-587.8\" font-family=\"Helvetica,sans-Serif\" font-size=\"14.00\">class = survived</text>\n",
       "</g>\n",
       "<!-- 0&#45;&gt;1 -->\n",
       "<g id=\"edge1\" class=\"edge\">\n",
       "<title>0&#45;&gt;1</title>\n",
       "<path fill=\"none\" stroke=\"black\" d=\"M498.9,-698.91C492.74,-690.01 486.16,-680.51 479.81,-671.33\"/>\n",
       "<polygon fill=\"black\" stroke=\"black\" points=\"482.62,-669.25 474.05,-663.02 476.87,-673.24 482.62,-669.25\"/>\n",
       "<text text-anchor=\"middle\" x=\"469.58\" y=\"-683.92\" font-family=\"Helvetica,sans-Serif\" font-size=\"14.00\">True</text>\n",
       "</g>\n",
       "<!-- 2 -->\n",
       "<g id=\"node15\" class=\"node\">\n",
       "<title>2</title>\n",
       "<polygon fill=\"#eb9e67\" stroke=\"black\" points=\"737.5,-663 588.5,-663 588.5,-580 737.5,-580 737.5,-663\"/>\n",
       "<text text-anchor=\"middle\" x=\"663\" y=\"-647.8\" font-family=\"Helvetica,sans-Serif\" font-size=\"14.00\">Age &lt;= 6.5</text>\n",
       "<text text-anchor=\"middle\" x=\"663\" y=\"-632.8\" font-family=\"Helvetica,sans-Serif\" font-size=\"14.00\">gini = 0.306</text>\n",
       "<text text-anchor=\"middle\" x=\"663\" y=\"-617.8\" font-family=\"Helvetica,sans-Serif\" font-size=\"14.00\">samples = 577</text>\n",
       "<text text-anchor=\"middle\" x=\"663\" y=\"-602.8\" font-family=\"Helvetica,sans-Serif\" font-size=\"14.00\">value = [468, 109]</text>\n",
       "<text text-anchor=\"middle\" x=\"663\" y=\"-587.8\" font-family=\"Helvetica,sans-Serif\" font-size=\"14.00\">class = dead</text>\n",
       "</g>\n",
       "<!-- 0&#45;&gt;2 -->\n",
       "<g id=\"edge14\" class=\"edge\">\n",
       "<title>0&#45;&gt;2</title>\n",
       "<path fill=\"none\" stroke=\"black\" d=\"M574.18,-698.91C585.16,-689.47 596.93,-679.34 608.19,-669.65\"/>\n",
       "<polygon fill=\"black\" stroke=\"black\" points=\"610.6,-672.2 615.9,-663.02 606.04,-666.89 610.6,-672.2\"/>\n",
       "<text text-anchor=\"middle\" x=\"614.03\" y=\"-684.25\" font-family=\"Helvetica,sans-Serif\" font-size=\"14.00\">False</text>\n",
       "</g>\n",
       "<!-- 3 -->\n",
       "<g id=\"node3\" class=\"node\">\n",
       "<title>3</title>\n",
       "<polygon fill=\"#44a2e6\" stroke=\"black\" points=\"362,-536.5 230,-536.5 230,-468.5 362,-468.5 362,-536.5\"/>\n",
       "<text text-anchor=\"middle\" x=\"296\" y=\"-521.3\" font-family=\"Helvetica,sans-Serif\" font-size=\"14.00\">gini = 0.1</text>\n",
       "<text text-anchor=\"middle\" x=\"296\" y=\"-506.3\" font-family=\"Helvetica,sans-Serif\" font-size=\"14.00\">samples = 170</text>\n",
       "<text text-anchor=\"middle\" x=\"296\" y=\"-491.3\" font-family=\"Helvetica,sans-Serif\" font-size=\"14.00\">value = [9, 161]</text>\n",
       "<text text-anchor=\"middle\" x=\"296\" y=\"-476.3\" font-family=\"Helvetica,sans-Serif\" font-size=\"14.00\">class = survived</text>\n",
       "</g>\n",
       "<!-- 1&#45;&gt;3 -->\n",
       "<g id=\"edge2\" class=\"edge\">\n",
       "<title>1&#45;&gt;3</title>\n",
       "<path fill=\"none\" stroke=\"black\" d=\"M393.96,-579.91C378.68,-567.99 361.99,-554.98 346.79,-543.12\"/>\n",
       "<polygon fill=\"black\" stroke=\"black\" points=\"348.56,-540.06 338.52,-536.67 344.25,-545.58 348.56,-540.06\"/>\n",
       "</g>\n",
       "<!-- 4 -->\n",
       "<g id=\"node4\" class=\"node\">\n",
       "<title>4</title>\n",
       "<polygon fill=\"#ffffff\" stroke=\"black\" points=\"511.5,-544 380.5,-544 380.5,-461 511.5,-461 511.5,-544\"/>\n",
       "<text text-anchor=\"middle\" x=\"446\" y=\"-528.8\" font-family=\"Helvetica,sans-Serif\" font-size=\"14.00\">Fare &lt;= 23.35</text>\n",
       "<text text-anchor=\"middle\" x=\"446\" y=\"-513.8\" font-family=\"Helvetica,sans-Serif\" font-size=\"14.00\">gini = 0.5</text>\n",
       "<text text-anchor=\"middle\" x=\"446\" y=\"-498.8\" font-family=\"Helvetica,sans-Serif\" font-size=\"14.00\">samples = 144</text>\n",
       "<text text-anchor=\"middle\" x=\"446\" y=\"-483.8\" font-family=\"Helvetica,sans-Serif\" font-size=\"14.00\">value = [72, 72]</text>\n",
       "<text text-anchor=\"middle\" x=\"446\" y=\"-468.8\" font-family=\"Helvetica,sans-Serif\" font-size=\"14.00\">class = dead</text>\n",
       "</g>\n",
       "<!-- 1&#45;&gt;4 -->\n",
       "<g id=\"edge3\" class=\"edge\">\n",
       "<title>1&#45;&gt;4</title>\n",
       "<path fill=\"none\" stroke=\"black\" d=\"M446,-579.91C446,-571.65 446,-562.86 446,-554.3\"/>\n",
       "<polygon fill=\"black\" stroke=\"black\" points=\"449.5,-554.02 446,-544.02 442.5,-554.02 449.5,-554.02\"/>\n",
       "</g>\n",
       "<!-- 9 -->\n",
       "<g id=\"node5\" class=\"node\">\n",
       "<title>9</title>\n",
       "<polygon fill=\"#c3e1f7\" stroke=\"black\" points=\"367,-425 235,-425 235,-342 367,-342 367,-425\"/>\n",
       "<text text-anchor=\"middle\" x=\"301\" y=\"-409.8\" font-family=\"Helvetica,sans-Serif\" font-size=\"14.00\">Age &lt;= 36.5</text>\n",
       "<text text-anchor=\"middle\" x=\"301\" y=\"-394.8\" font-family=\"Helvetica,sans-Serif\" font-size=\"14.00\">gini = 0.484</text>\n",
       "<text text-anchor=\"middle\" x=\"301\" y=\"-379.8\" font-family=\"Helvetica,sans-Serif\" font-size=\"14.00\">samples = 117</text>\n",
       "<text text-anchor=\"middle\" x=\"301\" y=\"-364.8\" font-family=\"Helvetica,sans-Serif\" font-size=\"14.00\">value = [48, 69]</text>\n",
       "<text text-anchor=\"middle\" x=\"301\" y=\"-349.8\" font-family=\"Helvetica,sans-Serif\" font-size=\"14.00\">class = survived</text>\n",
       "</g>\n",
       "<!-- 4&#45;&gt;9 -->\n",
       "<g id=\"edge4\" class=\"edge\">\n",
       "<title>4&#45;&gt;9</title>\n",
       "<path fill=\"none\" stroke=\"black\" d=\"M395.69,-460.91C383.88,-451.38 371.21,-441.15 359.09,-431.37\"/>\n",
       "<polygon fill=\"black\" stroke=\"black\" points=\"361.2,-428.58 351.22,-425.02 356.8,-434.02 361.2,-428.58\"/>\n",
       "</g>\n",
       "<!-- 10 -->\n",
       "<g id=\"node14\" class=\"node\">\n",
       "<title>10</title>\n",
       "<polygon fill=\"#e89152\" stroke=\"black\" points=\"507,-417.5 385,-417.5 385,-349.5 507,-349.5 507,-417.5\"/>\n",
       "<text text-anchor=\"middle\" x=\"446\" y=\"-402.3\" font-family=\"Helvetica,sans-Serif\" font-size=\"14.00\">gini = 0.198</text>\n",
       "<text text-anchor=\"middle\" x=\"446\" y=\"-387.3\" font-family=\"Helvetica,sans-Serif\" font-size=\"14.00\">samples = 27</text>\n",
       "<text text-anchor=\"middle\" x=\"446\" y=\"-372.3\" font-family=\"Helvetica,sans-Serif\" font-size=\"14.00\">value = [24, 3]</text>\n",
       "<text text-anchor=\"middle\" x=\"446\" y=\"-357.3\" font-family=\"Helvetica,sans-Serif\" font-size=\"14.00\">class = dead</text>\n",
       "</g>\n",
       "<!-- 4&#45;&gt;10 -->\n",
       "<g id=\"edge13\" class=\"edge\">\n",
       "<title>4&#45;&gt;10</title>\n",
       "<path fill=\"none\" stroke=\"black\" d=\"M446,-460.91C446,-450.2 446,-438.62 446,-427.78\"/>\n",
       "<polygon fill=\"black\" stroke=\"black\" points=\"449.5,-427.67 446,-417.67 442.5,-427.67 449.5,-427.67\"/>\n",
       "</g>\n",
       "<!-- 13 -->\n",
       "<g id=\"node6\" class=\"node\">\n",
       "<title>13</title>\n",
       "<polygon fill=\"#b3daf5\" stroke=\"black\" points=\"378,-306 220,-306 220,-223 378,-223 378,-306\"/>\n",
       "<text text-anchor=\"middle\" x=\"299\" y=\"-290.8\" font-family=\"Helvetica,sans-Serif\" font-size=\"14.00\">Embarked_S &lt;= 0.5</text>\n",
       "<text text-anchor=\"middle\" x=\"299\" y=\"-275.8\" font-family=\"Helvetica,sans-Serif\" font-size=\"14.00\">gini = 0.472</text>\n",
       "<text text-anchor=\"middle\" x=\"299\" y=\"-260.8\" font-family=\"Helvetica,sans-Serif\" font-size=\"14.00\">samples = 110</text>\n",
       "<text text-anchor=\"middle\" x=\"299\" y=\"-245.8\" font-family=\"Helvetica,sans-Serif\" font-size=\"14.00\">value = [42, 68]</text>\n",
       "<text text-anchor=\"middle\" x=\"299\" y=\"-230.8\" font-family=\"Helvetica,sans-Serif\" font-size=\"14.00\">class = survived</text>\n",
       "</g>\n",
       "<!-- 9&#45;&gt;13 -->\n",
       "<g id=\"edge5\" class=\"edge\">\n",
       "<title>9&#45;&gt;13</title>\n",
       "<path fill=\"none\" stroke=\"black\" d=\"M300.31,-341.91C300.16,-333.56 300.01,-324.67 299.86,-316.02\"/>\n",
       "<polygon fill=\"black\" stroke=\"black\" points=\"303.36,-315.96 299.69,-306.02 296.36,-316.08 303.36,-315.96\"/>\n",
       "</g>\n",
       "<!-- 14 -->\n",
       "<g id=\"node13\" class=\"node\">\n",
       "<title>14</title>\n",
       "<polygon fill=\"#e9965a\" stroke=\"black\" points=\"509.5,-298.5 396.5,-298.5 396.5,-230.5 509.5,-230.5 509.5,-298.5\"/>\n",
       "<text text-anchor=\"middle\" x=\"453\" y=\"-283.3\" font-family=\"Helvetica,sans-Serif\" font-size=\"14.00\">gini = 0.245</text>\n",
       "<text text-anchor=\"middle\" x=\"453\" y=\"-268.3\" font-family=\"Helvetica,sans-Serif\" font-size=\"14.00\">samples = 7</text>\n",
       "<text text-anchor=\"middle\" x=\"453\" y=\"-253.3\" font-family=\"Helvetica,sans-Serif\" font-size=\"14.00\">value = [6, 1]</text>\n",
       "<text text-anchor=\"middle\" x=\"453\" y=\"-238.3\" font-family=\"Helvetica,sans-Serif\" font-size=\"14.00\">class = dead</text>\n",
       "</g>\n",
       "<!-- 9&#45;&gt;14 -->\n",
       "<g id=\"edge12\" class=\"edge\">\n",
       "<title>9&#45;&gt;14</title>\n",
       "<path fill=\"none\" stroke=\"black\" d=\"M353.74,-341.91C369.36,-329.88 386.44,-316.73 401.96,-304.79\"/>\n",
       "<polygon fill=\"black\" stroke=\"black\" points=\"404.12,-307.54 409.91,-298.67 399.85,-301.99 404.12,-307.54\"/>\n",
       "</g>\n",
       "<!-- 21 -->\n",
       "<g id=\"node7\" class=\"node\">\n",
       "<title>21</title>\n",
       "<polygon fill=\"#87c4ef\" stroke=\"black\" points=\"270,-187 138,-187 138,-104 270,-104 270,-187\"/>\n",
       "<text text-anchor=\"middle\" x=\"204\" y=\"-171.8\" font-family=\"Helvetica,sans-Serif\" font-size=\"14.00\">Age &lt;= 29.75</text>\n",
       "<text text-anchor=\"middle\" x=\"204\" y=\"-156.8\" font-family=\"Helvetica,sans-Serif\" font-size=\"14.00\">gini = 0.406</text>\n",
       "<text text-anchor=\"middle\" x=\"204\" y=\"-141.8\" font-family=\"Helvetica,sans-Serif\" font-size=\"14.00\">samples = 53</text>\n",
       "<text text-anchor=\"middle\" x=\"204\" y=\"-126.8\" font-family=\"Helvetica,sans-Serif\" font-size=\"14.00\">value = [15, 38]</text>\n",
       "<text text-anchor=\"middle\" x=\"204\" y=\"-111.8\" font-family=\"Helvetica,sans-Serif\" font-size=\"14.00\">class = survived</text>\n",
       "</g>\n",
       "<!-- 13&#45;&gt;21 -->\n",
       "<g id=\"edge6\" class=\"edge\">\n",
       "<title>13&#45;&gt;21</title>\n",
       "<path fill=\"none\" stroke=\"black\" d=\"M266.04,-222.91C258.75,-213.92 250.94,-204.32 243.42,-195.05\"/>\n",
       "<polygon fill=\"black\" stroke=\"black\" points=\"245.92,-192.58 236.9,-187.02 240.49,-196.99 245.92,-192.58\"/>\n",
       "</g>\n",
       "<!-- 22 -->\n",
       "<g id=\"node10\" class=\"node\">\n",
       "<title>22</title>\n",
       "<polygon fill=\"#ebf5fc\" stroke=\"black\" points=\"420,-187 288,-187 288,-104 420,-104 420,-187\"/>\n",
       "<text text-anchor=\"middle\" x=\"354\" y=\"-171.8\" font-family=\"Helvetica,sans-Serif\" font-size=\"14.00\">Fare &lt;= 10.825</text>\n",
       "<text text-anchor=\"middle\" x=\"354\" y=\"-156.8\" font-family=\"Helvetica,sans-Serif\" font-size=\"14.00\">gini = 0.499</text>\n",
       "<text text-anchor=\"middle\" x=\"354\" y=\"-141.8\" font-family=\"Helvetica,sans-Serif\" font-size=\"14.00\">samples = 57</text>\n",
       "<text text-anchor=\"middle\" x=\"354\" y=\"-126.8\" font-family=\"Helvetica,sans-Serif\" font-size=\"14.00\">value = [27, 30]</text>\n",
       "<text text-anchor=\"middle\" x=\"354\" y=\"-111.8\" font-family=\"Helvetica,sans-Serif\" font-size=\"14.00\">class = survived</text>\n",
       "</g>\n",
       "<!-- 13&#45;&gt;22 -->\n",
       "<g id=\"edge9\" class=\"edge\">\n",
       "<title>13&#45;&gt;22</title>\n",
       "<path fill=\"none\" stroke=\"black\" d=\"M318.08,-222.91C322.13,-214.29 326.46,-205.09 330.65,-196.17\"/>\n",
       "<polygon fill=\"black\" stroke=\"black\" points=\"333.86,-197.56 334.95,-187.02 327.53,-194.58 333.86,-197.56\"/>\n",
       "</g>\n",
       "<!-- 23 -->\n",
       "<g id=\"node8\" class=\"node\">\n",
       "<title>23</title>\n",
       "<polygon fill=\"#7dbfee\" stroke=\"black\" points=\"132,-68 0,-68 0,0 132,0 132,-68\"/>\n",
       "<text text-anchor=\"middle\" x=\"66\" y=\"-52.8\" font-family=\"Helvetica,sans-Serif\" font-size=\"14.00\">gini = 0.38</text>\n",
       "<text text-anchor=\"middle\" x=\"66\" y=\"-37.8\" font-family=\"Helvetica,sans-Serif\" font-size=\"14.00\">samples = 51</text>\n",
       "<text text-anchor=\"middle\" x=\"66\" y=\"-22.8\" font-family=\"Helvetica,sans-Serif\" font-size=\"14.00\">value = [13, 38]</text>\n",
       "<text text-anchor=\"middle\" x=\"66\" y=\"-7.8\" font-family=\"Helvetica,sans-Serif\" font-size=\"14.00\">class = survived</text>\n",
       "</g>\n",
       "<!-- 21&#45;&gt;23 -->\n",
       "<g id=\"edge7\" class=\"edge\">\n",
       "<title>21&#45;&gt;23</title>\n",
       "<path fill=\"none\" stroke=\"black\" d=\"M152.61,-103.73C140.66,-94.24 127.95,-84.16 116.05,-74.72\"/>\n",
       "<polygon fill=\"black\" stroke=\"black\" points=\"117.98,-71.77 107.97,-68.3 113.62,-77.26 117.98,-71.77\"/>\n",
       "</g>\n",
       "<!-- 24 -->\n",
       "<g id=\"node9\" class=\"node\">\n",
       "<title>24</title>\n",
       "<polygon fill=\"#e58139\" stroke=\"black\" points=\"263.5,-68 150.5,-68 150.5,0 263.5,0 263.5,-68\"/>\n",
       "<text text-anchor=\"middle\" x=\"207\" y=\"-52.8\" font-family=\"Helvetica,sans-Serif\" font-size=\"14.00\">gini = 0.0</text>\n",
       "<text text-anchor=\"middle\" x=\"207\" y=\"-37.8\" font-family=\"Helvetica,sans-Serif\" font-size=\"14.00\">samples = 2</text>\n",
       "<text text-anchor=\"middle\" x=\"207\" y=\"-22.8\" font-family=\"Helvetica,sans-Serif\" font-size=\"14.00\">value = [2, 0]</text>\n",
       "<text text-anchor=\"middle\" x=\"207\" y=\"-7.8\" font-family=\"Helvetica,sans-Serif\" font-size=\"14.00\">class = dead</text>\n",
       "</g>\n",
       "<!-- 21&#45;&gt;24 -->\n",
       "<g id=\"edge8\" class=\"edge\">\n",
       "<title>21&#45;&gt;24</title>\n",
       "<path fill=\"none\" stroke=\"black\" d=\"M205.12,-103.73C205.34,-95.52 205.58,-86.86 205.81,-78.56\"/>\n",
       "<polygon fill=\"black\" stroke=\"black\" points=\"209.31,-78.39 206.09,-68.3 202.32,-78.2 209.31,-78.39\"/>\n",
       "</g>\n",
       "<!-- 25 -->\n",
       "<g id=\"node11\" class=\"node\">\n",
       "<title>25</title>\n",
       "<polygon fill=\"#f8decb\" stroke=\"black\" points=\"417.5,-68 286.5,-68 286.5,0 417.5,0 417.5,-68\"/>\n",
       "<text text-anchor=\"middle\" x=\"352\" y=\"-52.8\" font-family=\"Helvetica,sans-Serif\" font-size=\"14.00\">gini = 0.489</text>\n",
       "<text text-anchor=\"middle\" x=\"352\" y=\"-37.8\" font-family=\"Helvetica,sans-Serif\" font-size=\"14.00\">samples = 33</text>\n",
       "<text text-anchor=\"middle\" x=\"352\" y=\"-22.8\" font-family=\"Helvetica,sans-Serif\" font-size=\"14.00\">value = [19, 14]</text>\n",
       "<text text-anchor=\"middle\" x=\"352\" y=\"-7.8\" font-family=\"Helvetica,sans-Serif\" font-size=\"14.00\">class = dead</text>\n",
       "</g>\n",
       "<!-- 22&#45;&gt;25 -->\n",
       "<g id=\"edge10\" class=\"edge\">\n",
       "<title>22&#45;&gt;25</title>\n",
       "<path fill=\"none\" stroke=\"black\" d=\"M353.26,-103.73C353.11,-95.52 352.95,-86.86 352.8,-78.56\"/>\n",
       "<polygon fill=\"black\" stroke=\"black\" points=\"356.29,-78.23 352.61,-68.3 349.29,-78.36 356.29,-78.23\"/>\n",
       "</g>\n",
       "<!-- 26 -->\n",
       "<g id=\"node12\" class=\"node\">\n",
       "<title>26</title>\n",
       "<polygon fill=\"#9ccef2\" stroke=\"black\" points=\"568,-68 436,-68 436,0 568,0 568,-68\"/>\n",
       "<text text-anchor=\"middle\" x=\"502\" y=\"-52.8\" font-family=\"Helvetica,sans-Serif\" font-size=\"14.00\">gini = 0.444</text>\n",
       "<text text-anchor=\"middle\" x=\"502\" y=\"-37.8\" font-family=\"Helvetica,sans-Serif\" font-size=\"14.00\">samples = 24</text>\n",
       "<text text-anchor=\"middle\" x=\"502\" y=\"-22.8\" font-family=\"Helvetica,sans-Serif\" font-size=\"14.00\">value = [8, 16]</text>\n",
       "<text text-anchor=\"middle\" x=\"502\" y=\"-7.8\" font-family=\"Helvetica,sans-Serif\" font-size=\"14.00\">class = survived</text>\n",
       "</g>\n",
       "<!-- 22&#45;&gt;26 -->\n",
       "<g id=\"edge11\" class=\"edge\">\n",
       "<title>22&#45;&gt;26</title>\n",
       "<path fill=\"none\" stroke=\"black\" d=\"M409.11,-103.73C422.05,-94.15 435.82,-83.96 448.69,-74.44\"/>\n",
       "<polygon fill=\"black\" stroke=\"black\" points=\"451.04,-77.06 456.99,-68.3 446.87,-71.43 451.04,-77.06\"/>\n",
       "</g>\n",
       "<!-- 5 -->\n",
       "<g id=\"node16\" class=\"node\">\n",
       "<title>5</title>\n",
       "<polygon fill=\"#9ccef2\" stroke=\"black\" points=\"729,-544 597,-544 597,-461 729,-461 729,-544\"/>\n",
       "<text text-anchor=\"middle\" x=\"663\" y=\"-528.8\" font-family=\"Helvetica,sans-Serif\" font-size=\"14.00\">SibSp &lt;= 2.5</text>\n",
       "<text text-anchor=\"middle\" x=\"663\" y=\"-513.8\" font-family=\"Helvetica,sans-Serif\" font-size=\"14.00\">gini = 0.444</text>\n",
       "<text text-anchor=\"middle\" x=\"663\" y=\"-498.8\" font-family=\"Helvetica,sans-Serif\" font-size=\"14.00\">samples = 24</text>\n",
       "<text text-anchor=\"middle\" x=\"663\" y=\"-483.8\" font-family=\"Helvetica,sans-Serif\" font-size=\"14.00\">value = [8, 16]</text>\n",
       "<text text-anchor=\"middle\" x=\"663\" y=\"-468.8\" font-family=\"Helvetica,sans-Serif\" font-size=\"14.00\">class = survived</text>\n",
       "</g>\n",
       "<!-- 2&#45;&gt;5 -->\n",
       "<g id=\"edge15\" class=\"edge\">\n",
       "<title>2&#45;&gt;5</title>\n",
       "<path fill=\"none\" stroke=\"black\" d=\"M663,-579.91C663,-571.65 663,-562.86 663,-554.3\"/>\n",
       "<polygon fill=\"black\" stroke=\"black\" points=\"666.5,-554.02 663,-544.02 659.5,-554.02 666.5,-554.02\"/>\n",
       "</g>\n",
       "<!-- 6 -->\n",
       "<g id=\"node19\" class=\"node\">\n",
       "<title>6</title>\n",
       "<polygon fill=\"#ea9a61\" stroke=\"black\" points=\"942,-544 802,-544 802,-461 942,-461 942,-544\"/>\n",
       "<text text-anchor=\"middle\" x=\"872\" y=\"-528.8\" font-family=\"Helvetica,sans-Serif\" font-size=\"14.00\">Pclass &lt;= 1.5</text>\n",
       "<text text-anchor=\"middle\" x=\"872\" y=\"-513.8\" font-family=\"Helvetica,sans-Serif\" font-size=\"14.00\">gini = 0.28</text>\n",
       "<text text-anchor=\"middle\" x=\"872\" y=\"-498.8\" font-family=\"Helvetica,sans-Serif\" font-size=\"14.00\">samples = 553</text>\n",
       "<text text-anchor=\"middle\" x=\"872\" y=\"-483.8\" font-family=\"Helvetica,sans-Serif\" font-size=\"14.00\">value = [460, 93]</text>\n",
       "<text text-anchor=\"middle\" x=\"872\" y=\"-468.8\" font-family=\"Helvetica,sans-Serif\" font-size=\"14.00\">class = dead</text>\n",
       "</g>\n",
       "<!-- 2&#45;&gt;6 -->\n",
       "<g id=\"edge18\" class=\"edge\">\n",
       "<title>2&#45;&gt;6</title>\n",
       "<path fill=\"none\" stroke=\"black\" d=\"M735.51,-579.91C754.04,-569.54 774.04,-558.34 792.88,-547.79\"/>\n",
       "<polygon fill=\"black\" stroke=\"black\" points=\"794.72,-550.78 801.73,-542.84 791.3,-544.67 794.72,-550.78\"/>\n",
       "</g>\n",
       "<!-- 11 -->\n",
       "<g id=\"node17\" class=\"node\">\n",
       "<title>11</title>\n",
       "<polygon fill=\"#399de5\" stroke=\"black\" points=\"657,-417.5 525,-417.5 525,-349.5 657,-349.5 657,-417.5\"/>\n",
       "<text text-anchor=\"middle\" x=\"591\" y=\"-402.3\" font-family=\"Helvetica,sans-Serif\" font-size=\"14.00\">gini = 0.0</text>\n",
       "<text text-anchor=\"middle\" x=\"591\" y=\"-387.3\" font-family=\"Helvetica,sans-Serif\" font-size=\"14.00\">samples = 15</text>\n",
       "<text text-anchor=\"middle\" x=\"591\" y=\"-372.3\" font-family=\"Helvetica,sans-Serif\" font-size=\"14.00\">value = [0, 15]</text>\n",
       "<text text-anchor=\"middle\" x=\"591\" y=\"-357.3\" font-family=\"Helvetica,sans-Serif\" font-size=\"14.00\">class = survived</text>\n",
       "</g>\n",
       "<!-- 5&#45;&gt;11 -->\n",
       "<g id=\"edge16\" class=\"edge\">\n",
       "<title>5&#45;&gt;11</title>\n",
       "<path fill=\"none\" stroke=\"black\" d=\"M638.02,-460.91C631.16,-449.76 623.71,-437.66 616.81,-426.44\"/>\n",
       "<polygon fill=\"black\" stroke=\"black\" points=\"619.63,-424.35 611.41,-417.67 613.67,-428.02 619.63,-424.35\"/>\n",
       "</g>\n",
       "<!-- 12 -->\n",
       "<g id=\"node18\" class=\"node\">\n",
       "<title>12</title>\n",
       "<polygon fill=\"#e89152\" stroke=\"black\" points=\"788.5,-417.5 675.5,-417.5 675.5,-349.5 788.5,-349.5 788.5,-417.5\"/>\n",
       "<text text-anchor=\"middle\" x=\"732\" y=\"-402.3\" font-family=\"Helvetica,sans-Serif\" font-size=\"14.00\">gini = 0.198</text>\n",
       "<text text-anchor=\"middle\" x=\"732\" y=\"-387.3\" font-family=\"Helvetica,sans-Serif\" font-size=\"14.00\">samples = 9</text>\n",
       "<text text-anchor=\"middle\" x=\"732\" y=\"-372.3\" font-family=\"Helvetica,sans-Serif\" font-size=\"14.00\">value = [8, 1]</text>\n",
       "<text text-anchor=\"middle\" x=\"732\" y=\"-357.3\" font-family=\"Helvetica,sans-Serif\" font-size=\"14.00\">class = dead</text>\n",
       "</g>\n",
       "<!-- 5&#45;&gt;12 -->\n",
       "<g id=\"edge17\" class=\"edge\">\n",
       "<title>5&#45;&gt;12</title>\n",
       "<path fill=\"none\" stroke=\"black\" d=\"M686.94,-460.91C693.51,-449.76 700.65,-437.66 707.27,-426.44\"/>\n",
       "<polygon fill=\"black\" stroke=\"black\" points=\"710.37,-428.06 712.44,-417.67 704.35,-424.5 710.37,-428.06\"/>\n",
       "</g>\n",
       "<!-- 7 -->\n",
       "<g id=\"node20\" class=\"node\">\n",
       "<title>7</title>\n",
       "<polygon fill=\"#f4c7a8\" stroke=\"black\" points=\"937.5,-425 806.5,-425 806.5,-342 937.5,-342 937.5,-425\"/>\n",
       "<text text-anchor=\"middle\" x=\"872\" y=\"-409.8\" font-family=\"Helvetica,sans-Serif\" font-size=\"14.00\">Fare &lt;= 26.144</text>\n",
       "<text text-anchor=\"middle\" x=\"872\" y=\"-394.8\" font-family=\"Helvetica,sans-Serif\" font-size=\"14.00\">gini = 0.46</text>\n",
       "<text text-anchor=\"middle\" x=\"872\" y=\"-379.8\" font-family=\"Helvetica,sans-Serif\" font-size=\"14.00\">samples = 120</text>\n",
       "<text text-anchor=\"middle\" x=\"872\" y=\"-364.8\" font-family=\"Helvetica,sans-Serif\" font-size=\"14.00\">value = [77, 43]</text>\n",
       "<text text-anchor=\"middle\" x=\"872\" y=\"-349.8\" font-family=\"Helvetica,sans-Serif\" font-size=\"14.00\">class = dead</text>\n",
       "</g>\n",
       "<!-- 6&#45;&gt;7 -->\n",
       "<g id=\"edge19\" class=\"edge\">\n",
       "<title>6&#45;&gt;7</title>\n",
       "<path fill=\"none\" stroke=\"black\" d=\"M872,-460.91C872,-452.65 872,-443.86 872,-435.3\"/>\n",
       "<polygon fill=\"black\" stroke=\"black\" points=\"875.5,-435.02 872,-425.02 868.5,-435.02 875.5,-435.02\"/>\n",
       "</g>\n",
       "<!-- 8 -->\n",
       "<g id=\"node27\" class=\"node\">\n",
       "<title>8</title>\n",
       "<polygon fill=\"#e89153\" stroke=\"black\" points=\"1096,-425 956,-425 956,-342 1096,-342 1096,-425\"/>\n",
       "<text text-anchor=\"middle\" x=\"1026\" y=\"-409.8\" font-family=\"Helvetica,sans-Serif\" font-size=\"14.00\">Fare &lt;= 51.698</text>\n",
       "<text text-anchor=\"middle\" x=\"1026\" y=\"-394.8\" font-family=\"Helvetica,sans-Serif\" font-size=\"14.00\">gini = 0.204</text>\n",
       "<text text-anchor=\"middle\" x=\"1026\" y=\"-379.8\" font-family=\"Helvetica,sans-Serif\" font-size=\"14.00\">samples = 433</text>\n",
       "<text text-anchor=\"middle\" x=\"1026\" y=\"-364.8\" font-family=\"Helvetica,sans-Serif\" font-size=\"14.00\">value = [383, 50]</text>\n",
       "<text text-anchor=\"middle\" x=\"1026\" y=\"-349.8\" font-family=\"Helvetica,sans-Serif\" font-size=\"14.00\">class = dead</text>\n",
       "</g>\n",
       "<!-- 6&#45;&gt;8 -->\n",
       "<g id=\"edge26\" class=\"edge\">\n",
       "<title>6&#45;&gt;8</title>\n",
       "<path fill=\"none\" stroke=\"black\" d=\"M925.43,-460.91C938.09,-451.29 951.69,-440.95 964.68,-431.09\"/>\n",
       "<polygon fill=\"black\" stroke=\"black\" points=\"966.82,-433.86 972.66,-425.02 962.58,-428.28 966.82,-433.86\"/>\n",
       "</g>\n",
       "<!-- 15 -->\n",
       "<g id=\"node21\" class=\"node\">\n",
       "<title>15</title>\n",
       "<polygon fill=\"#e58139\" stroke=\"black\" points=\"788,-298.5 666,-298.5 666,-230.5 788,-230.5 788,-298.5\"/>\n",
       "<text text-anchor=\"middle\" x=\"727\" y=\"-283.3\" font-family=\"Helvetica,sans-Serif\" font-size=\"14.00\">gini = 0.0</text>\n",
       "<text text-anchor=\"middle\" x=\"727\" y=\"-268.3\" font-family=\"Helvetica,sans-Serif\" font-size=\"14.00\">samples = 10</text>\n",
       "<text text-anchor=\"middle\" x=\"727\" y=\"-253.3\" font-family=\"Helvetica,sans-Serif\" font-size=\"14.00\">value = [10, 0]</text>\n",
       "<text text-anchor=\"middle\" x=\"727\" y=\"-238.3\" font-family=\"Helvetica,sans-Serif\" font-size=\"14.00\">class = dead</text>\n",
       "</g>\n",
       "<!-- 7&#45;&gt;15 -->\n",
       "<g id=\"edge20\" class=\"edge\">\n",
       "<title>7&#45;&gt;15</title>\n",
       "<path fill=\"none\" stroke=\"black\" d=\"M821.69,-341.91C806.92,-329.99 790.79,-316.98 776.1,-305.12\"/>\n",
       "<polygon fill=\"black\" stroke=\"black\" points=\"778.08,-302.22 768.1,-298.67 773.69,-307.67 778.08,-302.22\"/>\n",
       "</g>\n",
       "<!-- 16 -->\n",
       "<g id=\"node22\" class=\"node\">\n",
       "<title>16</title>\n",
       "<polygon fill=\"#f6d2b8\" stroke=\"black\" points=\"937.5,-306 806.5,-306 806.5,-223 937.5,-223 937.5,-306\"/>\n",
       "<text text-anchor=\"middle\" x=\"872\" y=\"-290.8\" font-family=\"Helvetica,sans-Serif\" font-size=\"14.00\">Age &lt;= 53.0</text>\n",
       "<text text-anchor=\"middle\" x=\"872\" y=\"-275.8\" font-family=\"Helvetica,sans-Serif\" font-size=\"14.00\">gini = 0.476</text>\n",
       "<text text-anchor=\"middle\" x=\"872\" y=\"-260.8\" font-family=\"Helvetica,sans-Serif\" font-size=\"14.00\">samples = 110</text>\n",
       "<text text-anchor=\"middle\" x=\"872\" y=\"-245.8\" font-family=\"Helvetica,sans-Serif\" font-size=\"14.00\">value = [67, 43]</text>\n",
       "<text text-anchor=\"middle\" x=\"872\" y=\"-230.8\" font-family=\"Helvetica,sans-Serif\" font-size=\"14.00\">class = dead</text>\n",
       "</g>\n",
       "<!-- 7&#45;&gt;16 -->\n",
       "<g id=\"edge21\" class=\"edge\">\n",
       "<title>7&#45;&gt;16</title>\n",
       "<path fill=\"none\" stroke=\"black\" d=\"M872,-341.91C872,-333.65 872,-324.86 872,-316.3\"/>\n",
       "<polygon fill=\"black\" stroke=\"black\" points=\"875.5,-316.02 872,-306.02 868.5,-316.02 875.5,-316.02\"/>\n",
       "</g>\n",
       "<!-- 17 -->\n",
       "<g id=\"node23\" class=\"node\">\n",
       "<title>17</title>\n",
       "<polygon fill=\"#fae8db\" stroke=\"black\" points=\"845.5,-187 714.5,-187 714.5,-104 845.5,-104 845.5,-187\"/>\n",
       "<text text-anchor=\"middle\" x=\"780\" y=\"-171.8\" font-family=\"Helvetica,sans-Serif\" font-size=\"14.00\">Fare &lt;= 27.135</text>\n",
       "<text text-anchor=\"middle\" x=\"780\" y=\"-156.8\" font-family=\"Helvetica,sans-Serif\" font-size=\"14.00\">gini = 0.495</text>\n",
       "<text text-anchor=\"middle\" x=\"780\" y=\"-141.8\" font-family=\"Helvetica,sans-Serif\" font-size=\"14.00\">samples = 89</text>\n",
       "<text text-anchor=\"middle\" x=\"780\" y=\"-126.8\" font-family=\"Helvetica,sans-Serif\" font-size=\"14.00\">value = [49, 40]</text>\n",
       "<text text-anchor=\"middle\" x=\"780\" y=\"-111.8\" font-family=\"Helvetica,sans-Serif\" font-size=\"14.00\">class = dead</text>\n",
       "</g>\n",
       "<!-- 16&#45;&gt;17 -->\n",
       "<g id=\"edge22\" class=\"edge\">\n",
       "<title>16&#45;&gt;17</title>\n",
       "<path fill=\"none\" stroke=\"black\" d=\"M840.08,-222.91C833.02,-213.92 825.46,-204.32 818.18,-195.05\"/>\n",
       "<polygon fill=\"black\" stroke=\"black\" points=\"820.8,-192.72 811.86,-187.02 815.29,-197.05 820.8,-192.72\"/>\n",
       "</g>\n",
       "<!-- 18 -->\n",
       "<g id=\"node26\" class=\"node\">\n",
       "<title>18</title>\n",
       "<polygon fill=\"#e9965a\" stroke=\"black\" points=\"986,-179.5 864,-179.5 864,-111.5 986,-111.5 986,-179.5\"/>\n",
       "<text text-anchor=\"middle\" x=\"925\" y=\"-164.3\" font-family=\"Helvetica,sans-Serif\" font-size=\"14.00\">gini = 0.245</text>\n",
       "<text text-anchor=\"middle\" x=\"925\" y=\"-149.3\" font-family=\"Helvetica,sans-Serif\" font-size=\"14.00\">samples = 21</text>\n",
       "<text text-anchor=\"middle\" x=\"925\" y=\"-134.3\" font-family=\"Helvetica,sans-Serif\" font-size=\"14.00\">value = [18, 3]</text>\n",
       "<text text-anchor=\"middle\" x=\"925\" y=\"-119.3\" font-family=\"Helvetica,sans-Serif\" font-size=\"14.00\">class = dead</text>\n",
       "</g>\n",
       "<!-- 16&#45;&gt;18 -->\n",
       "<g id=\"edge25\" class=\"edge\">\n",
       "<title>16&#45;&gt;18</title>\n",
       "<path fill=\"none\" stroke=\"black\" d=\"M890.39,-222.91C895.34,-211.98 900.7,-200.14 905.7,-189.11\"/>\n",
       "<polygon fill=\"black\" stroke=\"black\" points=\"909.04,-190.22 909.98,-179.67 902.66,-187.33 909.04,-190.22\"/>\n",
       "</g>\n",
       "<!-- 19 -->\n",
       "<g id=\"node24\" class=\"node\">\n",
       "<title>19</title>\n",
       "<polygon fill=\"#5dafea\" stroke=\"black\" points=\"792,-68 660,-68 660,0 792,0 792,-68\"/>\n",
       "<text text-anchor=\"middle\" x=\"726\" y=\"-52.8\" font-family=\"Helvetica,sans-Serif\" font-size=\"14.00\">gini = 0.26</text>\n",
       "<text text-anchor=\"middle\" x=\"726\" y=\"-37.8\" font-family=\"Helvetica,sans-Serif\" font-size=\"14.00\">samples = 13</text>\n",
       "<text text-anchor=\"middle\" x=\"726\" y=\"-22.8\" font-family=\"Helvetica,sans-Serif\" font-size=\"14.00\">value = [2, 11]</text>\n",
       "<text text-anchor=\"middle\" x=\"726\" y=\"-7.8\" font-family=\"Helvetica,sans-Serif\" font-size=\"14.00\">class = survived</text>\n",
       "</g>\n",
       "<!-- 17&#45;&gt;19 -->\n",
       "<g id=\"edge23\" class=\"edge\">\n",
       "<title>17&#45;&gt;19</title>\n",
       "<path fill=\"none\" stroke=\"black\" d=\"M759.89,-103.73C755.66,-95.15 751.19,-86.09 746.94,-77.46\"/>\n",
       "<polygon fill=\"black\" stroke=\"black\" points=\"749.98,-75.72 742.42,-68.3 743.71,-78.82 749.98,-75.72\"/>\n",
       "</g>\n",
       "<!-- 20 -->\n",
       "<g id=\"node25\" class=\"node\">\n",
       "<title>20</title>\n",
       "<polygon fill=\"#f5cfb3\" stroke=\"black\" points=\"941.5,-68 810.5,-68 810.5,0 941.5,0 941.5,-68\"/>\n",
       "<text text-anchor=\"middle\" x=\"876\" y=\"-52.8\" font-family=\"Helvetica,sans-Serif\" font-size=\"14.00\">gini = 0.472</text>\n",
       "<text text-anchor=\"middle\" x=\"876\" y=\"-37.8\" font-family=\"Helvetica,sans-Serif\" font-size=\"14.00\">samples = 76</text>\n",
       "<text text-anchor=\"middle\" x=\"876\" y=\"-22.8\" font-family=\"Helvetica,sans-Serif\" font-size=\"14.00\">value = [47, 29]</text>\n",
       "<text text-anchor=\"middle\" x=\"876\" y=\"-7.8\" font-family=\"Helvetica,sans-Serif\" font-size=\"14.00\">class = dead</text>\n",
       "</g>\n",
       "<!-- 17&#45;&gt;20 -->\n",
       "<g id=\"edge24\" class=\"edge\">\n",
       "<title>17&#45;&gt;20</title>\n",
       "<path fill=\"none\" stroke=\"black\" d=\"M815.75,-103.73C823.66,-94.7 832.06,-85.12 839.98,-76.08\"/>\n",
       "<polygon fill=\"black\" stroke=\"black\" points=\"842.85,-78.13 846.81,-68.3 837.58,-73.51 842.85,-78.13\"/>\n",
       "</g>\n",
       "<!-- 27 -->\n",
       "<g id=\"node28\" class=\"node\">\n",
       "<title>27</title>\n",
       "<polygon fill=\"#e89051\" stroke=\"black\" points=\"1096,-298.5 956,-298.5 956,-230.5 1096,-230.5 1096,-298.5\"/>\n",
       "<text text-anchor=\"middle\" x=\"1026\" y=\"-283.3\" font-family=\"Helvetica,sans-Serif\" font-size=\"14.00\">gini = 0.193</text>\n",
       "<text text-anchor=\"middle\" x=\"1026\" y=\"-268.3\" font-family=\"Helvetica,sans-Serif\" font-size=\"14.00\">samples = 417</text>\n",
       "<text text-anchor=\"middle\" x=\"1026\" y=\"-253.3\" font-family=\"Helvetica,sans-Serif\" font-size=\"14.00\">value = [372, 45]</text>\n",
       "<text text-anchor=\"middle\" x=\"1026\" y=\"-238.3\" font-family=\"Helvetica,sans-Serif\" font-size=\"14.00\">class = dead</text>\n",
       "</g>\n",
       "<!-- 8&#45;&gt;27 -->\n",
       "<g id=\"edge27\" class=\"edge\">\n",
       "<title>8&#45;&gt;27</title>\n",
       "<path fill=\"none\" stroke=\"black\" d=\"M1026,-341.91C1026,-331.2 1026,-319.62 1026,-308.78\"/>\n",
       "<polygon fill=\"black\" stroke=\"black\" points=\"1029.5,-308.67 1026,-298.67 1022.5,-308.67 1029.5,-308.67\"/>\n",
       "</g>\n",
       "<!-- 28 -->\n",
       "<g id=\"node29\" class=\"node\">\n",
       "<title>28</title>\n",
       "<polygon fill=\"#f1ba93\" stroke=\"black\" points=\"1242,-306 1114,-306 1114,-223 1242,-223 1242,-306\"/>\n",
       "<text text-anchor=\"middle\" x=\"1178\" y=\"-290.8\" font-family=\"Helvetica,sans-Serif\" font-size=\"14.00\">Fare &lt;= 63.023</text>\n",
       "<text text-anchor=\"middle\" x=\"1178\" y=\"-275.8\" font-family=\"Helvetica,sans-Serif\" font-size=\"14.00\">gini = 0.43</text>\n",
       "<text text-anchor=\"middle\" x=\"1178\" y=\"-260.8\" font-family=\"Helvetica,sans-Serif\" font-size=\"14.00\">samples = 16</text>\n",
       "<text text-anchor=\"middle\" x=\"1178\" y=\"-245.8\" font-family=\"Helvetica,sans-Serif\" font-size=\"14.00\">value = [11, 5]</text>\n",
       "<text text-anchor=\"middle\" x=\"1178\" y=\"-230.8\" font-family=\"Helvetica,sans-Serif\" font-size=\"14.00\">class = dead</text>\n",
       "</g>\n",
       "<!-- 8&#45;&gt;28 -->\n",
       "<g id=\"edge28\" class=\"edge\">\n",
       "<title>8&#45;&gt;28</title>\n",
       "<path fill=\"none\" stroke=\"black\" d=\"M1078.74,-341.91C1091.12,-332.38 1104.41,-322.15 1117.11,-312.37\"/>\n",
       "<polygon fill=\"black\" stroke=\"black\" points=\"1119.57,-314.89 1125.36,-306.02 1115.3,-309.35 1119.57,-314.89\"/>\n",
       "</g>\n",
       "<!-- 29 -->\n",
       "<g id=\"node30\" class=\"node\">\n",
       "<title>29</title>\n",
       "<polygon fill=\"#88c4ef\" stroke=\"black\" points=\"1146,-179.5 1014,-179.5 1014,-111.5 1146,-111.5 1146,-179.5\"/>\n",
       "<text text-anchor=\"middle\" x=\"1080\" y=\"-164.3\" font-family=\"Helvetica,sans-Serif\" font-size=\"14.00\">gini = 0.408</text>\n",
       "<text text-anchor=\"middle\" x=\"1080\" y=\"-149.3\" font-family=\"Helvetica,sans-Serif\" font-size=\"14.00\">samples = 7</text>\n",
       "<text text-anchor=\"middle\" x=\"1080\" y=\"-134.3\" font-family=\"Helvetica,sans-Serif\" font-size=\"14.00\">value = [2, 5]</text>\n",
       "<text text-anchor=\"middle\" x=\"1080\" y=\"-119.3\" font-family=\"Helvetica,sans-Serif\" font-size=\"14.00\">class = survived</text>\n",
       "</g>\n",
       "<!-- 28&#45;&gt;29 -->\n",
       "<g id=\"edge29\" class=\"edge\">\n",
       "<title>28&#45;&gt;29</title>\n",
       "<path fill=\"none\" stroke=\"black\" d=\"M1144,-222.91C1134.39,-211.43 1123.92,-198.94 1114.29,-187.44\"/>\n",
       "<polygon fill=\"black\" stroke=\"black\" points=\"1116.89,-185.09 1107.78,-179.67 1111.52,-189.58 1116.89,-185.09\"/>\n",
       "</g>\n",
       "<!-- 30 -->\n",
       "<g id=\"node31\" class=\"node\">\n",
       "<title>30</title>\n",
       "<polygon fill=\"#e58139\" stroke=\"black\" points=\"1277.5,-179.5 1164.5,-179.5 1164.5,-111.5 1277.5,-111.5 1277.5,-179.5\"/>\n",
       "<text text-anchor=\"middle\" x=\"1221\" y=\"-164.3\" font-family=\"Helvetica,sans-Serif\" font-size=\"14.00\">gini = 0.0</text>\n",
       "<text text-anchor=\"middle\" x=\"1221\" y=\"-149.3\" font-family=\"Helvetica,sans-Serif\" font-size=\"14.00\">samples = 9</text>\n",
       "<text text-anchor=\"middle\" x=\"1221\" y=\"-134.3\" font-family=\"Helvetica,sans-Serif\" font-size=\"14.00\">value = [9, 0]</text>\n",
       "<text text-anchor=\"middle\" x=\"1221\" y=\"-119.3\" font-family=\"Helvetica,sans-Serif\" font-size=\"14.00\">class = dead</text>\n",
       "</g>\n",
       "<!-- 28&#45;&gt;30 -->\n",
       "<g id=\"edge30\" class=\"edge\">\n",
       "<title>28&#45;&gt;30</title>\n",
       "<path fill=\"none\" stroke=\"black\" d=\"M1192.92,-222.91C1196.93,-211.98 1201.29,-200.14 1205.34,-189.11\"/>\n",
       "<polygon fill=\"black\" stroke=\"black\" points=\"1208.65,-190.26 1208.81,-179.67 1202.08,-187.85 1208.65,-190.26\"/>\n",
       "</g>\n",
       "</g>\n",
       "</svg>\n"
      ],
      "text/plain": [
       "<graphviz.files.Source at 0x7f1828bcf790>"
      ]
     },
     "execution_count": 10,
     "metadata": {},
     "output_type": "execute_result"
    }
   ],
   "source": [
    "dot_data = tree.export_graphviz(clf.best_estimator_, out_file=None, \n",
    "                                feature_names=feature_names,  \n",
    "                                class_names=[\"dead\", \"survived\"],\n",
    "                                filled=True)\n",
    "    \n",
    "tree_plot = graphviz.Source(dot_data, format=\"svg\")\n",
    "tree_plot"
   ]
  },
  {
   "cell_type": "code",
   "execution_count": 11,
   "id": "32386653",
   "metadata": {
    "execution": {
     "iopub.execute_input": "2022-04-19T13:01:21.348423Z",
     "iopub.status.busy": "2022-04-19T13:01:21.347797Z",
     "iopub.status.idle": "2022-04-19T13:01:21.356076Z",
     "shell.execute_reply": "2022-04-19T13:01:21.355281Z"
    },
    "papermill": {
     "duration": 0.033483,
     "end_time": "2022-04-19T13:01:21.358413",
     "exception": false,
     "start_time": "2022-04-19T13:01:21.324930",
     "status": "completed"
    },
    "tags": []
   },
   "outputs": [],
   "source": [
    "predictions = clf.predict(X_test)"
   ]
  },
  {
   "cell_type": "code",
   "execution_count": 12,
   "id": "c111d9e5",
   "metadata": {
    "execution": {
     "iopub.execute_input": "2022-04-19T13:01:21.405860Z",
     "iopub.status.busy": "2022-04-19T13:01:21.405269Z",
     "iopub.status.idle": "2022-04-19T13:01:21.421316Z",
     "shell.execute_reply": "2022-04-19T13:01:21.420434Z"
    },
    "papermill": {
     "duration": 0.04238,
     "end_time": "2022-04-19T13:01:21.423995",
     "exception": false,
     "start_time": "2022-04-19T13:01:21.381615",
     "status": "completed"
    },
    "tags": []
   },
   "outputs": [
    {
     "data": {
      "text/html": [
       "<div>\n",
       "<style scoped>\n",
       "    .dataframe tbody tr th:only-of-type {\n",
       "        vertical-align: middle;\n",
       "    }\n",
       "\n",
       "    .dataframe tbody tr th {\n",
       "        vertical-align: top;\n",
       "    }\n",
       "\n",
       "    .dataframe thead th {\n",
       "        text-align: right;\n",
       "    }\n",
       "</style>\n",
       "<table border=\"1\" class=\"dataframe\">\n",
       "  <thead>\n",
       "    <tr style=\"text-align: right;\">\n",
       "      <th></th>\n",
       "      <th>PassengerId</th>\n",
       "      <th>Survived</th>\n",
       "    </tr>\n",
       "  </thead>\n",
       "  <tbody>\n",
       "    <tr>\n",
       "      <th>0</th>\n",
       "      <td>892</td>\n",
       "      <td>0</td>\n",
       "    </tr>\n",
       "    <tr>\n",
       "      <th>1</th>\n",
       "      <td>893</td>\n",
       "      <td>0</td>\n",
       "    </tr>\n",
       "    <tr>\n",
       "      <th>2</th>\n",
       "      <td>894</td>\n",
       "      <td>0</td>\n",
       "    </tr>\n",
       "    <tr>\n",
       "      <th>3</th>\n",
       "      <td>895</td>\n",
       "      <td>0</td>\n",
       "    </tr>\n",
       "    <tr>\n",
       "      <th>4</th>\n",
       "      <td>896</td>\n",
       "      <td>1</td>\n",
       "    </tr>\n",
       "  </tbody>\n",
       "</table>\n",
       "</div>"
      ],
      "text/plain": [
       "   PassengerId  Survived\n",
       "0          892         0\n",
       "1          893         0\n",
       "2          894         0\n",
       "3          895         0\n",
       "4          896         1"
      ]
     },
     "execution_count": 12,
     "metadata": {},
     "output_type": "execute_result"
    }
   ],
   "source": [
    "output = pd.DataFrame({'PassengerId': test_data.PassengerId, 'Survived': predictions})\n",
    "output.head()"
   ]
  },
  {
   "cell_type": "code",
   "execution_count": 13,
   "id": "7e4b9217",
   "metadata": {
    "execution": {
     "iopub.execute_input": "2022-04-19T13:01:21.468960Z",
     "iopub.status.busy": "2022-04-19T13:01:21.468359Z",
     "iopub.status.idle": "2022-04-19T13:01:21.481196Z",
     "shell.execute_reply": "2022-04-19T13:01:21.480023Z"
    },
    "papermill": {
     "duration": 0.03872,
     "end_time": "2022-04-19T13:01:21.484272",
     "exception": false,
     "start_time": "2022-04-19T13:01:21.445552",
     "status": "completed"
    },
    "tags": []
   },
   "outputs": [
    {
     "name": "stdout",
     "output_type": "stream",
     "text": [
      "<class 'pandas.core.frame.DataFrame'>\n",
      "RangeIndex: 418 entries, 0 to 417\n",
      "Data columns (total 2 columns):\n",
      " #   Column       Non-Null Count  Dtype\n",
      "---  ------       --------------  -----\n",
      " 0   PassengerId  418 non-null    int64\n",
      " 1   Survived     418 non-null    int64\n",
      "dtypes: int64(2)\n",
      "memory usage: 6.7 KB\n"
     ]
    }
   ],
   "source": [
    "output.info()"
   ]
  },
  {
   "cell_type": "code",
   "execution_count": 14,
   "id": "156696ac",
   "metadata": {
    "execution": {
     "iopub.execute_input": "2022-04-19T13:01:21.532080Z",
     "iopub.status.busy": "2022-04-19T13:01:21.531780Z",
     "iopub.status.idle": "2022-04-19T13:01:21.539678Z",
     "shell.execute_reply": "2022-04-19T13:01:21.538915Z"
    },
    "papermill": {
     "duration": 0.034251,
     "end_time": "2022-04-19T13:01:21.541847",
     "exception": false,
     "start_time": "2022-04-19T13:01:21.507596",
     "status": "completed"
    },
    "tags": []
   },
   "outputs": [],
   "source": [
    "output.to_csv('submission_01_sc_dt.csv', index=False)"
   ]
  }
 ],
 "metadata": {
  "kernelspec": {
   "display_name": "Python 3",
   "language": "python",
   "name": "python3"
  },
  "language_info": {
   "codemirror_mode": {
    "name": "ipython",
    "version": 3
   },
   "file_extension": ".py",
   "mimetype": "text/x-python",
   "name": "python",
   "nbconvert_exporter": "python",
   "pygments_lexer": "ipython3",
   "version": "3.7.12"
  },
  "papermill": {
   "default_parameters": {},
   "duration": 26.565401,
   "end_time": "2022-04-19T13:01:24.185594",
   "environment_variables": {},
   "exception": null,
   "input_path": "__notebook__.ipynb",
   "output_path": "__notebook__.ipynb",
   "parameters": {},
   "start_time": "2022-04-19T13:00:57.620193",
   "version": "2.3.4"
  }
 },
 "nbformat": 4,
 "nbformat_minor": 5
}
