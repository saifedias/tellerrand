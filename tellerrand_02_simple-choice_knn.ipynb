{
 "cells": [
  {
   "cell_type": "markdown",
   "id": "88e3da28",
   "metadata": {
    "_cell_guid": "b1076dfc-b9ad-4769-8c92-a6c4dae69d19",
    "_uuid": "8f2839f25d086af736a60e9eeb907d3b93b6e0e5",
    "papermill": {
     "duration": 0.016413,
     "end_time": "2022-04-20T07:20:41.581861",
     "exception": false,
     "start_time": "2022-04-20T07:20:41.565448",
     "status": "completed"
    },
    "tags": []
   },
   "source": [
    "## import modules etc"
   ]
  },
  {
   "cell_type": "code",
   "execution_count": 1,
   "id": "9d91bee2",
   "metadata": {
    "execution": {
     "iopub.execute_input": "2022-04-20T07:20:41.613476Z",
     "iopub.status.busy": "2022-04-20T07:20:41.612996Z",
     "iopub.status.idle": "2022-04-20T07:20:42.868486Z",
     "shell.execute_reply": "2022-04-20T07:20:42.867483Z"
    },
    "papermill": {
     "duration": 1.274021,
     "end_time": "2022-04-20T07:20:42.870957",
     "exception": false,
     "start_time": "2022-04-20T07:20:41.596936",
     "status": "completed"
    },
    "tags": []
   },
   "outputs": [],
   "source": [
    "import multiprocessing\n",
    "import pandas as pd\n",
    "from sklearn.model_selection import GridSearchCV, RepeatedKFold\n",
    "from sklearn import neighbors"
   ]
  },
  {
   "cell_type": "markdown",
   "id": "f884ca73",
   "metadata": {
    "papermill": {
     "duration": 0.014317,
     "end_time": "2022-04-20T07:20:42.899983",
     "exception": false,
     "start_time": "2022-04-20T07:20:42.885666",
     "status": "completed"
    },
    "tags": []
   },
   "source": [
    "---\n",
    "## functions"
   ]
  },
  {
   "cell_type": "code",
   "execution_count": 2,
   "id": "0198828f",
   "metadata": {
    "execution": {
     "iopub.execute_input": "2022-04-20T07:20:42.931798Z",
     "iopub.status.busy": "2022-04-20T07:20:42.931511Z",
     "iopub.status.idle": "2022-04-20T07:20:42.939310Z",
     "shell.execute_reply": "2022-04-20T07:20:42.938454Z"
    },
    "papermill": {
     "duration": 0.026549,
     "end_time": "2022-04-20T07:20:42.941212",
     "exception": false,
     "start_time": "2022-04-20T07:20:42.914663",
     "status": "completed"
    },
    "tags": []
   },
   "outputs": [],
   "source": [
    "def select_model_hyperparams(X, y):\n",
    "    n_cpus = int(round(multiprocessing.cpu_count() * 0.875))\n",
    "    \n",
    "    print(\"using {} CPUs\".format(n_cpus))\n",
    "    \n",
    "    neighbors_params = {\"n_neighbors\": [1, 2, 4, 6, 8, 10, 12, 14, 16],\n",
    "                        \"weights\": [\"uniform\", \"distance\"],\n",
    "                        \"p\": [1, 2]\n",
    "                       }\n",
    "\n",
    "    clf = GridSearchCV(neighbors.KNeighborsClassifier(),\n",
    "                      param_grid = neighbors_params,\n",
    "                      scoring    = \"accuracy\",\n",
    "                      cv         = RepeatedKFold(n_splits=5, n_repeats=20, random_state=2),\n",
    "                      n_jobs     = n_cpus,\n",
    "                      verbose    = 1)\n",
    "\n",
    "    return clf.fit(X, y)"
   ]
  },
  {
   "cell_type": "markdown",
   "id": "34839f7e",
   "metadata": {
    "papermill": {
     "duration": 0.014629,
     "end_time": "2022-04-20T07:20:42.970706",
     "exception": false,
     "start_time": "2022-04-20T07:20:42.956077",
     "status": "completed"
    },
    "tags": []
   },
   "source": [
    "## prepare input (X) data for train & test\n"
   ]
  },
  {
   "cell_type": "code",
   "execution_count": 3,
   "id": "f6821391",
   "metadata": {
    "execution": {
     "iopub.execute_input": "2022-04-20T07:20:43.003764Z",
     "iopub.status.busy": "2022-04-20T07:20:43.003277Z",
     "iopub.status.idle": "2022-04-20T07:20:43.008941Z",
     "shell.execute_reply": "2022-04-20T07:20:43.008238Z"
    },
    "papermill": {
     "duration": 0.024103,
     "end_time": "2022-04-20T07:20:43.011084",
     "exception": false,
     "start_time": "2022-04-20T07:20:42.986981",
     "status": "completed"
    },
    "tags": []
   },
   "outputs": [],
   "source": [
    "def prepare_Xdata(data):\n",
    "    feature_names = [\"Pclass\", \"Sex\", \"Age\", \"SibSp\", \"Parch\", \"Fare\", \"Embarked\"]\n",
    "    X = data[feature_names]\n",
    "    \n",
    "    X = pd.get_dummies(X)\n",
    "    new_feature_names = X.columns\n",
    "    \n",
    "    X.fillna(value=X.Age.median(), axis=1, inplace=True)\n",
    "    \n",
    "    return (X, new_feature_names)"
   ]
  },
  {
   "cell_type": "markdown",
   "id": "5674a706",
   "metadata": {
    "execution": {
     "iopub.execute_input": "2022-04-20T07:10:12.314170Z",
     "iopub.status.busy": "2022-04-20T07:10:12.313319Z",
     "iopub.status.idle": "2022-04-20T07:10:12.325445Z",
     "shell.execute_reply": "2022-04-20T07:10:12.324187Z",
     "shell.execute_reply.started": "2022-04-20T07:10:12.314126Z"
    },
    "papermill": {
     "duration": 0.01444,
     "end_time": "2022-04-20T07:20:43.040254",
     "exception": false,
     "start_time": "2022-04-20T07:20:43.025814",
     "status": "completed"
    },
    "tags": []
   },
   "source": [
    "---\n",
    "## main"
   ]
  },
  {
   "cell_type": "code",
   "execution_count": 4,
   "id": "0052d56b",
   "metadata": {
    "execution": {
     "iopub.execute_input": "2022-04-20T07:20:43.071306Z",
     "iopub.status.busy": "2022-04-20T07:20:43.070927Z",
     "iopub.status.idle": "2022-04-20T07:20:43.114956Z",
     "shell.execute_reply": "2022-04-20T07:20:43.114226Z"
    },
    "papermill": {
     "duration": 0.061952,
     "end_time": "2022-04-20T07:20:43.116969",
     "exception": false,
     "start_time": "2022-04-20T07:20:43.055017",
     "status": "completed"
    },
    "tags": []
   },
   "outputs": [
    {
     "name": "stdout",
     "output_type": "stream",
     "text": [
      "(891, 12)\n",
      "(418, 11)\n"
     ]
    }
   ],
   "source": [
    "train_data = pd.read_csv(\"/kaggle/input/titanic/train.csv\")\n",
    "test_data = pd.read_csv(\"/kaggle/input/titanic/test.csv\")\n",
    "print(train_data.shape)\n",
    "print(test_data.shape)"
   ]
  },
  {
   "cell_type": "code",
   "execution_count": 5,
   "id": "05808974",
   "metadata": {
    "execution": {
     "iopub.execute_input": "2022-04-20T07:20:43.149884Z",
     "iopub.status.busy": "2022-04-20T07:20:43.149324Z",
     "iopub.status.idle": "2022-04-20T07:20:43.181552Z",
     "shell.execute_reply": "2022-04-20T07:20:43.180748Z"
    },
    "papermill": {
     "duration": 0.050916,
     "end_time": "2022-04-20T07:20:43.183859",
     "exception": false,
     "start_time": "2022-04-20T07:20:43.132943",
     "status": "completed"
    },
    "tags": []
   },
   "outputs": [],
   "source": [
    "X_train, feature_names = prepare_Xdata(train_data)\n",
    "X_test, _ = prepare_Xdata(test_data)"
   ]
  },
  {
   "cell_type": "code",
   "execution_count": 6,
   "id": "dc5d27e3",
   "metadata": {
    "execution": {
     "iopub.execute_input": "2022-04-20T07:20:43.216728Z",
     "iopub.status.busy": "2022-04-20T07:20:43.216459Z",
     "iopub.status.idle": "2022-04-20T07:21:00.273392Z",
     "shell.execute_reply": "2022-04-20T07:21:00.272118Z"
    },
    "papermill": {
     "duration": 17.07692,
     "end_time": "2022-04-20T07:21:00.275880",
     "exception": false,
     "start_time": "2022-04-20T07:20:43.198960",
     "status": "completed"
    },
    "tags": []
   },
   "outputs": [
    {
     "name": "stdout",
     "output_type": "stream",
     "text": [
      "using 4 CPUs\n",
      "Fitting 100 folds for each of 36 candidates, totalling 3600 fits\n"
     ]
    }
   ],
   "source": [
    "clf = select_model_hyperparams(X_train, train_data.Survived);"
   ]
  },
  {
   "cell_type": "code",
   "execution_count": 7,
   "id": "b7f3a3e5",
   "metadata": {
    "execution": {
     "iopub.execute_input": "2022-04-20T07:21:00.309165Z",
     "iopub.status.busy": "2022-04-20T07:21:00.308885Z",
     "iopub.status.idle": "2022-04-20T07:21:00.314317Z",
     "shell.execute_reply": "2022-04-20T07:21:00.313471Z"
    },
    "papermill": {
     "duration": 0.025851,
     "end_time": "2022-04-20T07:21:00.317510",
     "exception": false,
     "start_time": "2022-04-20T07:21:00.291659",
     "status": "completed"
    },
    "tags": []
   },
   "outputs": [
    {
     "name": "stdout",
     "output_type": "stream",
     "text": [
      "Best average validation score: 0.763\n",
      "  Param: n_neighbors = 8\n",
      "  Param: p = 1\n",
      "  Param: weights = distance\n"
     ]
    }
   ],
   "source": [
    "print(\"Best average validation score: {}\".format(clf.best_score_.round(3)))\n",
    "for pname, pvalue in clf.best_params_.items():\n",
    "    print(\"  Param: {} = {}\".format(pname, pvalue))"
   ]
  },
  {
   "cell_type": "code",
   "execution_count": 8,
   "id": "a20fafe5",
   "metadata": {
    "execution": {
     "iopub.execute_input": "2022-04-20T07:21:00.350814Z",
     "iopub.status.busy": "2022-04-20T07:21:00.350494Z",
     "iopub.status.idle": "2022-04-20T07:21:00.360716Z",
     "shell.execute_reply": "2022-04-20T07:21:00.359954Z"
    },
    "papermill": {
     "duration": 0.029386,
     "end_time": "2022-04-20T07:21:00.362819",
     "exception": false,
     "start_time": "2022-04-20T07:21:00.333433",
     "status": "completed"
    },
    "tags": []
   },
   "outputs": [],
   "source": [
    "predictions = clf.predict(X_test)"
   ]
  },
  {
   "cell_type": "code",
   "execution_count": 9,
   "id": "e1df00cb",
   "metadata": {
    "execution": {
     "iopub.execute_input": "2022-04-20T07:21:00.396215Z",
     "iopub.status.busy": "2022-04-20T07:21:00.395794Z",
     "iopub.status.idle": "2022-04-20T07:21:00.412831Z",
     "shell.execute_reply": "2022-04-20T07:21:00.411916Z"
    },
    "papermill": {
     "duration": 0.036014,
     "end_time": "2022-04-20T07:21:00.414681",
     "exception": false,
     "start_time": "2022-04-20T07:21:00.378667",
     "status": "completed"
    },
    "tags": []
   },
   "outputs": [
    {
     "data": {
      "text/html": [
       "<div>\n",
       "<style scoped>\n",
       "    .dataframe tbody tr th:only-of-type {\n",
       "        vertical-align: middle;\n",
       "    }\n",
       "\n",
       "    .dataframe tbody tr th {\n",
       "        vertical-align: top;\n",
       "    }\n",
       "\n",
       "    .dataframe thead th {\n",
       "        text-align: right;\n",
       "    }\n",
       "</style>\n",
       "<table border=\"1\" class=\"dataframe\">\n",
       "  <thead>\n",
       "    <tr style=\"text-align: right;\">\n",
       "      <th></th>\n",
       "      <th>PassengerId</th>\n",
       "      <th>Survived</th>\n",
       "    </tr>\n",
       "  </thead>\n",
       "  <tbody>\n",
       "    <tr>\n",
       "      <th>0</th>\n",
       "      <td>892</td>\n",
       "      <td>0</td>\n",
       "    </tr>\n",
       "    <tr>\n",
       "      <th>1</th>\n",
       "      <td>893</td>\n",
       "      <td>0</td>\n",
       "    </tr>\n",
       "    <tr>\n",
       "      <th>2</th>\n",
       "      <td>894</td>\n",
       "      <td>0</td>\n",
       "    </tr>\n",
       "    <tr>\n",
       "      <th>3</th>\n",
       "      <td>895</td>\n",
       "      <td>1</td>\n",
       "    </tr>\n",
       "    <tr>\n",
       "      <th>4</th>\n",
       "      <td>896</td>\n",
       "      <td>0</td>\n",
       "    </tr>\n",
       "  </tbody>\n",
       "</table>\n",
       "</div>"
      ],
      "text/plain": [
       "   PassengerId  Survived\n",
       "0          892         0\n",
       "1          893         0\n",
       "2          894         0\n",
       "3          895         1\n",
       "4          896         0"
      ]
     },
     "execution_count": 9,
     "metadata": {},
     "output_type": "execute_result"
    }
   ],
   "source": [
    "output = pd.DataFrame({'PassengerId': test_data.PassengerId, 'Survived': predictions})\n",
    "output.head()"
   ]
  },
  {
   "cell_type": "code",
   "execution_count": 10,
   "id": "41ea5a0a",
   "metadata": {
    "execution": {
     "iopub.execute_input": "2022-04-20T07:21:00.448610Z",
     "iopub.status.busy": "2022-04-20T07:21:00.448297Z",
     "iopub.status.idle": "2022-04-20T07:21:00.463985Z",
     "shell.execute_reply": "2022-04-20T07:21:00.463251Z"
    },
    "papermill": {
     "duration": 0.0357,
     "end_time": "2022-04-20T07:21:00.466527",
     "exception": false,
     "start_time": "2022-04-20T07:21:00.430827",
     "status": "completed"
    },
    "tags": []
   },
   "outputs": [
    {
     "name": "stdout",
     "output_type": "stream",
     "text": [
      "<class 'pandas.core.frame.DataFrame'>\n",
      "RangeIndex: 418 entries, 0 to 417\n",
      "Data columns (total 2 columns):\n",
      " #   Column       Non-Null Count  Dtype\n",
      "---  ------       --------------  -----\n",
      " 0   PassengerId  418 non-null    int64\n",
      " 1   Survived     418 non-null    int64\n",
      "dtypes: int64(2)\n",
      "memory usage: 6.7 KB\n"
     ]
    }
   ],
   "source": [
    "output.info()"
   ]
  },
  {
   "cell_type": "code",
   "execution_count": 11,
   "id": "b07c0a77",
   "metadata": {
    "execution": {
     "iopub.execute_input": "2022-04-20T07:21:00.501701Z",
     "iopub.status.busy": "2022-04-20T07:21:00.501182Z",
     "iopub.status.idle": "2022-04-20T07:21:00.508533Z",
     "shell.execute_reply": "2022-04-20T07:21:00.507861Z"
    },
    "papermill": {
     "duration": 0.027475,
     "end_time": "2022-04-20T07:21:00.510606",
     "exception": false,
     "start_time": "2022-04-20T07:21:00.483131",
     "status": "completed"
    },
    "tags": []
   },
   "outputs": [],
   "source": [
    "output.to_csv('submission_02_sc_knn.csv', index=False)"
   ]
  }
 ],
 "metadata": {
  "kernelspec": {
   "display_name": "Python 3",
   "language": "python",
   "name": "python3"
  },
  "language_info": {
   "codemirror_mode": {
    "name": "ipython",
    "version": 3
   },
   "file_extension": ".py",
   "mimetype": "text/x-python",
   "name": "python",
   "nbconvert_exporter": "python",
   "pygments_lexer": "ipython3",
   "version": "3.7.12"
  },
  "papermill": {
   "default_parameters": {},
   "duration": 31.808739,
   "end_time": "2022-04-20T07:21:03.150364",
   "environment_variables": {},
   "exception": null,
   "input_path": "__notebook__.ipynb",
   "output_path": "__notebook__.ipynb",
   "parameters": {},
   "start_time": "2022-04-20T07:20:31.341625",
   "version": "2.3.4"
  }
 },
 "nbformat": 4,
 "nbformat_minor": 5
}
