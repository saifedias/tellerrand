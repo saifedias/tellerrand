{
 "cells": [
  {
   "cell_type": "markdown",
   "id": "64fbd800",
   "metadata": {
    "_cell_guid": "b1076dfc-b9ad-4769-8c92-a6c4dae69d19",
    "_uuid": "8f2839f25d086af736a60e9eeb907d3b93b6e0e5",
    "papermill": {
     "duration": 0.012241,
     "end_time": "2022-04-20T13:59:08.969538",
     "exception": false,
     "start_time": "2022-04-20T13:59:08.957297",
     "status": "completed"
    },
    "tags": []
   },
   "source": [
    "## import modules etc"
   ]
  },
  {
   "cell_type": "code",
   "execution_count": 1,
   "id": "b16685bc",
   "metadata": {
    "execution": {
     "iopub.execute_input": "2022-04-20T13:59:08.995195Z",
     "iopub.status.busy": "2022-04-20T13:59:08.994370Z",
     "iopub.status.idle": "2022-04-20T13:59:10.316365Z",
     "shell.execute_reply": "2022-04-20T13:59:10.315500Z"
    },
    "papermill": {
     "duration": 1.338327,
     "end_time": "2022-04-20T13:59:10.319212",
     "exception": false,
     "start_time": "2022-04-20T13:59:08.980885",
     "status": "completed"
    },
    "tags": []
   },
   "outputs": [],
   "source": [
    "import multiprocessing\n",
    "import pandas as pd\n",
    "from sklearn.model_selection import GridSearchCV, RepeatedKFold\n",
    "from sklearn import neighbors"
   ]
  },
  {
   "cell_type": "markdown",
   "id": "47a4ff88",
   "metadata": {
    "papermill": {
     "duration": 0.010806,
     "end_time": "2022-04-20T13:59:10.340963",
     "exception": false,
     "start_time": "2022-04-20T13:59:10.330157",
     "status": "completed"
    },
    "tags": []
   },
   "source": [
    "---\n",
    "## functions"
   ]
  },
  {
   "cell_type": "code",
   "execution_count": 2,
   "id": "53fc0844",
   "metadata": {
    "execution": {
     "iopub.execute_input": "2022-04-20T13:59:10.364742Z",
     "iopub.status.busy": "2022-04-20T13:59:10.364462Z",
     "iopub.status.idle": "2022-04-20T13:59:10.371111Z",
     "shell.execute_reply": "2022-04-20T13:59:10.370544Z"
    },
    "papermill": {
     "duration": 0.021001,
     "end_time": "2022-04-20T13:59:10.373079",
     "exception": false,
     "start_time": "2022-04-20T13:59:10.352078",
     "status": "completed"
    },
    "tags": []
   },
   "outputs": [],
   "source": [
    "def select_model_hyperparams(X, y):\n",
    "    n_cpus = int(round(multiprocessing.cpu_count() * 0.875))\n",
    "    \n",
    "    print(\"using {} CPUs\".format(n_cpus))\n",
    "    \n",
    "    neighbors_params = {\"n_neighbors\": [1, 2, 4, 6, 8, 10, 12, 14, 16],\n",
    "                        \"weights\": [\"uniform\", \"distance\"],\n",
    "                        \"p\": [1, 2]\n",
    "                       }\n",
    "\n",
    "    clf = GridSearchCV(neighbors.KNeighborsClassifier(),\n",
    "                      param_grid = neighbors_params,\n",
    "                      scoring    = \"accuracy\",\n",
    "                      cv         = RepeatedKFold(n_splits=5, n_repeats=20, random_state=2),\n",
    "                      n_jobs     = n_cpus,\n",
    "                      verbose    = 1)\n",
    "\n",
    "    return clf.fit(X, y)"
   ]
  },
  {
   "cell_type": "markdown",
   "id": "3604281a",
   "metadata": {
    "papermill": {
     "duration": 0.010887,
     "end_time": "2022-04-20T13:59:10.394867",
     "exception": false,
     "start_time": "2022-04-20T13:59:10.383980",
     "status": "completed"
    },
    "tags": []
   },
   "source": [
    "## prepare input (X) data for train & test\n"
   ]
  },
  {
   "cell_type": "code",
   "execution_count": 3,
   "id": "435c0533",
   "metadata": {
    "execution": {
     "iopub.execute_input": "2022-04-20T13:59:10.418477Z",
     "iopub.status.busy": "2022-04-20T13:59:10.418184Z",
     "iopub.status.idle": "2022-04-20T13:59:10.423262Z",
     "shell.execute_reply": "2022-04-20T13:59:10.422243Z"
    },
    "papermill": {
     "duration": 0.019497,
     "end_time": "2022-04-20T13:59:10.425354",
     "exception": false,
     "start_time": "2022-04-20T13:59:10.405857",
     "status": "completed"
    },
    "tags": []
   },
   "outputs": [],
   "source": [
    "def prepare_Xdata(data):\n",
    "    feature_names = [\"Pclass\", \"Sex\", \"Age\", \"SibSp\", \"Parch\", \"Fare\", \"Embarked\"]\n",
    "    X = data[feature_names]\n",
    "    \n",
    "    X = pd.get_dummies(X)\n",
    "    new_feature_names = X.columns\n",
    "    \n",
    "    X.fillna(value=X.Age.median(), axis=1, inplace=True)\n",
    "    \n",
    "    return (X, new_feature_names)"
   ]
  },
  {
   "cell_type": "markdown",
   "id": "d848bd17",
   "metadata": {
    "execution": {
     "iopub.execute_input": "2022-04-20T07:10:12.31417Z",
     "iopub.status.busy": "2022-04-20T07:10:12.313319Z",
     "iopub.status.idle": "2022-04-20T07:10:12.325445Z",
     "shell.execute_reply": "2022-04-20T07:10:12.324187Z",
     "shell.execute_reply.started": "2022-04-20T07:10:12.314126Z"
    },
    "papermill": {
     "duration": 0.010731,
     "end_time": "2022-04-20T13:59:10.447050",
     "exception": false,
     "start_time": "2022-04-20T13:59:10.436319",
     "status": "completed"
    },
    "tags": []
   },
   "source": [
    "---\n",
    "## main"
   ]
  },
  {
   "cell_type": "code",
   "execution_count": 4,
   "id": "3118b292",
   "metadata": {
    "execution": {
     "iopub.execute_input": "2022-04-20T13:59:10.471882Z",
     "iopub.status.busy": "2022-04-20T13:59:10.471591Z",
     "iopub.status.idle": "2022-04-20T13:59:10.499007Z",
     "shell.execute_reply": "2022-04-20T13:59:10.497925Z"
    },
    "papermill": {
     "duration": 0.042748,
     "end_time": "2022-04-20T13:59:10.501918",
     "exception": false,
     "start_time": "2022-04-20T13:59:10.459170",
     "status": "completed"
    },
    "tags": []
   },
   "outputs": [
    {
     "name": "stdout",
     "output_type": "stream",
     "text": [
      "(891, 12)\n",
      "(418, 11)\n"
     ]
    }
   ],
   "source": [
    "train_data = pd.read_csv(\"/kaggle/input/titanic/train.csv\")\n",
    "test_data = pd.read_csv(\"/kaggle/input/titanic/test.csv\")\n",
    "print(train_data.shape)\n",
    "print(test_data.shape)"
   ]
  },
  {
   "cell_type": "code",
   "execution_count": 5,
   "id": "c031ae50",
   "metadata": {
    "execution": {
     "iopub.execute_input": "2022-04-20T13:59:10.528549Z",
     "iopub.status.busy": "2022-04-20T13:59:10.528294Z",
     "iopub.status.idle": "2022-04-20T13:59:10.563501Z",
     "shell.execute_reply": "2022-04-20T13:59:10.562653Z"
    },
    "papermill": {
     "duration": 0.050522,
     "end_time": "2022-04-20T13:59:10.565763",
     "exception": false,
     "start_time": "2022-04-20T13:59:10.515241",
     "status": "completed"
    },
    "tags": []
   },
   "outputs": [],
   "source": [
    "X_train, feature_names = prepare_Xdata(train_data)\n",
    "X_test, _ = prepare_Xdata(test_data)"
   ]
  },
  {
   "cell_type": "code",
   "execution_count": 6,
   "id": "d52f5414",
   "metadata": {
    "execution": {
     "iopub.execute_input": "2022-04-20T13:59:10.590658Z",
     "iopub.status.busy": "2022-04-20T13:59:10.590006Z",
     "iopub.status.idle": "2022-04-20T13:59:26.789679Z",
     "shell.execute_reply": "2022-04-20T13:59:26.788770Z"
    },
    "papermill": {
     "duration": 16.214434,
     "end_time": "2022-04-20T13:59:26.791885",
     "exception": false,
     "start_time": "2022-04-20T13:59:10.577451",
     "status": "completed"
    },
    "tags": []
   },
   "outputs": [
    {
     "name": "stdout",
     "output_type": "stream",
     "text": [
      "using 4 CPUs\n",
      "Fitting 100 folds for each of 36 candidates, totalling 3600 fits\n"
     ]
    }
   ],
   "source": [
    "clf = select_model_hyperparams(X_train, train_data.Survived);"
   ]
  },
  {
   "cell_type": "code",
   "execution_count": 7,
   "id": "8082460a",
   "metadata": {
    "execution": {
     "iopub.execute_input": "2022-04-20T13:59:26.817973Z",
     "iopub.status.busy": "2022-04-20T13:59:26.817595Z",
     "iopub.status.idle": "2022-04-20T13:59:26.824194Z",
     "shell.execute_reply": "2022-04-20T13:59:26.822792Z"
    },
    "papermill": {
     "duration": 0.022473,
     "end_time": "2022-04-20T13:59:26.826368",
     "exception": false,
     "start_time": "2022-04-20T13:59:26.803895",
     "status": "completed"
    },
    "tags": []
   },
   "outputs": [
    {
     "name": "stdout",
     "output_type": "stream",
     "text": [
      "Best average validation score: 0.7628\n",
      "  Param: n_neighbors = 8\n",
      "  Param: p = 1\n",
      "  Param: weights = distance\n"
     ]
    }
   ],
   "source": [
    "print(\"Best average validation score: {}\".format(clf.best_score_.round(4)))\n",
    "for pname, pvalue in clf.best_params_.items():\n",
    "    print(\"  Param: {} = {}\".format(pname, pvalue))"
   ]
  },
  {
   "cell_type": "code",
   "execution_count": 8,
   "id": "81ecb54a",
   "metadata": {
    "execution": {
     "iopub.execute_input": "2022-04-20T13:59:26.852358Z",
     "iopub.status.busy": "2022-04-20T13:59:26.852059Z",
     "iopub.status.idle": "2022-04-20T13:59:26.862181Z",
     "shell.execute_reply": "2022-04-20T13:59:26.861271Z"
    },
    "papermill": {
     "duration": 0.025714,
     "end_time": "2022-04-20T13:59:26.864283",
     "exception": false,
     "start_time": "2022-04-20T13:59:26.838569",
     "status": "completed"
    },
    "tags": []
   },
   "outputs": [],
   "source": [
    "predictions = clf.predict(X_test)"
   ]
  },
  {
   "cell_type": "code",
   "execution_count": 9,
   "id": "7048baa3",
   "metadata": {
    "execution": {
     "iopub.execute_input": "2022-04-20T13:59:26.890021Z",
     "iopub.status.busy": "2022-04-20T13:59:26.889702Z",
     "iopub.status.idle": "2022-04-20T13:59:26.905070Z",
     "shell.execute_reply": "2022-04-20T13:59:26.904428Z"
    },
    "papermill": {
     "duration": 0.031319,
     "end_time": "2022-04-20T13:59:26.907582",
     "exception": false,
     "start_time": "2022-04-20T13:59:26.876263",
     "status": "completed"
    },
    "tags": []
   },
   "outputs": [
    {
     "data": {
      "text/html": [
       "<div>\n",
       "<style scoped>\n",
       "    .dataframe tbody tr th:only-of-type {\n",
       "        vertical-align: middle;\n",
       "    }\n",
       "\n",
       "    .dataframe tbody tr th {\n",
       "        vertical-align: top;\n",
       "    }\n",
       "\n",
       "    .dataframe thead th {\n",
       "        text-align: right;\n",
       "    }\n",
       "</style>\n",
       "<table border=\"1\" class=\"dataframe\">\n",
       "  <thead>\n",
       "    <tr style=\"text-align: right;\">\n",
       "      <th></th>\n",
       "      <th>PassengerId</th>\n",
       "      <th>Survived</th>\n",
       "    </tr>\n",
       "  </thead>\n",
       "  <tbody>\n",
       "    <tr>\n",
       "      <th>0</th>\n",
       "      <td>892</td>\n",
       "      <td>0</td>\n",
       "    </tr>\n",
       "    <tr>\n",
       "      <th>1</th>\n",
       "      <td>893</td>\n",
       "      <td>0</td>\n",
       "    </tr>\n",
       "    <tr>\n",
       "      <th>2</th>\n",
       "      <td>894</td>\n",
       "      <td>0</td>\n",
       "    </tr>\n",
       "    <tr>\n",
       "      <th>3</th>\n",
       "      <td>895</td>\n",
       "      <td>1</td>\n",
       "    </tr>\n",
       "    <tr>\n",
       "      <th>4</th>\n",
       "      <td>896</td>\n",
       "      <td>0</td>\n",
       "    </tr>\n",
       "  </tbody>\n",
       "</table>\n",
       "</div>"
      ],
      "text/plain": [
       "   PassengerId  Survived\n",
       "0          892         0\n",
       "1          893         0\n",
       "2          894         0\n",
       "3          895         1\n",
       "4          896         0"
      ]
     },
     "execution_count": 9,
     "metadata": {},
     "output_type": "execute_result"
    }
   ],
   "source": [
    "output = pd.DataFrame({'PassengerId': test_data.PassengerId, 'Survived': predictions})\n",
    "output.head()"
   ]
  },
  {
   "cell_type": "code",
   "execution_count": 10,
   "id": "bec85c88",
   "metadata": {
    "execution": {
     "iopub.execute_input": "2022-04-20T13:59:26.934401Z",
     "iopub.status.busy": "2022-04-20T13:59:26.933659Z",
     "iopub.status.idle": "2022-04-20T13:59:26.951721Z",
     "shell.execute_reply": "2022-04-20T13:59:26.950780Z"
    },
    "papermill": {
     "duration": 0.03348,
     "end_time": "2022-04-20T13:59:26.953706",
     "exception": false,
     "start_time": "2022-04-20T13:59:26.920226",
     "status": "completed"
    },
    "tags": []
   },
   "outputs": [
    {
     "name": "stdout",
     "output_type": "stream",
     "text": [
      "<class 'pandas.core.frame.DataFrame'>\n",
      "RangeIndex: 418 entries, 0 to 417\n",
      "Data columns (total 2 columns):\n",
      " #   Column       Non-Null Count  Dtype\n",
      "---  ------       --------------  -----\n",
      " 0   PassengerId  418 non-null    int64\n",
      " 1   Survived     418 non-null    int64\n",
      "dtypes: int64(2)\n",
      "memory usage: 6.7 KB\n"
     ]
    }
   ],
   "source": [
    "output.info()"
   ]
  },
  {
   "cell_type": "code",
   "execution_count": 11,
   "id": "18b2c78b",
   "metadata": {
    "execution": {
     "iopub.execute_input": "2022-04-20T13:59:26.981319Z",
     "iopub.status.busy": "2022-04-20T13:59:26.980545Z",
     "iopub.status.idle": "2022-04-20T13:59:26.988443Z",
     "shell.execute_reply": "2022-04-20T13:59:26.987804Z"
    },
    "papermill": {
     "duration": 0.024295,
     "end_time": "2022-04-20T13:59:26.990528",
     "exception": false,
     "start_time": "2022-04-20T13:59:26.966233",
     "status": "completed"
    },
    "tags": []
   },
   "outputs": [],
   "source": [
    "output.to_csv('submission_02_sc_knn.csv', index=False)"
   ]
  }
 ],
 "metadata": {
  "kernelspec": {
   "display_name": "Python 3",
   "language": "python",
   "name": "python3"
  },
  "language_info": {
   "codemirror_mode": {
    "name": "ipython",
    "version": 3
   },
   "file_extension": ".py",
   "mimetype": "text/x-python",
   "name": "python",
   "nbconvert_exporter": "python",
   "pygments_lexer": "ipython3",
   "version": "3.7.12"
  },
  "papermill": {
   "default_parameters": {},
   "duration": 29.748804,
   "end_time": "2022-04-20T13:59:29.624577",
   "environment_variables": {},
   "exception": null,
   "input_path": "__notebook__.ipynb",
   "output_path": "__notebook__.ipynb",
   "parameters": {},
   "start_time": "2022-04-20T13:58:59.875773",
   "version": "2.3.4"
  }
 },
 "nbformat": 4,
 "nbformat_minor": 5
}
