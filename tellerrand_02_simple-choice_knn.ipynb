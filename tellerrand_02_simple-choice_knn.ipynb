{
 "cells": [
  {
   "cell_type": "markdown",
   "id": "9c0e9504",
   "metadata": {
    "_cell_guid": "b1076dfc-b9ad-4769-8c92-a6c4dae69d19",
    "_uuid": "8f2839f25d086af736a60e9eeb907d3b93b6e0e5",
    "papermill": {
     "duration": 0.004693,
     "end_time": "2022-04-19T13:15:34.517368",
     "exception": false,
     "start_time": "2022-04-19T13:15:34.512675",
     "status": "completed"
    },
    "tags": []
   },
   "source": [
    "## import modules etc"
   ]
  },
  {
   "cell_type": "code",
   "execution_count": 1,
   "id": "b8ad4996",
   "metadata": {
    "execution": {
     "iopub.execute_input": "2022-04-19T13:15:34.526928Z",
     "iopub.status.busy": "2022-04-19T13:15:34.526359Z",
     "iopub.status.idle": "2022-04-19T13:15:35.675105Z",
     "shell.execute_reply": "2022-04-19T13:15:35.674274Z"
    },
    "papermill": {
     "duration": 1.156121,
     "end_time": "2022-04-19T13:15:35.677563",
     "exception": false,
     "start_time": "2022-04-19T13:15:34.521442",
     "status": "completed"
    },
    "tags": []
   },
   "outputs": [],
   "source": [
    "import multiprocessing\n",
    "import pandas as pd\n",
    "from sklearn.model_selection import GridSearchCV, RepeatedKFold\n",
    "from sklearn import neighbors"
   ]
  },
  {
   "cell_type": "markdown",
   "id": "42d64e34",
   "metadata": {
    "papermill": {
     "duration": 0.003305,
     "end_time": "2022-04-19T13:15:35.684530",
     "exception": false,
     "start_time": "2022-04-19T13:15:35.681225",
     "status": "completed"
    },
    "tags": []
   },
   "source": [
    "---\n",
    "## functions"
   ]
  },
  {
   "cell_type": "code",
   "execution_count": 2,
   "id": "9978ce43",
   "metadata": {
    "execution": {
     "iopub.execute_input": "2022-04-19T13:15:35.692760Z",
     "iopub.status.busy": "2022-04-19T13:15:35.692482Z",
     "iopub.status.idle": "2022-04-19T13:15:35.698540Z",
     "shell.execute_reply": "2022-04-19T13:15:35.697731Z"
    },
    "papermill": {
     "duration": 0.012663,
     "end_time": "2022-04-19T13:15:35.700658",
     "exception": false,
     "start_time": "2022-04-19T13:15:35.687995",
     "status": "completed"
    },
    "tags": []
   },
   "outputs": [],
   "source": [
    "def select_model_hyperparams(X, y):\n",
    "    n_cpus = int(round(multiprocessing.cpu_count() * 0.875))\n",
    "    \n",
    "    print(\"using {} CPUs\".format(n_cpus))\n",
    "    \n",
    "    neighbors_params = {\"n_neighbors\": [1, 2, 4, 8, 16, 32],\n",
    "                        \"weights\": [\"uniform\", \"distance\"],\n",
    "                        \"p\": [1, 2]\n",
    "                       }\n",
    "\n",
    "    clf = GridSearchCV(neighbors.KNeighborsClassifier(random_state=1),\n",
    "                      param_grid=tree_params,\n",
    "                      scoring=\"accuracy\",\n",
    "                      cv = RepeatedKFold(n_splits=5, n_repeats=20, random_state=2),\n",
    "                      n_jobs=n_cpus,\n",
    "                      verbose=1)\n",
    "\n",
    "    return clf.fit(X, y)"
   ]
  }
 ],
 "metadata": {
  "kernelspec": {
   "display_name": "Python 3",
   "language": "python",
   "name": "python3"
  },
  "language_info": {
   "codemirror_mode": {
    "name": "ipython",
    "version": 3
   },
   "file_extension": ".py",
   "mimetype": "text/x-python",
   "name": "python",
   "nbconvert_exporter": "python",
   "pygments_lexer": "ipython3",
   "version": "3.7.12"
  },
  "papermill": {
   "default_parameters": {},
   "duration": 10.317551,
   "end_time": "2022-04-19T13:15:36.424262",
   "environment_variables": {},
   "exception": null,
   "input_path": "__notebook__.ipynb",
   "output_path": "__notebook__.ipynb",
   "parameters": {},
   "start_time": "2022-04-19T13:15:26.106711",
   "version": "2.3.4"
  }
 },
 "nbformat": 4,
 "nbformat_minor": 5
}
