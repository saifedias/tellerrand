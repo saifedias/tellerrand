{
 "cells": [
  {
   "cell_type": "markdown",
   "id": "0484e404",
   "metadata": {
    "papermill": {
     "duration": 0.021022,
     "end_time": "2022-04-14T12:49:59.835217",
     "exception": false,
     "start_time": "2022-04-14T12:49:59.814195",
     "status": "completed"
    },
    "tags": []
   },
   "source": [
    "# import modules etc"
   ]
  },
  {
   "cell_type": "code",
   "execution_count": 1,
   "id": "bdf299e2",
   "metadata": {
    "_cell_guid": "b1076dfc-b9ad-4769-8c92-a6c4dae69d19",
    "_uuid": "8f2839f25d086af736a60e9eeb907d3b93b6e0e5",
    "execution": {
     "iopub.execute_input": "2022-04-14T12:49:59.880799Z",
     "iopub.status.busy": "2022-04-14T12:49:59.879591Z",
     "iopub.status.idle": "2022-04-14T12:50:01.386112Z",
     "shell.execute_reply": "2022-04-14T12:50:01.385251Z",
     "shell.execute_reply.started": "2022-04-14T12:37:17.476596Z"
    },
    "papermill": {
     "duration": 1.529702,
     "end_time": "2022-04-14T12:50:01.386318",
     "exception": false,
     "start_time": "2022-04-14T12:49:59.856616",
     "status": "completed"
    },
    "tags": []
   },
   "outputs": [],
   "source": [
    "import pandas as pd\n",
    "from sklearn.model_selection import GridSearchCV, RepeatedKFold\n",
    "from sklearn import ensemble\n",
    "import graphviz"
   ]
  },
  {
   "cell_type": "markdown",
   "id": "e507a6b0",
   "metadata": {
    "papermill": {
     "duration": 0.018536,
     "end_time": "2022-04-14T12:50:01.423806",
     "exception": false,
     "start_time": "2022-04-14T12:50:01.405270",
     "status": "completed"
    },
    "tags": []
   },
   "source": [
    "---\n",
    "# functions"
   ]
  },
  {
   "cell_type": "markdown",
   "id": "bdbb5f16",
   "metadata": {
    "papermill": {
     "duration": 0.018578,
     "end_time": "2022-04-14T12:50:01.461263",
     "exception": false,
     "start_time": "2022-04-14T12:50:01.442685",
     "status": "completed"
    },
    "tags": []
   },
   "source": [
    "### hyperparameter"
   ]
  },
  {
   "cell_type": "code",
   "execution_count": 2,
   "id": "556b96f1",
   "metadata": {
    "execution": {
     "iopub.execute_input": "2022-04-14T12:50:01.502755Z",
     "iopub.status.busy": "2022-04-14T12:50:01.502030Z",
     "iopub.status.idle": "2022-04-14T12:50:01.508179Z",
     "shell.execute_reply": "2022-04-14T12:50:01.508700Z",
     "shell.execute_reply.started": "2022-04-14T12:37:18.072842Z"
    },
    "papermill": {
     "duration": 0.028555,
     "end_time": "2022-04-14T12:50:01.508892",
     "exception": false,
     "start_time": "2022-04-14T12:50:01.480337",
     "status": "completed"
    },
    "tags": []
   },
   "outputs": [],
   "source": [
    "def select_model_hyperparams(X, y):\n",
    "    tree_params = {\"max_features\": [5],\n",
    "                   \"n_estimators\": [200],\n",
    "                   \"max_depth\": [17, 18],\n",
    "                   \"max_leaf_nodes\": [65, 66, 67],\n",
    "                   #\"min_samples_leaf\": [1, 2, 3],\n",
    "                  }\n",
    "\n",
    "    clf = GridSearchCV(ensemble.RandomForestClassifier(random_state=1),\n",
    "                      param_grid=tree_params,\n",
    "                      scoring=\"accuracy\",\n",
    "                      cv = RepeatedKFold(n_splits=5, n_repeats=20, random_state=2),\n",
    "                      n_jobs=-1,\n",
    "                      verbose=1)\n",
    "\n",
    "    return clf.fit(X, y)"
   ]
  },
  {
   "cell_type": "markdown",
   "id": "c7e89cfe",
   "metadata": {
    "papermill": {
     "duration": 0.018549,
     "end_time": "2022-04-14T12:50:01.547102",
     "exception": false,
     "start_time": "2022-04-14T12:50:01.528553",
     "status": "completed"
    },
    "tags": []
   },
   "source": [
    "### prepare input (X) data for train & test"
   ]
  },
  {
   "cell_type": "code",
   "execution_count": 3,
   "id": "341113b4",
   "metadata": {
    "execution": {
     "iopub.execute_input": "2022-04-14T12:50:01.589136Z",
     "iopub.status.busy": "2022-04-14T12:50:01.588463Z",
     "iopub.status.idle": "2022-04-14T12:50:01.593311Z",
     "shell.execute_reply": "2022-04-14T12:50:01.593861Z",
     "shell.execute_reply.started": "2022-04-14T12:37:18.082328Z"
    },
    "papermill": {
     "duration": 0.027894,
     "end_time": "2022-04-14T12:50:01.594091",
     "exception": false,
     "start_time": "2022-04-14T12:50:01.566197",
     "status": "completed"
    },
    "tags": []
   },
   "outputs": [],
   "source": [
    "def prepare_Xdata(data):\n",
    "    feature_names = [\"Pclass\", \"Sex\", \"Age\", \"SibSp\", \"Parch\", \"Fare\", \"Embarked\"]\n",
    "    X = data[feature_names]\n",
    "    \n",
    "    X = pd.get_dummies(X)\n",
    "    new_feature_names = X.columns\n",
    "    \n",
    "    X.fillna(value=X.Age.median(), axis=1, inplace=True)\n",
    "    \n",
    "    return (X, new_feature_names)    "
   ]
  },
  {
   "cell_type": "markdown",
   "id": "3ee23ee6",
   "metadata": {
    "execution": {
     "iopub.execute_input": "2022-04-14T09:29:24.688951Z",
     "iopub.status.busy": "2022-04-14T09:29:24.688383Z",
     "iopub.status.idle": "2022-04-14T09:29:24.694033Z",
     "shell.execute_reply": "2022-04-14T09:29:24.693052Z",
     "shell.execute_reply.started": "2022-04-14T09:29:24.68892Z"
    },
    "papermill": {
     "duration": 0.018883,
     "end_time": "2022-04-14T12:50:01.631844",
     "exception": false,
     "start_time": "2022-04-14T12:50:01.612961",
     "status": "completed"
    },
    "tags": []
   },
   "source": [
    "---\n",
    "# main"
   ]
  },
  {
   "cell_type": "code",
   "execution_count": 4,
   "id": "a7dae7b0",
   "metadata": {
    "execution": {
     "iopub.execute_input": "2022-04-14T12:50:01.672649Z",
     "iopub.status.busy": "2022-04-14T12:50:01.671957Z",
     "iopub.status.idle": "2022-04-14T12:50:01.707583Z",
     "shell.execute_reply": "2022-04-14T12:50:01.708383Z",
     "shell.execute_reply.started": "2022-04-14T12:37:18.098563Z"
    },
    "papermill": {
     "duration": 0.057985,
     "end_time": "2022-04-14T12:50:01.708665",
     "exception": false,
     "start_time": "2022-04-14T12:50:01.650680",
     "status": "completed"
    },
    "tags": []
   },
   "outputs": [
    {
     "name": "stdout",
     "output_type": "stream",
     "text": [
      "(891, 12)\n",
      "(418, 11)\n"
     ]
    }
   ],
   "source": [
    "train_data = pd.read_csv(\"/kaggle/input/titanic/train.csv\")\n",
    "test_data = pd.read_csv(\"/kaggle/input/titanic/test.csv\")\n",
    "print(train_data.shape)\n",
    "print(test_data.shape)"
   ]
  },
  {
   "cell_type": "code",
   "execution_count": 5,
   "id": "f10fd59c",
   "metadata": {
    "execution": {
     "iopub.execute_input": "2022-04-14T12:50:01.752255Z",
     "iopub.status.busy": "2022-04-14T12:50:01.751597Z",
     "iopub.status.idle": "2022-04-14T12:50:01.784702Z",
     "shell.execute_reply": "2022-04-14T12:50:01.785284Z",
     "shell.execute_reply.started": "2022-04-14T12:37:18.129282Z"
    },
    "papermill": {
     "duration": 0.056016,
     "end_time": "2022-04-14T12:50:01.785499",
     "exception": false,
     "start_time": "2022-04-14T12:50:01.729483",
     "status": "completed"
    },
    "tags": []
   },
   "outputs": [],
   "source": [
    "X_train, feature_names = prepare_Xdata(train_data)\n",
    "X_test, _ = prepare_Xdata(test_data)"
   ]
  },
  {
   "cell_type": "code",
   "execution_count": 6,
   "id": "8dc9dbb7",
   "metadata": {
    "execution": {
     "iopub.execute_input": "2022-04-14T12:50:01.827587Z",
     "iopub.status.busy": "2022-04-14T12:50:01.826912Z",
     "iopub.status.idle": "2022-04-14T12:50:01.843669Z",
     "shell.execute_reply": "2022-04-14T12:50:01.844449Z",
     "shell.execute_reply.started": "2022-04-14T12:37:18.154523Z"
    },
    "papermill": {
     "duration": 0.039788,
     "end_time": "2022-04-14T12:50:01.844710",
     "exception": false,
     "start_time": "2022-04-14T12:50:01.804922",
     "status": "completed"
    },
    "tags": []
   },
   "outputs": [
    {
     "name": "stdout",
     "output_type": "stream",
     "text": [
      "<class 'pandas.core.frame.DataFrame'>\n",
      "RangeIndex: 891 entries, 0 to 890\n",
      "Data columns (total 10 columns):\n",
      " #   Column      Non-Null Count  Dtype  \n",
      "---  ------      --------------  -----  \n",
      " 0   Pclass      891 non-null    int64  \n",
      " 1   Age         891 non-null    float64\n",
      " 2   SibSp       891 non-null    int64  \n",
      " 3   Parch       891 non-null    int64  \n",
      " 4   Fare        891 non-null    float64\n",
      " 5   Sex_female  891 non-null    uint8  \n",
      " 6   Sex_male    891 non-null    uint8  \n",
      " 7   Embarked_C  891 non-null    uint8  \n",
      " 8   Embarked_Q  891 non-null    uint8  \n",
      " 9   Embarked_S  891 non-null    uint8  \n",
      "dtypes: float64(2), int64(3), uint8(5)\n",
      "memory usage: 39.3 KB\n"
     ]
    }
   ],
   "source": [
    "X_train.info()"
   ]
  },
  {
   "cell_type": "code",
   "execution_count": 7,
   "id": "8e34fb5b",
   "metadata": {
    "execution": {
     "iopub.execute_input": "2022-04-14T12:50:01.889406Z",
     "iopub.status.busy": "2022-04-14T12:50:01.888741Z",
     "iopub.status.idle": "2022-04-14T12:50:01.901789Z",
     "shell.execute_reply": "2022-04-14T12:50:01.901131Z",
     "shell.execute_reply.started": "2022-04-14T12:37:18.172467Z"
    },
    "papermill": {
     "duration": 0.035878,
     "end_time": "2022-04-14T12:50:01.901948",
     "exception": false,
     "start_time": "2022-04-14T12:50:01.866070",
     "status": "completed"
    },
    "tags": []
   },
   "outputs": [
    {
     "name": "stdout",
     "output_type": "stream",
     "text": [
      "<class 'pandas.core.frame.DataFrame'>\n",
      "RangeIndex: 418 entries, 0 to 417\n",
      "Data columns (total 10 columns):\n",
      " #   Column      Non-Null Count  Dtype  \n",
      "---  ------      --------------  -----  \n",
      " 0   Pclass      418 non-null    int64  \n",
      " 1   Age         418 non-null    float64\n",
      " 2   SibSp       418 non-null    int64  \n",
      " 3   Parch       418 non-null    int64  \n",
      " 4   Fare        418 non-null    float64\n",
      " 5   Sex_female  418 non-null    uint8  \n",
      " 6   Sex_male    418 non-null    uint8  \n",
      " 7   Embarked_C  418 non-null    uint8  \n",
      " 8   Embarked_Q  418 non-null    uint8  \n",
      " 9   Embarked_S  418 non-null    uint8  \n",
      "dtypes: float64(2), int64(3), uint8(5)\n",
      "memory usage: 18.5 KB\n"
     ]
    }
   ],
   "source": [
    "X_test.info()"
   ]
  },
  {
   "cell_type": "code",
   "execution_count": 8,
   "id": "a60cd949",
   "metadata": {
    "execution": {
     "iopub.execute_input": "2022-04-14T12:50:01.948421Z",
     "iopub.status.busy": "2022-04-14T12:50:01.946222Z",
     "iopub.status.idle": "2022-04-14T12:51:46.659450Z",
     "shell.execute_reply": "2022-04-14T12:51:46.658829Z",
     "shell.execute_reply.started": "2022-04-14T12:37:18.188855Z"
    },
    "papermill": {
     "duration": 104.736513,
     "end_time": "2022-04-14T12:51:46.659648",
     "exception": false,
     "start_time": "2022-04-14T12:50:01.923135",
     "status": "completed"
    },
    "tags": []
   },
   "outputs": [
    {
     "name": "stdout",
     "output_type": "stream",
     "text": [
      "Fitting 100 folds for each of 6 candidates, totalling 600 fits\n"
     ]
    }
   ],
   "source": [
    "clf = select_model_hyperparams(X_train, train_data.Survived);"
   ]
  },
  {
   "cell_type": "code",
   "execution_count": 9,
   "id": "9d6f6c75",
   "metadata": {
    "execution": {
     "iopub.execute_input": "2022-04-14T12:51:46.708299Z",
     "iopub.status.busy": "2022-04-14T12:51:46.707518Z",
     "iopub.status.idle": "2022-04-14T12:51:46.710601Z",
     "shell.execute_reply": "2022-04-14T12:51:46.711512Z",
     "shell.execute_reply.started": "2022-04-14T12:46:02.762904Z"
    },
    "papermill": {
     "duration": 0.031325,
     "end_time": "2022-04-14T12:51:46.711779",
     "exception": false,
     "start_time": "2022-04-14T12:51:46.680454",
     "status": "completed"
    },
    "tags": []
   },
   "outputs": [
    {
     "name": "stdout",
     "output_type": "stream",
     "text": [
      "Best average validation score: 0.831\n",
      "  Param: max_depth = 17\n",
      "  Param: max_features = 5\n",
      "  Param: max_leaf_nodes = 67\n",
      "  Param: n_estimators = 200\n"
     ]
    }
   ],
   "source": [
    "print(\"Best average validation score: {}\".format(clf.best_score_.round(3)))\n",
    "for pname, pvalue in clf.best_params_.items():\n",
    "    print(\"  Param: {} = {}\".format(pname, pvalue))"
   ]
  },
  {
   "cell_type": "code",
   "execution_count": 10,
   "id": "331fcea7",
   "metadata": {
    "execution": {
     "iopub.execute_input": "2022-04-14T12:51:46.760242Z",
     "iopub.status.busy": "2022-04-14T12:51:46.759567Z",
     "iopub.status.idle": "2022-04-14T12:51:46.796260Z",
     "shell.execute_reply": "2022-04-14T12:51:46.796829Z",
     "shell.execute_reply.started": "2022-04-14T12:46:02.771953Z"
    },
    "papermill": {
     "duration": 0.06197,
     "end_time": "2022-04-14T12:51:46.797031",
     "exception": false,
     "start_time": "2022-04-14T12:51:46.735061",
     "status": "completed"
    },
    "tags": []
   },
   "outputs": [],
   "source": [
    "predictions = clf.predict(X_test)"
   ]
  },
  {
   "cell_type": "code",
   "execution_count": 11,
   "id": "0ab3820c",
   "metadata": {
    "execution": {
     "iopub.execute_input": "2022-04-14T12:51:46.842162Z",
     "iopub.status.busy": "2022-04-14T12:51:46.841459Z",
     "iopub.status.idle": "2022-04-14T12:51:46.858293Z",
     "shell.execute_reply": "2022-04-14T12:51:46.858792Z",
     "shell.execute_reply.started": "2022-04-14T12:46:02.836132Z"
    },
    "papermill": {
     "duration": 0.041084,
     "end_time": "2022-04-14T12:51:46.858987",
     "exception": false,
     "start_time": "2022-04-14T12:51:46.817903",
     "status": "completed"
    },
    "tags": []
   },
   "outputs": [
    {
     "data": {
      "text/html": [
       "<div>\n",
       "<style scoped>\n",
       "    .dataframe tbody tr th:only-of-type {\n",
       "        vertical-align: middle;\n",
       "    }\n",
       "\n",
       "    .dataframe tbody tr th {\n",
       "        vertical-align: top;\n",
       "    }\n",
       "\n",
       "    .dataframe thead th {\n",
       "        text-align: right;\n",
       "    }\n",
       "</style>\n",
       "<table border=\"1\" class=\"dataframe\">\n",
       "  <thead>\n",
       "    <tr style=\"text-align: right;\">\n",
       "      <th></th>\n",
       "      <th>PassengerId</th>\n",
       "      <th>Survived</th>\n",
       "    </tr>\n",
       "  </thead>\n",
       "  <tbody>\n",
       "    <tr>\n",
       "      <th>0</th>\n",
       "      <td>892</td>\n",
       "      <td>0</td>\n",
       "    </tr>\n",
       "    <tr>\n",
       "      <th>1</th>\n",
       "      <td>893</td>\n",
       "      <td>0</td>\n",
       "    </tr>\n",
       "    <tr>\n",
       "      <th>2</th>\n",
       "      <td>894</td>\n",
       "      <td>0</td>\n",
       "    </tr>\n",
       "    <tr>\n",
       "      <th>3</th>\n",
       "      <td>895</td>\n",
       "      <td>0</td>\n",
       "    </tr>\n",
       "    <tr>\n",
       "      <th>4</th>\n",
       "      <td>896</td>\n",
       "      <td>1</td>\n",
       "    </tr>\n",
       "  </tbody>\n",
       "</table>\n",
       "</div>"
      ],
      "text/plain": [
       "   PassengerId  Survived\n",
       "0          892         0\n",
       "1          893         0\n",
       "2          894         0\n",
       "3          895         0\n",
       "4          896         1"
      ]
     },
     "execution_count": 11,
     "metadata": {},
     "output_type": "execute_result"
    }
   ],
   "source": [
    "output = pd.DataFrame({'PassengerId': test_data.PassengerId, 'Survived': predictions})\n",
    "output.head()"
   ]
  },
  {
   "cell_type": "code",
   "execution_count": 12,
   "id": "36c08304",
   "metadata": {
    "execution": {
     "iopub.execute_input": "2022-04-14T12:51:46.906243Z",
     "iopub.status.busy": "2022-04-14T12:51:46.905558Z",
     "iopub.status.idle": "2022-04-14T12:51:46.915936Z",
     "shell.execute_reply": "2022-04-14T12:51:46.916619Z",
     "shell.execute_reply.started": "2022-04-14T12:46:02.853439Z"
    },
    "papermill": {
     "duration": 0.03553,
     "end_time": "2022-04-14T12:51:46.916821",
     "exception": false,
     "start_time": "2022-04-14T12:51:46.881291",
     "status": "completed"
    },
    "tags": []
   },
   "outputs": [
    {
     "name": "stdout",
     "output_type": "stream",
     "text": [
      "<class 'pandas.core.frame.DataFrame'>\n",
      "RangeIndex: 418 entries, 0 to 417\n",
      "Data columns (total 2 columns):\n",
      " #   Column       Non-Null Count  Dtype\n",
      "---  ------       --------------  -----\n",
      " 0   PassengerId  418 non-null    int64\n",
      " 1   Survived     418 non-null    int64\n",
      "dtypes: int64(2)\n",
      "memory usage: 6.7 KB\n"
     ]
    }
   ],
   "source": [
    "output.info()"
   ]
  },
  {
   "cell_type": "code",
   "execution_count": 13,
   "id": "583ed05f",
   "metadata": {
    "execution": {
     "iopub.execute_input": "2022-04-14T12:51:46.966339Z",
     "iopub.status.busy": "2022-04-14T12:51:46.965695Z",
     "iopub.status.idle": "2022-04-14T12:51:46.974358Z",
     "shell.execute_reply": "2022-04-14T12:51:46.974929Z",
     "shell.execute_reply.started": "2022-04-14T12:46:02.872789Z"
    },
    "papermill": {
     "duration": 0.034136,
     "end_time": "2022-04-14T12:51:46.975139",
     "exception": false,
     "start_time": "2022-04-14T12:51:46.941003",
     "status": "completed"
    },
    "tags": []
   },
   "outputs": [],
   "source": [
    "output.to_csv('submission_01_sc_rf.csv', index=False)"
   ]
  },
  {
   "cell_type": "code",
   "execution_count": 14,
   "id": "592b165c",
   "metadata": {
    "execution": {
     "iopub.execute_input": "2022-04-14T12:51:47.023873Z",
     "iopub.status.busy": "2022-04-14T12:51:47.023206Z",
     "iopub.status.idle": "2022-04-14T12:51:47.031325Z",
     "shell.execute_reply": "2022-04-14T12:51:47.031935Z",
     "shell.execute_reply.started": "2022-04-14T12:46:02.881958Z"
    },
    "papermill": {
     "duration": 0.034446,
     "end_time": "2022-04-14T12:51:47.032124",
     "exception": false,
     "start_time": "2022-04-14T12:51:46.997678",
     "status": "completed"
    },
    "tags": []
   },
   "outputs": [
    {
     "data": {
      "text/html": [
       "<div>\n",
       "<style scoped>\n",
       "    .dataframe tbody tr th:only-of-type {\n",
       "        vertical-align: middle;\n",
       "    }\n",
       "\n",
       "    .dataframe tbody tr th {\n",
       "        vertical-align: top;\n",
       "    }\n",
       "\n",
       "    .dataframe thead th {\n",
       "        text-align: right;\n",
       "    }\n",
       "</style>\n",
       "<table border=\"1\" class=\"dataframe\">\n",
       "  <thead>\n",
       "    <tr style=\"text-align: right;\">\n",
       "      <th></th>\n",
       "      <th>PassengerId</th>\n",
       "      <th>Survived</th>\n",
       "    </tr>\n",
       "  </thead>\n",
       "  <tbody>\n",
       "    <tr>\n",
       "      <th>0</th>\n",
       "      <td>892</td>\n",
       "      <td>0</td>\n",
       "    </tr>\n",
       "    <tr>\n",
       "      <th>1</th>\n",
       "      <td>893</td>\n",
       "      <td>0</td>\n",
       "    </tr>\n",
       "    <tr>\n",
       "      <th>2</th>\n",
       "      <td>894</td>\n",
       "      <td>0</td>\n",
       "    </tr>\n",
       "    <tr>\n",
       "      <th>3</th>\n",
       "      <td>895</td>\n",
       "      <td>0</td>\n",
       "    </tr>\n",
       "    <tr>\n",
       "      <th>4</th>\n",
       "      <td>896</td>\n",
       "      <td>1</td>\n",
       "    </tr>\n",
       "    <tr>\n",
       "      <th>5</th>\n",
       "      <td>897</td>\n",
       "      <td>0</td>\n",
       "    </tr>\n",
       "    <tr>\n",
       "      <th>6</th>\n",
       "      <td>898</td>\n",
       "      <td>0</td>\n",
       "    </tr>\n",
       "    <tr>\n",
       "      <th>7</th>\n",
       "      <td>899</td>\n",
       "      <td>0</td>\n",
       "    </tr>\n",
       "    <tr>\n",
       "      <th>8</th>\n",
       "      <td>900</td>\n",
       "      <td>1</td>\n",
       "    </tr>\n",
       "    <tr>\n",
       "      <th>9</th>\n",
       "      <td>901</td>\n",
       "      <td>0</td>\n",
       "    </tr>\n",
       "  </tbody>\n",
       "</table>\n",
       "</div>"
      ],
      "text/plain": [
       "   PassengerId  Survived\n",
       "0          892         0\n",
       "1          893         0\n",
       "2          894         0\n",
       "3          895         0\n",
       "4          896         1\n",
       "5          897         0\n",
       "6          898         0\n",
       "7          899         0\n",
       "8          900         1\n",
       "9          901         0"
      ]
     },
     "execution_count": 14,
     "metadata": {},
     "output_type": "execute_result"
    }
   ],
   "source": [
    "output.head(10)"
   ]
  },
  {
   "cell_type": "code",
   "execution_count": null,
   "id": "c55cad8c",
   "metadata": {
    "papermill": {
     "duration": 0.021944,
     "end_time": "2022-04-14T12:51:47.076401",
     "exception": false,
     "start_time": "2022-04-14T12:51:47.054457",
     "status": "completed"
    },
    "tags": []
   },
   "outputs": [],
   "source": []
  }
 ],
 "metadata": {
  "kernelspec": {
   "display_name": "Python 3",
   "language": "python",
   "name": "python3"
  },
  "language_info": {
   "codemirror_mode": {
    "name": "ipython",
    "version": 3
   },
   "file_extension": ".py",
   "mimetype": "text/x-python",
   "name": "python",
   "nbconvert_exporter": "python",
   "pygments_lexer": "ipython3",
   "version": "3.7.12"
  },
  "papermill": {
   "default_parameters": {},
   "duration": 118.601029,
   "end_time": "2022-04-14T12:51:47.912826",
   "environment_variables": {},
   "exception": null,
   "input_path": "__notebook__.ipynb",
   "output_path": "__notebook__.ipynb",
   "parameters": {},
   "start_time": "2022-04-14T12:49:49.311797",
   "version": "2.3.3"
  }
 },
 "nbformat": 4,
 "nbformat_minor": 5
}
