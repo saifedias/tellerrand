{
 "cells": [
  {
   "cell_type": "markdown",
   "id": "a2da3b35",
   "metadata": {
    "papermill": {
     "duration": 0.023364,
     "end_time": "2022-04-14T13:00:45.136347",
     "exception": false,
     "start_time": "2022-04-14T13:00:45.112983",
     "status": "completed"
    },
    "tags": []
   },
   "source": [
    "# import modules etc"
   ]
  },
  {
   "cell_type": "code",
   "execution_count": 1,
   "id": "616cf9cc",
   "metadata": {
    "_cell_guid": "b1076dfc-b9ad-4769-8c92-a6c4dae69d19",
    "_uuid": "8f2839f25d086af736a60e9eeb907d3b93b6e0e5",
    "execution": {
     "iopub.execute_input": "2022-04-14T13:00:45.189119Z",
     "iopub.status.busy": "2022-04-14T13:00:45.187546Z",
     "iopub.status.idle": "2022-04-14T13:00:46.339691Z",
     "shell.execute_reply": "2022-04-14T13:00:46.340203Z",
     "shell.execute_reply.started": "2022-04-14T12:49:58.673518Z"
    },
    "papermill": {
     "duration": 1.181066,
     "end_time": "2022-04-14T13:00:46.340434",
     "exception": false,
     "start_time": "2022-04-14T13:00:45.159368",
     "status": "completed"
    },
    "tags": []
   },
   "outputs": [],
   "source": [
    "import pandas as pd\n",
    "from sklearn.model_selection import GridSearchCV, RepeatedKFold\n",
    "from sklearn import ensemble\n",
    "import graphviz"
   ]
  },
  {
   "cell_type": "markdown",
   "id": "beb6126a",
   "metadata": {
    "papermill": {
     "duration": 0.01467,
     "end_time": "2022-04-14T13:00:46.370219",
     "exception": false,
     "start_time": "2022-04-14T13:00:46.355549",
     "status": "completed"
    },
    "tags": []
   },
   "source": [
    "---\n",
    "# functions"
   ]
  },
  {
   "cell_type": "markdown",
   "id": "8f2ffd81",
   "metadata": {
    "papermill": {
     "duration": 0.014756,
     "end_time": "2022-04-14T13:00:46.400087",
     "exception": false,
     "start_time": "2022-04-14T13:00:46.385331",
     "status": "completed"
    },
    "tags": []
   },
   "source": [
    "### hyperparameter"
   ]
  },
  {
   "cell_type": "code",
   "execution_count": 2,
   "id": "e3dbd298",
   "metadata": {
    "execution": {
     "iopub.execute_input": "2022-04-14T13:00:46.432589Z",
     "iopub.status.busy": "2022-04-14T13:00:46.432071Z",
     "iopub.status.idle": "2022-04-14T13:00:46.437802Z",
     "shell.execute_reply": "2022-04-14T13:00:46.438225Z",
     "shell.execute_reply.started": "2022-04-14T12:49:58.771702Z"
    },
    "papermill": {
     "duration": 0.023241,
     "end_time": "2022-04-14T13:00:46.438371",
     "exception": false,
     "start_time": "2022-04-14T13:00:46.415130",
     "status": "completed"
    },
    "tags": []
   },
   "outputs": [],
   "source": [
    "def select_model_hyperparams(X, y):\n",
    "    tree_params = {\"max_features\": [5],\n",
    "                   \"n_estimators\": [200],\n",
    "                   \"max_depth\": [17, 18],\n",
    "                   \"max_leaf_nodes\": [65, 66, 67],\n",
    "                   #\"min_samples_leaf\": [1, 2, 3],\n",
    "                  }\n",
    "\n",
    "    clf = GridSearchCV(ensemble.RandomForestClassifier(random_state=1),\n",
    "                      param_grid=tree_params,\n",
    "                      scoring=\"accuracy\",\n",
    "                      cv = RepeatedKFold(n_splits=5, n_repeats=20, random_state=2),\n",
    "                      n_jobs=-1,\n",
    "                      verbose=1)\n",
    "\n",
    "    return clf.fit(X, y)"
   ]
  },
  {
   "cell_type": "markdown",
   "id": "469de848",
   "metadata": {
    "papermill": {
     "duration": 0.015024,
     "end_time": "2022-04-14T13:00:46.468510",
     "exception": false,
     "start_time": "2022-04-14T13:00:46.453486",
     "status": "completed"
    },
    "tags": []
   },
   "source": [
    "### prepare input (X) data for train & test"
   ]
  },
  {
   "cell_type": "code",
   "execution_count": 3,
   "id": "d6fccd57",
   "metadata": {
    "execution": {
     "iopub.execute_input": "2022-04-14T13:00:46.502290Z",
     "iopub.status.busy": "2022-04-14T13:00:46.501784Z",
     "iopub.status.idle": "2022-04-14T13:00:46.506235Z",
     "shell.execute_reply": "2022-04-14T13:00:46.506710Z",
     "shell.execute_reply.started": "2022-04-14T12:49:58.863767Z"
    },
    "papermill": {
     "duration": 0.02279,
     "end_time": "2022-04-14T13:00:46.506839",
     "exception": false,
     "start_time": "2022-04-14T13:00:46.484049",
     "status": "completed"
    },
    "tags": []
   },
   "outputs": [],
   "source": [
    "def prepare_Xdata(data):\n",
    "    feature_names = [\"Pclass\", \"Sex\", \"Age\", \"SibSp\", \"Parch\", \"Fare\", \"Embarked\"]\n",
    "    X = data[feature_names]\n",
    "    \n",
    "    X = pd.get_dummies(X)\n",
    "    new_feature_names = X.columns\n",
    "    \n",
    "    X.fillna(value=X.Age.median(), axis=1, inplace=True)\n",
    "    \n",
    "    return (X, new_feature_names)    "
   ]
  },
  {
   "cell_type": "markdown",
   "id": "ddd9594b",
   "metadata": {
    "execution": {
     "iopub.execute_input": "2022-04-14T09:29:24.688951Z",
     "iopub.status.busy": "2022-04-14T09:29:24.688383Z",
     "iopub.status.idle": "2022-04-14T09:29:24.694033Z",
     "shell.execute_reply": "2022-04-14T09:29:24.693052Z",
     "shell.execute_reply.started": "2022-04-14T09:29:24.68892Z"
    },
    "papermill": {
     "duration": 0.014892,
     "end_time": "2022-04-14T13:00:46.536972",
     "exception": false,
     "start_time": "2022-04-14T13:00:46.522080",
     "status": "completed"
    },
    "tags": []
   },
   "source": [
    "---\n",
    "# main"
   ]
  },
  {
   "cell_type": "code",
   "execution_count": 4,
   "id": "16fbcddb",
   "metadata": {
    "execution": {
     "iopub.execute_input": "2022-04-14T13:00:46.569756Z",
     "iopub.status.busy": "2022-04-14T13:00:46.569186Z",
     "iopub.status.idle": "2022-04-14T13:00:46.597356Z",
     "shell.execute_reply": "2022-04-14T13:00:46.597786Z",
     "shell.execute_reply.started": "2022-04-14T12:49:58.921194Z"
    },
    "papermill": {
     "duration": 0.045971,
     "end_time": "2022-04-14T13:00:46.597913",
     "exception": false,
     "start_time": "2022-04-14T13:00:46.551942",
     "status": "completed"
    },
    "tags": []
   },
   "outputs": [
    {
     "name": "stdout",
     "output_type": "stream",
     "text": [
      "(891, 12)\n",
      "(418, 11)\n"
     ]
    }
   ],
   "source": [
    "train_data = pd.read_csv(\"/kaggle/input/titanic/train.csv\")\n",
    "test_data = pd.read_csv(\"/kaggle/input/titanic/test.csv\")\n",
    "print(train_data.shape)\n",
    "print(test_data.shape)"
   ]
  },
  {
   "cell_type": "code",
   "execution_count": 5,
   "id": "876f4d8e",
   "metadata": {
    "execution": {
     "iopub.execute_input": "2022-04-14T13:00:46.637985Z",
     "iopub.status.busy": "2022-04-14T13:00:46.637432Z",
     "iopub.status.idle": "2022-04-14T13:00:46.657712Z",
     "shell.execute_reply": "2022-04-14T13:00:46.658112Z",
     "shell.execute_reply.started": "2022-04-14T12:49:58.975517Z"
    },
    "papermill": {
     "duration": 0.044663,
     "end_time": "2022-04-14T13:00:46.658242",
     "exception": false,
     "start_time": "2022-04-14T13:00:46.613579",
     "status": "completed"
    },
    "tags": []
   },
   "outputs": [],
   "source": [
    "X_train, feature_names = prepare_Xdata(train_data)\n",
    "X_test, _ = prepare_Xdata(test_data)"
   ]
  },
  {
   "cell_type": "code",
   "execution_count": 6,
   "id": "fc656c95",
   "metadata": {
    "execution": {
     "iopub.execute_input": "2022-04-14T13:00:46.695457Z",
     "iopub.status.busy": "2022-04-14T13:00:46.694780Z",
     "iopub.status.idle": "2022-04-14T13:00:46.710222Z",
     "shell.execute_reply": "2022-04-14T13:00:46.709665Z",
     "shell.execute_reply.started": "2022-04-14T12:49:59.031463Z"
    },
    "papermill": {
     "duration": 0.036336,
     "end_time": "2022-04-14T13:00:46.710364",
     "exception": false,
     "start_time": "2022-04-14T13:00:46.674028",
     "status": "completed"
    },
    "tags": []
   },
   "outputs": [
    {
     "name": "stdout",
     "output_type": "stream",
     "text": [
      "<class 'pandas.core.frame.DataFrame'>\n",
      "RangeIndex: 891 entries, 0 to 890\n",
      "Data columns (total 10 columns):\n",
      " #   Column      Non-Null Count  Dtype  \n",
      "---  ------      --------------  -----  \n",
      " 0   Pclass      891 non-null    int64  \n",
      " 1   Age         891 non-null    float64\n",
      " 2   SibSp       891 non-null    int64  \n",
      " 3   Parch       891 non-null    int64  \n",
      " 4   Fare        891 non-null    float64\n",
      " 5   Sex_female  891 non-null    uint8  \n",
      " 6   Sex_male    891 non-null    uint8  \n",
      " 7   Embarked_C  891 non-null    uint8  \n",
      " 8   Embarked_Q  891 non-null    uint8  \n",
      " 9   Embarked_S  891 non-null    uint8  \n",
      "dtypes: float64(2), int64(3), uint8(5)\n",
      "memory usage: 39.3 KB\n"
     ]
    }
   ],
   "source": [
    "X_train.info()"
   ]
  },
  {
   "cell_type": "code",
   "execution_count": 7,
   "id": "34753968",
   "metadata": {
    "execution": {
     "iopub.execute_input": "2022-04-14T13:00:46.762478Z",
     "iopub.status.busy": "2022-04-14T13:00:46.761895Z",
     "iopub.status.idle": "2022-04-14T13:00:46.770227Z",
     "shell.execute_reply": "2022-04-14T13:00:46.769612Z",
     "shell.execute_reply.started": "2022-04-14T12:49:59.088038Z"
    },
    "papermill": {
     "duration": 0.036382,
     "end_time": "2022-04-14T13:00:46.770365",
     "exception": false,
     "start_time": "2022-04-14T13:00:46.733983",
     "status": "completed"
    },
    "tags": []
   },
   "outputs": [
    {
     "name": "stdout",
     "output_type": "stream",
     "text": [
      "<class 'pandas.core.frame.DataFrame'>\n",
      "RangeIndex: 418 entries, 0 to 417\n",
      "Data columns (total 10 columns):\n",
      " #   Column      Non-Null Count  Dtype  \n",
      "---  ------      --------------  -----  \n",
      " 0   Pclass      418 non-null    int64  \n",
      " 1   Age         418 non-null    float64\n",
      " 2   SibSp       418 non-null    int64  \n",
      " 3   Parch       418 non-null    int64  \n",
      " 4   Fare        418 non-null    float64\n",
      " 5   Sex_female  418 non-null    uint8  \n",
      " 6   Sex_male    418 non-null    uint8  \n",
      " 7   Embarked_C  418 non-null    uint8  \n",
      " 8   Embarked_Q  418 non-null    uint8  \n",
      " 9   Embarked_S  418 non-null    uint8  \n",
      "dtypes: float64(2), int64(3), uint8(5)\n",
      "memory usage: 18.5 KB\n"
     ]
    }
   ],
   "source": [
    "X_test.info()"
   ]
  },
  {
   "cell_type": "code",
   "execution_count": 8,
   "id": "2164d1cb",
   "metadata": {
    "execution": {
     "iopub.execute_input": "2022-04-14T13:00:46.822614Z",
     "iopub.status.busy": "2022-04-14T13:00:46.821977Z",
     "iopub.status.idle": "2022-04-14T13:02:06.612662Z",
     "shell.execute_reply": "2022-04-14T13:02:06.612231Z",
     "shell.execute_reply.started": "2022-04-14T12:49:59.147036Z"
    },
    "papermill": {
     "duration": 79.817766,
     "end_time": "2022-04-14T13:02:06.612773",
     "exception": false,
     "start_time": "2022-04-14T13:00:46.795007",
     "status": "completed"
    },
    "tags": []
   },
   "outputs": [
    {
     "name": "stdout",
     "output_type": "stream",
     "text": [
      "Fitting 100 folds for each of 6 candidates, totalling 600 fits\n"
     ]
    }
   ],
   "source": [
    "clf = select_model_hyperparams(X_train, train_data.Survived);"
   ]
  },
  {
   "cell_type": "code",
   "execution_count": 9,
   "id": "6b1292ca",
   "metadata": {
    "execution": {
     "iopub.execute_input": "2022-04-14T13:02:06.649054Z",
     "iopub.status.busy": "2022-04-14T13:02:06.648566Z",
     "iopub.status.idle": "2022-04-14T13:02:06.655904Z",
     "shell.execute_reply": "2022-04-14T13:02:06.655451Z",
     "shell.execute_reply.started": "2022-04-14T12:51:54.792236Z"
    },
    "papermill": {
     "duration": 0.026103,
     "end_time": "2022-04-14T13:02:06.656002",
     "exception": false,
     "start_time": "2022-04-14T13:02:06.629899",
     "status": "completed"
    },
    "tags": []
   },
   "outputs": [
    {
     "name": "stdout",
     "output_type": "stream",
     "text": [
      "Best average validation score: 0.831\n",
      "  Param: max_depth = 17\n",
      "  Param: max_features = 5\n",
      "  Param: max_leaf_nodes = 67\n",
      "  Param: n_estimators = 200\n"
     ]
    }
   ],
   "source": [
    "print(\"Best average validation score: {}\".format(clf.best_score_.round(3)))\n",
    "for pname, pvalue in clf.best_params_.items():\n",
    "    print(\"  Param: {} = {}\".format(pname, pvalue))"
   ]
  },
  {
   "cell_type": "code",
   "execution_count": 10,
   "id": "4198920b",
   "metadata": {
    "execution": {
     "iopub.execute_input": "2022-04-14T13:02:06.695673Z",
     "iopub.status.busy": "2022-04-14T13:02:06.694986Z",
     "iopub.status.idle": "2022-04-14T13:02:06.725856Z",
     "shell.execute_reply": "2022-04-14T13:02:06.725417Z",
     "shell.execute_reply.started": "2022-04-14T12:51:54.802496Z"
    },
    "papermill": {
     "duration": 0.053083,
     "end_time": "2022-04-14T13:02:06.725966",
     "exception": false,
     "start_time": "2022-04-14T13:02:06.672883",
     "status": "completed"
    },
    "tags": []
   },
   "outputs": [],
   "source": [
    "predictions = clf.predict(X_test)"
   ]
  },
  {
   "cell_type": "code",
   "execution_count": 11,
   "id": "bc3b3c05",
   "metadata": {
    "execution": {
     "iopub.execute_input": "2022-04-14T13:02:06.765078Z",
     "iopub.status.busy": "2022-04-14T13:02:06.764621Z",
     "iopub.status.idle": "2022-04-14T13:02:06.776776Z",
     "shell.execute_reply": "2022-04-14T13:02:06.776352Z",
     "shell.execute_reply.started": "2022-04-14T12:51:54.864785Z"
    },
    "papermill": {
     "duration": 0.034274,
     "end_time": "2022-04-14T13:02:06.776877",
     "exception": false,
     "start_time": "2022-04-14T13:02:06.742603",
     "status": "completed"
    },
    "tags": []
   },
   "outputs": [
    {
     "data": {
      "text/html": [
       "<div>\n",
       "<style scoped>\n",
       "    .dataframe tbody tr th:only-of-type {\n",
       "        vertical-align: middle;\n",
       "    }\n",
       "\n",
       "    .dataframe tbody tr th {\n",
       "        vertical-align: top;\n",
       "    }\n",
       "\n",
       "    .dataframe thead th {\n",
       "        text-align: right;\n",
       "    }\n",
       "</style>\n",
       "<table border=\"1\" class=\"dataframe\">\n",
       "  <thead>\n",
       "    <tr style=\"text-align: right;\">\n",
       "      <th></th>\n",
       "      <th>PassengerId</th>\n",
       "      <th>Survived</th>\n",
       "    </tr>\n",
       "  </thead>\n",
       "  <tbody>\n",
       "    <tr>\n",
       "      <th>0</th>\n",
       "      <td>892</td>\n",
       "      <td>0</td>\n",
       "    </tr>\n",
       "    <tr>\n",
       "      <th>1</th>\n",
       "      <td>893</td>\n",
       "      <td>0</td>\n",
       "    </tr>\n",
       "    <tr>\n",
       "      <th>2</th>\n",
       "      <td>894</td>\n",
       "      <td>0</td>\n",
       "    </tr>\n",
       "    <tr>\n",
       "      <th>3</th>\n",
       "      <td>895</td>\n",
       "      <td>0</td>\n",
       "    </tr>\n",
       "    <tr>\n",
       "      <th>4</th>\n",
       "      <td>896</td>\n",
       "      <td>1</td>\n",
       "    </tr>\n",
       "  </tbody>\n",
       "</table>\n",
       "</div>"
      ],
      "text/plain": [
       "   PassengerId  Survived\n",
       "0          892         0\n",
       "1          893         0\n",
       "2          894         0\n",
       "3          895         0\n",
       "4          896         1"
      ]
     },
     "execution_count": 11,
     "metadata": {},
     "output_type": "execute_result"
    }
   ],
   "source": [
    "output = pd.DataFrame({'PassengerId': test_data.PassengerId, 'Survived': predictions})\n",
    "output.head()"
   ]
  },
  {
   "cell_type": "code",
   "execution_count": 12,
   "id": "7e817071",
   "metadata": {
    "execution": {
     "iopub.execute_input": "2022-04-14T13:02:06.821909Z",
     "iopub.status.busy": "2022-04-14T13:02:06.821399Z",
     "iopub.status.idle": "2022-04-14T13:02:06.824470Z",
     "shell.execute_reply": "2022-04-14T13:02:06.823995Z",
     "shell.execute_reply.started": "2022-04-14T12:51:54.879837Z"
    },
    "papermill": {
     "duration": 0.030235,
     "end_time": "2022-04-14T13:02:06.824598",
     "exception": false,
     "start_time": "2022-04-14T13:02:06.794363",
     "status": "completed"
    },
    "tags": []
   },
   "outputs": [
    {
     "name": "stdout",
     "output_type": "stream",
     "text": [
      "<class 'pandas.core.frame.DataFrame'>\n",
      "RangeIndex: 418 entries, 0 to 417\n",
      "Data columns (total 2 columns):\n",
      " #   Column       Non-Null Count  Dtype\n",
      "---  ------       --------------  -----\n",
      " 0   PassengerId  418 non-null    int64\n",
      " 1   Survived     418 non-null    int64\n",
      "dtypes: int64(2)\n",
      "memory usage: 6.7 KB\n"
     ]
    }
   ],
   "source": [
    "output.info()"
   ]
  },
  {
   "cell_type": "code",
   "execution_count": 13,
   "id": "6c831918",
   "metadata": {
    "execution": {
     "iopub.execute_input": "2022-04-14T13:02:06.867050Z",
     "iopub.status.busy": "2022-04-14T13:02:06.866602Z",
     "iopub.status.idle": "2022-04-14T13:02:06.872787Z",
     "shell.execute_reply": "2022-04-14T13:02:06.873290Z",
     "shell.execute_reply.started": "2022-04-14T12:51:54.902807Z"
    },
    "papermill": {
     "duration": 0.029736,
     "end_time": "2022-04-14T13:02:06.873466",
     "exception": false,
     "start_time": "2022-04-14T13:02:06.843730",
     "status": "completed"
    },
    "tags": []
   },
   "outputs": [],
   "source": [
    "output.to_csv('submission_01_sc_rf.csv', index=False)"
   ]
  },
  {
   "cell_type": "code",
   "execution_count": 14,
   "id": "cebff62d",
   "metadata": {
    "execution": {
     "iopub.execute_input": "2022-04-14T13:02:06.934505Z",
     "iopub.status.busy": "2022-04-14T13:02:06.933759Z",
     "iopub.status.idle": "2022-04-14T13:02:06.937012Z",
     "shell.execute_reply": "2022-04-14T13:02:06.937488Z",
     "shell.execute_reply.started": "2022-04-14T12:51:54.912691Z"
    },
    "papermill": {
     "duration": 0.037765,
     "end_time": "2022-04-14T13:02:06.937654",
     "exception": false,
     "start_time": "2022-04-14T13:02:06.899889",
     "status": "completed"
    },
    "tags": []
   },
   "outputs": [
    {
     "data": {
      "text/html": [
       "<div>\n",
       "<style scoped>\n",
       "    .dataframe tbody tr th:only-of-type {\n",
       "        vertical-align: middle;\n",
       "    }\n",
       "\n",
       "    .dataframe tbody tr th {\n",
       "        vertical-align: top;\n",
       "    }\n",
       "\n",
       "    .dataframe thead th {\n",
       "        text-align: right;\n",
       "    }\n",
       "</style>\n",
       "<table border=\"1\" class=\"dataframe\">\n",
       "  <thead>\n",
       "    <tr style=\"text-align: right;\">\n",
       "      <th></th>\n",
       "      <th>PassengerId</th>\n",
       "      <th>Survived</th>\n",
       "    </tr>\n",
       "  </thead>\n",
       "  <tbody>\n",
       "    <tr>\n",
       "      <th>0</th>\n",
       "      <td>892</td>\n",
       "      <td>0</td>\n",
       "    </tr>\n",
       "    <tr>\n",
       "      <th>1</th>\n",
       "      <td>893</td>\n",
       "      <td>0</td>\n",
       "    </tr>\n",
       "    <tr>\n",
       "      <th>2</th>\n",
       "      <td>894</td>\n",
       "      <td>0</td>\n",
       "    </tr>\n",
       "    <tr>\n",
       "      <th>3</th>\n",
       "      <td>895</td>\n",
       "      <td>0</td>\n",
       "    </tr>\n",
       "    <tr>\n",
       "      <th>4</th>\n",
       "      <td>896</td>\n",
       "      <td>1</td>\n",
       "    </tr>\n",
       "    <tr>\n",
       "      <th>5</th>\n",
       "      <td>897</td>\n",
       "      <td>0</td>\n",
       "    </tr>\n",
       "    <tr>\n",
       "      <th>6</th>\n",
       "      <td>898</td>\n",
       "      <td>0</td>\n",
       "    </tr>\n",
       "    <tr>\n",
       "      <th>7</th>\n",
       "      <td>899</td>\n",
       "      <td>0</td>\n",
       "    </tr>\n",
       "    <tr>\n",
       "      <th>8</th>\n",
       "      <td>900</td>\n",
       "      <td>1</td>\n",
       "    </tr>\n",
       "    <tr>\n",
       "      <th>9</th>\n",
       "      <td>901</td>\n",
       "      <td>0</td>\n",
       "    </tr>\n",
       "  </tbody>\n",
       "</table>\n",
       "</div>"
      ],
      "text/plain": [
       "   PassengerId  Survived\n",
       "0          892         0\n",
       "1          893         0\n",
       "2          894         0\n",
       "3          895         0\n",
       "4          896         1\n",
       "5          897         0\n",
       "6          898         0\n",
       "7          899         0\n",
       "8          900         1\n",
       "9          901         0"
      ]
     },
     "execution_count": 14,
     "metadata": {},
     "output_type": "execute_result"
    }
   ],
   "source": [
    "output.head(10)"
   ]
  },
  {
   "cell_type": "code",
   "execution_count": null,
   "id": "31302b75",
   "metadata": {
    "papermill": {
     "duration": 0.028497,
     "end_time": "2022-04-14T13:02:06.993184",
     "exception": false,
     "start_time": "2022-04-14T13:02:06.964687",
     "status": "completed"
    },
    "tags": []
   },
   "outputs": [],
   "source": []
  }
 ],
 "metadata": {
  "kernelspec": {
   "display_name": "Python 3",
   "language": "python",
   "name": "python3"
  },
  "language_info": {
   "codemirror_mode": {
    "name": "ipython",
    "version": 3
   },
   "file_extension": ".py",
   "mimetype": "text/x-python",
   "name": "python",
   "nbconvert_exporter": "python",
   "pygments_lexer": "ipython3",
   "version": "3.7.12"
  },
  "papermill": {
   "default_parameters": {},
   "duration": 92.805125,
   "end_time": "2022-04-14T13:02:08.030577",
   "environment_variables": {},
   "exception": null,
   "input_path": "__notebook__.ipynb",
   "output_path": "__notebook__.ipynb",
   "parameters": {},
   "start_time": "2022-04-14T13:00:35.225452",
   "version": "2.3.3"
  }
 },
 "nbformat": 4,
 "nbformat_minor": 5
}
